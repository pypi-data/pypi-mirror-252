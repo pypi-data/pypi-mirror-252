{
 "cells": [
  {
   "cell_type": "markdown",
   "id": "75006a36",
   "metadata": {},
   "source": [
    "# Upload Measurement Data and run Analysis\n",
    "\n",
    "Now you will post your measurement data and analysis to the database via the API.\n",
    "\n",
    "**If you are running the tutorials in DoLab, the following instructions are not necessary and you can skip directly to the next cell.**\n",
    "\n",
    "You will need to authenticate to the database with your username and password. To make this easy,  you can create a file called `.env` in this folder and complete it with your organization's URL and authentication information as follows:\n",
    "\n",
    "```bash\n",
    "dodata_url=https://animal.doplaydo.com\n",
    "dodata_user=demo\n",
    "dodata_password=yours\n",
    "dodata_db=animal.dodata.db.doplaydo.com\n",
    "dodata_db_user=full_access\n",
    "dodata_db_password=yours\n",
    "\n",
    "```\n",
    "\n",
    "If you haven't defined a `.env` file or saved your credentials to your environment variables, you will be prompted for your credentials now."
   ]
  },
  {
   "cell_type": "code",
   "execution_count": null,
   "id": "fc3fbbc8",
   "metadata": {},
   "outputs": [],
   "source": [
    "import doplaydo.dodata as dd\n",
    "import pandas as pd\n",
    "from pathlib import Path\n",
    "from tqdm.auto import tqdm\n",
    "import requests\n",
    "import getpass\n",
    "\n",
    "username = getpass.getuser()"
   ]
  },
  {
   "cell_type": "markdown",
   "id": "e02986bf",
   "metadata": {},
   "source": [
    "Let's now create a project. \n",
    "\n",
    "In normal circumstances, everyone will be sharing and contributing to a project. In this demo, however, we want to *keep your project separate* from other users for clarity, so we will append your username to the project name. This way you can also safely delete and recreate projects without creating issues for others. If you prefer though, you can change the `PROJECT_NAME` to anything you like. Just be sure to update it in the subsequent notebooks of this tutorial as well."
   ]
  },
  {
   "cell_type": "code",
   "execution_count": null,
   "id": "bd552077",
   "metadata": {},
   "outputs": [],
   "source": [
    "PROJECT_NAME = f\"rings-{username}\"\n",
    "MEASUREMENTS_PATH = Path(\"6d4c615ff105/\")"
   ]
  },
  {
   "cell_type": "markdown",
   "id": "3f40fdf8",
   "metadata": {},
   "source": [
    "If you've been running this demo multiple times, you might already have one with the same name. Let's delete it so you can start fresh."
   ]
  },
  {
   "cell_type": "code",
   "execution_count": null,
   "id": "2cd6235a",
   "metadata": {},
   "outputs": [],
   "source": [
    "dd.project.delete(project_name=PROJECT_NAME).text"
   ]
  },
  {
   "cell_type": "markdown",
   "id": "9af8532e",
   "metadata": {},
   "source": [
    "## New project\n",
    "\n",
    "You can create the project, upload the design manifest, and upload the wafer definitions through the Webapp as well as programmatically using this notebook"
   ]
  },
  {
   "cell_type": "markdown",
   "id": "d0dabe34",
   "metadata": {},
   "source": [
    "### Upload Project\n",
    "\n",
    "You can create a new project and extract all cells & devices below for the `RidgeLoss` and `RibLoss`\n",
    "\n",
    "The expressions are regex expressions. For intro and testing your regexes you can check out [regex101](https://regex101.com)\n",
    "\n",
    "To only extract top cells set `max_hierarchy_lvl=-1` and `min_hierarchy_lvl=-1`\n",
    "\n",
    "To disable extraction use a max_hierarchy_lvl < min_hierarchy_lvl\n",
    "\n",
    "Whitelists take precedence over blacklists, so if you define both, it uses only the whitelist."
   ]
  },
  {
   "cell_type": "code",
   "execution_count": null,
   "id": "a98b78e5",
   "metadata": {},
   "outputs": [],
   "source": [
    "cell_extraction = [\n",
    "    dd.project.Extraction(\n",
    "        cell_name=\"rings\",\n",
    "        cell_white_list=[\"^RingDouble\"],\n",
    "        min_hierarchy_lvl=0,\n",
    "        max_hierarchy_lvl=0,\n",
    "    )\n",
    "]\n",
    "\n",
    "dd.project.create(\n",
    "    project_name=PROJECT_NAME,\n",
    "    eda_file=\"test_chip.gds\",\n",
    "    lyp_file=\"generic.lyp\",\n",
    "    cell_extractions=cell_extraction,\n",
    ").text"
   ]
  },
  {
   "cell_type": "markdown",
   "id": "f0a42ac5",
   "metadata": {},
   "source": [
    "### Upload Design Manifest\n",
    "\n",
    "The design manifest is a CSV file that includes all the cell names, the cell settings, a list of analysis to trigger, and a list of settings for each analysis."
   ]
  },
  {
   "cell_type": "code",
   "execution_count": null,
   "id": "9eed420f",
   "metadata": {},
   "outputs": [],
   "source": [
    "dm = pd.read_csv(\"design_manifest.csv\")\n",
    "dm"
   ]
  },
  {
   "cell_type": "code",
   "execution_count": null,
   "id": "62f86d70",
   "metadata": {},
   "outputs": [],
   "source": [
    "dm = dm.drop(columns=[\"analysis\", \"analysis_parameters\"])\n",
    "dm"
   ]
  },
  {
   "cell_type": "code",
   "execution_count": null,
   "id": "f3cbfb30",
   "metadata": {},
   "outputs": [],
   "source": [
    "dm.to_csv(\"design_manifest_without_analysis.csv\", index=False)"
   ]
  },
  {
   "cell_type": "code",
   "execution_count": null,
   "id": "83a4a289",
   "metadata": {},
   "outputs": [],
   "source": [
    "dd.project.upload_design_manifest(\n",
    "    project_name=PROJECT_NAME, filepath=\"design_manifest_without_analysis.csv\"\n",
    ").text"
   ]
  },
  {
   "cell_type": "code",
   "execution_count": null,
   "id": "c072a2a8",
   "metadata": {},
   "outputs": [],
   "source": [
    "dd.project.download_design_manifest(\n",
    "    project_name=PROJECT_NAME, filepath=\"design_manifest_downloaded.csv\"\n",
    ")"
   ]
  },
  {
   "cell_type": "markdown",
   "id": "2e0cb54a",
   "metadata": {},
   "source": [
    "### Upload Wafer Definitions\n",
    "\n",
    "The wafer definition is a JSON file where you can define the wafer names and die names and location for each wafer."
   ]
  },
  {
   "cell_type": "code",
   "execution_count": null,
   "id": "a762b887",
   "metadata": {},
   "outputs": [],
   "source": [
    "dd.project.upload_wafer_definitions(\n",
    "    project_name=PROJECT_NAME, filepath=\"wafer_definitions.json\"\n",
    ").text"
   ]
  },
  {
   "cell_type": "markdown",
   "id": "5e80ce9f",
   "metadata": {},
   "source": [
    "## Upload data"
   ]
  },
  {
   "cell_type": "markdown",
   "id": "f174ff80",
   "metadata": {},
   "source": [
    "Your Tester can output the data in JSON files. It does not need to be Python."
   ]
  },
  {
   "cell_type": "markdown",
   "id": "9c229b05",
   "metadata": {},
   "source": [
    "You can get all paths which have measurement data within the test path."
   ]
  },
  {
   "cell_type": "code",
   "execution_count": null,
   "id": "c5918fe8",
   "metadata": {},
   "outputs": [],
   "source": [
    "data_files = list(MEASUREMENTS_PATH.glob(\"**/data.json\"))\n",
    "print(data_files[0].parts)"
   ]
  },
  {
   "cell_type": "markdown",
   "id": "79dc19e0",
   "metadata": {
    "lines_to_next_cell": 2
   },
   "source": [
    " You should define a plotting per measurement type in python. Your plots can evolve over time even for the same measurement type.\n",
    "\n",
    "Required:\n",
    "\n",
    "```yaml\n",
    "- x_name (str): x-axis name\n",
    "- y_name (str): y-axis name\n",
    "- x_col (str): x-column to plot\n",
    "- y_col (str or list[str]): y-column(s) to plot; can be multiple\n",
    "```\n",
    "\n",
    "\n",
    "Optional:\n",
    "```yaml\n",
    "\n",
    "- scatter (bool): whether to plot as scatter as opposed to line traces\n",
    "- x_units (str): x-axis units\n",
    "- y_units (str): y-axis units\n",
    "- x_log_axis (bool): whether to plot the x-axis on log scale\n",
    "- y_log_axis (bool): whether to plot the y-axis on log scale\n",
    "- x_limits (list[int, int]): clip x-axis data using these limits as bounds (example: [10, 100])\n",
    "- y_limits (list[int, int]): clip y-axis data using these limits as bounds (example: [20, 100])\n",
    "- sort_by (dict[str, bool]): columns to sort data before plotting. Boolean specifies whether to sort each column in ascending order.\n",
    "                             (example: {\"wavelegths\": True, \"optical_power\": False})\n",
    "- grouping (dict[str, int]): columns to group data before plotting. Integer specifies decimal places to round each column.\n",
    "                             Different series will be plotted for unique combinations of x column, y column(s), and rounded column values.\n",
    "                             (example: {\"port\": 1, \"attenuation\": 2})\n",
    "\n",
    "```"
   ]
  },
  {
   "cell_type": "code",
   "execution_count": null,
   "id": "1200a506",
   "metadata": {},
   "outputs": [],
   "source": [
    "spectrum_measurement_type = dd.api.device_data.PlottingKwargs(\n",
    "    x_name=\"wavelength\",\n",
    "    y_name=\"output_power\",\n",
    "    x_col=\"wavelength\",\n",
    "    # y_col=[\"output_power\"],  # can also be a string for a single value\n",
    "    y_col=\"output_power\",\n",
    ")"
   ]
  },
  {
   "cell_type": "markdown",
   "id": "08747974",
   "metadata": {},
   "source": [
    "### Upload measurements\n",
    "\n",
    "You can now upload measurement data.\n",
    "\n",
    "This is a bare bones example, in a production setting, you can also add validation, logging, and error handling to ensure a smooth operation.\n",
    "\n",
    "Every measurement you upload will trigger all the analysis that you defined in the design manifest."
   ]
  },
  {
   "cell_type": "code",
   "execution_count": null,
   "id": "ac22c9b9",
   "metadata": {},
   "outputs": [],
   "source": [
    "NUMBER_OF_THREADS = dd.settings.n_threads\n",
    "wafer_set = set()\n",
    "die_set = set()"
   ]
  },
  {
   "cell_type": "code",
   "execution_count": null,
   "id": "ed65ccb8",
   "metadata": {},
   "outputs": [],
   "source": [
    "if NUMBER_OF_THREADS == 1:\n",
    "    for path in tqdm(data_files):\n",
    "        wafer_name = path.parts[0]\n",
    "        die_x, die_y = path.parts[1].split(\"_\")\n",
    "\n",
    "        r = dd.api.device_data.upload(\n",
    "            file=path,\n",
    "            project_name=PROJECT_NAME,\n",
    "            wafer_name=wafer_name,\n",
    "            die_x=die_x,\n",
    "            die_y=die_y,\n",
    "            device_name=path.parts[2],\n",
    "            data_type=\"measurement\",\n",
    "            plotting_kwargs=spectrum_measurement_type,\n",
    "        )\n",
    "        wafer_set.add(wafer_name)\n",
    "        die_set.add(path.parts[2])\n",
    "        r.raise_for_status()"
   ]
  },
  {
   "cell_type": "code",
   "execution_count": null,
   "id": "0d98caf7",
   "metadata": {},
   "outputs": [],
   "source": [
    "data_files = list(MEASUREMENTS_PATH.glob(\"**/data.json\"))\n",
    "project_names = []\n",
    "device_names = []\n",
    "die_names = []\n",
    "die_xs = []\n",
    "die_ys = []\n",
    "wafer_names = []\n",
    "plotting_kwargs = []\n",
    "data_types = []\n",
    "\n",
    "for path in data_files:\n",
    "    device_name = path.parts[2]\n",
    "    die_name = path.parts[1]\n",
    "    die_x, die_y = die_name.split(\"_\")\n",
    "    wafer_name = path.parts[0]\n",
    "\n",
    "    device_names.append(device_name)\n",
    "    die_names.append(die_name)\n",
    "    die_xs.append(die_x)\n",
    "    die_ys.append(die_y)\n",
    "    wafer_names.append(wafer_name)\n",
    "    plotting_kwargs.append(spectrum_measurement_type)\n",
    "    project_names.append(PROJECT_NAME)\n",
    "    data_types.append(\"measurement\")"
   ]
  },
  {
   "cell_type": "code",
   "execution_count": null,
   "id": "bc134522",
   "metadata": {},
   "outputs": [],
   "source": [
    "if NUMBER_OF_THREADS > 1:\n",
    "    dd.device_data.upload_multi(\n",
    "        files=data_files,\n",
    "        project_names=project_names,\n",
    "        wafer_names=wafer_names,\n",
    "        die_xs=die_xs,\n",
    "        die_ys=die_ys,\n",
    "        device_names=device_names,\n",
    "        data_types=data_types,\n",
    "        plotting_kwargs=plotting_kwargs,\n",
    "        progress_bar=True,\n",
    "    )"
   ]
  },
  {
   "cell_type": "markdown",
   "id": "13bccd95",
   "metadata": {},
   "source": [
    "## Analysis\n",
    "\n",
    "You can run analysis at 3 different levels. For example to extract:\n",
    "\n",
    "1. Device: averaged power envelope over certain number of samples.\n",
    "2. Die: fit the propagation loss as a function of length.\n",
    "3. Wafer: Define the Upper and Lower Spec limits for Known Good Die (KGD)\n",
    "\n",
    "![](https://i.imgur.com/ZwIWS08.png)\n",
    "\n"
   ]
  },
  {
   "cell_type": "markdown",
   "id": "73f08fc7",
   "metadata": {},
   "source": [
    "\n",
    "To upload custom analysis functions to the DoData server, follow these simplified guidelines:\n",
    "\n",
    "- Input:\n",
    "  - Begin with a unique identifier (device_data_id, die_id, wafer_id) as the first argument.\n",
    "  - Add necessary keyword arguments for the analysis.\n",
    "\n",
    "- Output: Dictionary\n",
    "  - output: Return a simple, one-level dictionary. All values must be serializable. Avoid using numpy or pandas; convert to lists if needed.\n",
    "  - summary_plot: Provide a summary plot, either as a matplotlib figure or io.BytesIO object.\n",
    "  - attributes: Add a serializable dictionary of the analysis settings.\n",
    "  - device_data_id/die_id/wafer_id: Include the used identifier (device_data_id, die_id, wafer_id).\n"
   ]
  },
  {
   "cell_type": "markdown",
   "id": "415356fc",
   "metadata": {},
   "source": [
    "### Device analysis\n",
    "\n",
    "You can either trigger analysis automatically by defining it in the design manifest, using the UI or using the Python DoData library.\n"
   ]
  },
  {
   "cell_type": "code",
   "execution_count": null,
   "id": "02df0c28",
   "metadata": {},
   "outputs": [],
   "source": [
    "from IPython.display import Code, display, Image\n",
    "import doplaydo.dodata as dd\n",
    "\n",
    "display(Code(dd.config.Path.analysis_functions_device_fsr))"
   ]
  },
  {
   "cell_type": "markdown",
   "id": "4a1349c0",
   "metadata": {},
   "source": [
    "You can easily get a device id to try your device analsys:"
   ]
  },
  {
   "cell_type": "code",
   "execution_count": null,
   "id": "4af483c1",
   "metadata": {},
   "outputs": [],
   "source": [
    "device_data, df = dd.get_data_by_query([dd.Project.name == PROJECT_NAME])[2]\n",
    "device_data.id"
   ]
  },
  {
   "cell_type": "code",
   "execution_count": null,
   "id": "02f51b96",
   "metadata": {},
   "outputs": [],
   "source": [
    "response = dd.api.analysis_functions.validate(\n",
    "    function_name=\"device_fsr\",\n",
    "    function_path=dd.config.Path.analysis_functions_device_fsr,\n",
    "    test_model_id=device_data.id,\n",
    "    target_model_name=\"device_data\",\n",
    "    parameters=dict(height=-0.02),\n",
    ")\n",
    "Image(response.content)"
   ]
  },
  {
   "cell_type": "code",
   "execution_count": null,
   "id": "96357029",
   "metadata": {},
   "outputs": [],
   "source": [
    "response = dd.api.analysis_functions.validate_and_upload(\n",
    "    function_name=\"device_fsr\",\n",
    "    function_path=dd.config.Path.analysis_functions_device_fsr,\n",
    "    test_model_id=device_data.id,\n",
    "    target_model_name=\"device_data\",\n",
    "    parameters=dict(height=-0.02),\n",
    ")"
   ]
  },
  {
   "cell_type": "code",
   "execution_count": null,
   "id": "bad6fff7",
   "metadata": {},
   "outputs": [],
   "source": []
  }
 ],
 "metadata": {
  "jupytext": {
   "custom_cell_magics": "kql"
  },
  "kernelspec": {
   "display_name": "Python 3 (ipykernel)",
   "language": "python",
   "name": "python3"
  },
  "language_info": {
   "codemirror_mode": {
    "name": "ipython",
    "version": 3
   },
   "file_extension": ".py",
   "mimetype": "text/x-python",
   "name": "python",
   "nbconvert_exporter": "python",
   "pygments_lexer": "ipython3",
   "version": "3.11.5"
  }
 },
 "nbformat": 4,
 "nbformat_minor": 5
}
