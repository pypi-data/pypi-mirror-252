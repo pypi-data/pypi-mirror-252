{
 "cells": [
  {
   "cell_type": "markdown",
   "metadata": {},
   "source": [
    "# AlphaLab\n",
    "\n",
    "### <span style=\"color:red\">Backtesting, Live Trading and Deployment in minutes!</span>"
   ]
  },
  {
   "cell_type": "markdown",
   "metadata": {},
   "source": [
    "### Resources\n",
    "\n",
    "#### 1. [Get sample strategies for <span style=\"color:red\">live/paper trading</span> with brokers](#1.1)\n",
    "\n",
    "#### 2. [Get sample strategies for <span style=\"color:red\">backtesting</span> with free data](#2.11)\n",
    "\n",
    "#### 3. [Deploy on Cloud](https://www.youtube.com/watch?v=fzpmlo_uUig)\n",
    "\n",
    "#### 4. [Get free data 10,000+ instruments](#3.1) \n",
    "\n",
    "#### [Documentation](https://quanturf-products.gitbook.io/alphalab/) \n",
    "\n",
    "#### Get Alpaca broker registration : [link](https://alpaca.markets/learn/register-on-alpaca/)\n",
    "\n",
    "\n"
   ]
  },
  {
   "cell_type": "markdown",
   "metadata": {},
   "source": [
    "<a id='1.1'></a>\n",
    "### 1. Live trading strategies\n",
    "#### Just run following code to get live trading strategies in LiveTrading folder"
   ]
  },
  {
   "cell_type": "code",
   "execution_count": 8,
   "metadata": {},
   "outputs": [],
   "source": [
    "!pip install gitpython\n",
    "from git import Repo\n",
    "Repo.clone_from(\"https://github.com/alpacahq/plug-and-play-strategies\", \"LiveTrading\")"
   ]
  },
  {
   "cell_type": "markdown",
   "metadata": {},
   "source": [
    "<a id='2.11'></a>\n",
    "### 2. Get Backtesting strategies code\n",
    "#### Just run following code to get trading strategies in Backtesting folder\n"
   ]
  },
  {
   "cell_type": "code",
   "execution_count": 11,
   "metadata": {},
   "outputs": [],
   "source": [
    "!pip install gitpython\n",
    "from git import Repo\n",
    "Repo.clone_from(\"https://github.com/Quanturf/AlphaLab-Backtesting\", \"Backtesting\")"
   ]
  },
  {
   "cell_type": "markdown",
   "metadata": {},
   "source": [
    "<a id='3.1'></a>\n",
    "### 3. Get Data\n",
    "#### Just run following code to get trading strategies in Backtesting folder\n",
    "[Detailed Documentation](https://finailabdatasets.readthedocs.io/en/latest/#financial-datasets-summary-by-source-and-types)"
   ]
  },
  {
   "cell_type": "code",
   "execution_count": 8,
   "metadata": {},
   "outputs": [
    {
     "data": {
      "text/plain": [
       "<git.repo.base.Repo 'D:\\\\Python\\\\quanturf_pypi_package\\\\quanturf_dataset2\\\\.git'>"
      ]
     },
     "execution_count": 8,
     "metadata": {},
     "output_type": "execute_result"
    }
   ],
   "source": [
    "!pip install gitpython\n",
    "from git import Repo\n",
    "Repo.clone_from(\"https://github.com/Quanturf/quanturf_dataset\", \"QuanturfDataset\")"
   ]
  },
  {
   "cell_type": "markdown",
   "metadata": {},
   "source": [
    "### Disclaimer \n",
    "#### The algorithmic trading strategies provided are for sample purposes only and should be thoroughly tested and assessed before actual implementation in live trading environments."
   ]
  }
 ],
 "metadata": {
  "kernelspec": {
   "display_name": "Python 3 (ipykernel)",
   "language": "python",
   "name": "python3"
  },
  "language_info": {
   "codemirror_mode": {
    "name": "ipython",
    "version": 3
   },
   "file_extension": ".py",
   "mimetype": "text/x-python",
   "name": "python",
   "nbconvert_exporter": "python",
   "pygments_lexer": "ipython3",
   "version": "3.11.3"
  },
  "vscode": {
   "interpreter": {
    "hash": "6078e1eae653dd11849a714345a472fcdb72b5135b6ae53d82bc4917104af5e0"
   }
  }
 },
 "nbformat": 4,
 "nbformat_minor": 4
}
