{
 "cells": [
  {
   "attachments": {},
   "cell_type": "markdown",
   "metadata": {},
   "source": [
    "# AlphaLab - AI\n",
    "\n",
    "This Jupyter Notebook demonstrates the usage of the <strong>AlphaLab</strong> library to interact with an AI-powered chat system for asking questions related to trading strategies, backtesting, and live/paper trading."
   ]
  },
  {
   "cell_type": "code",
   "execution_count": null,
   "metadata": {},
   "outputs": [],
   "source": [
    "%load_ext quanturf.chat"
   ]
  },
  {
   "attachments": {},
   "cell_type": "markdown",
   "metadata": {},
   "source": [
    "Enter your OPENAI_API_KEY and question below to get started."
   ]
  },
  {
   "cell_type": "code",
   "execution_count": null,
   "metadata": {},
   "outputs": [],
   "source": [
    "%%chat <YOUR_OPENAI_API_KEY>\n",
    "\"Your question here\""
   ]
  }
 ],
 "metadata": {
  "language_info": {
   "name": "python"
  },
  "orig_nbformat": 4
 },
 "nbformat": 4,
 "nbformat_minor": 2
}
