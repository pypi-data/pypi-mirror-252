{
 "cells": [
  {
   "cell_type": "markdown",
   "id": "146fffdd-4386-424a-a75a-b1e8154c9d52",
   "metadata": {},
   "source": [
    "# ROOSTER training framework (MSAP4-03)\n",
    "\n",
    "This notebook provide an example of an analysis by the PLATO MSAP4 demonstrator of a set of stars with catalog-existing reference $P_\\mathrm{rot}$, and use the set to train an instance of ROOSTER.\n",
    "\n",
    "First we need to import the demonstrator module and the auxiliary module containing the dataset we are going to work with.\n",
    "\n",
    "**Note:** This notebook has been designed for the purpose of scientific justification of MSAP4-03. The notebook illustrated the precise flowchart envisaged for MSAP4-03 is cs_rooster_sph_analysis.ipynb"
   ]
  },
  {
   "cell_type": "code",
   "execution_count": 1,
   "id": "7e72243d-c0ce-400b-a350-ff3ccfe6af17",
   "metadata": {},
   "outputs": [],
   "source": [
    "import plato_msap4_demonstrator as msap4\n",
    "import plato_msap4_demonstrator_datasets.kepler_dataset as kepler_dataset"
   ]
  },
  {
   "cell_type": "markdown",
   "id": "ec9a9be4-3be0-4d02-be65-98a82625695b",
   "metadata": {},
   "source": [
    "We also need to import some other modules to run the notebook and to check that the outputs directory that we need exist"
   ]
  },
  {
   "cell_type": "code",
   "execution_count": 2,
   "id": "969fa102-658a-49c1-8cd6-2d389742bc31",
   "metadata": {},
   "outputs": [],
   "source": [
    "import importlib\n",
    "import tqdm\n",
    "import os\n",
    "import numpy as np\n",
    "import matplotlib.pyplot as plt\n",
    "\n",
    "if not os.path.exists ('rooster_training_features') :\n",
    "    os.mkdir ('rooster_training_features')\n",
    "if not os.path.exists ('rooster_training_plots') :\n",
    "    os.mkdir ('rooster_training_plots')\n",
    "if not os.path.exists ('rooster_instances') :\n",
    "    os.mkdir ('rooster_instances')"
   ]
  },
  {
   "cell_type": "markdown",
   "id": "c5288fed-7f82-448c-863e-1f2b281ab710",
   "metadata": {},
   "source": [
    "## Running the analysis pipeline"
   ]
  },
  {
   "cell_type": "markdown",
   "id": "e20a162f-e627-49f2-92c7-6c08a4186038",
   "metadata": {},
   "source": [
    "We are going to work with a sample of 1991 *Kepler* stars analysed by Santos et al. (2019, 2021). The light curves have been calibrated with the KEPSEISMIC method (see García et al. 2011, 2014), and all of them have been filtered with a 55-day high-pass filter. We can get the identifiers of the stars in the dataset with the following instruction:"
   ]
  },
  {
   "cell_type": "code",
   "execution_count": 3,
   "id": "408ec360-5d74-4dde-bb5f-eed4d97f275f",
   "metadata": {},
   "outputs": [],
   "source": [
    "list_kic = msap4.get_list_targets (kepler_dataset)"
   ]
  },
  {
   "cell_type": "markdown",
   "id": "9c18e851-9b1c-419f-8417-5cc8bd3ee5fc",
   "metadata": {},
   "source": [
    "The next step is to run the analysis pipeline on every light curve in the dataset. The analysis pipeline in its default behaviour will compute the Lomb-Scargle periodogram (LSP) of the light curve as well as its auto-correlation function (ACF). ACF and LSP will then be used to compute a composite spectrum (CS), obtained by multiplying one by another.\n",
    "The feature computed for each stars are stored in a dedicated csv file identified by the star identifier (in this case, the KIC of the star)."
   ]
  },
  {
   "cell_type": "code",
   "execution_count": 4,
   "id": "a327b4ea-e4f7-4009-a04b-ec2701e89f51",
   "metadata": {},
   "outputs": [
    {
     "name": "stderr",
     "output_type": "stream",
     "text": [
      "100%|███████████████████████████████████████████████████████████████████████████████████████████████████████████████████████| 1991/1991 [55:09<00:00,  1.66s/it]\n"
     ]
    }
   ],
   "source": [
    "p_in = np.linspace (0, 100, 1000)\n",
    "for kic in tqdm.tqdm (list_kic) :\n",
    "    str_kic = str (kic).zfill (9)\n",
    "    fileout = 'rooster_training_features/{}.csv'.format(str_kic)\n",
    "    filename = msap4.get_target_filename (kepler_dataset, str_kic)\n",
    "    if not os.path.exists (fileout) :\n",
    "        t, s, dt = msap4.load_resource (filename)\n",
    "        (p_ps, p_acf, ps, acf, \n",
    "         cs, features, feature_names, _) = msap4.analysis_pipeline (t, s, periods_in=p_in,\n",
    "                                                                    wavelet_analysis=False, plot=True,\n",
    "                                                                    filename='rooster_training_plots/{}.png'.format(str_kic),\n",
    "                                                                    figsize=(10,16),\n",
    "                                                                    lw=1, dpi=300, smooth_acf=True)\n",
    "        df = msap4.save_features (fileout, kic, features, feature_names)"
   ]
  },
  {
   "cell_type": "markdown",
   "id": "940c0191-7417-4ef8-812e-323dbf436f1a",
   "metadata": {},
   "source": [
    "After running the analysis pipeline, it is possible to concatenate the feature obtained for each star into one big DataFrame."
   ]
  },
  {
   "cell_type": "code",
   "execution_count": 5,
   "id": "a15c1ac0-18dd-4e22-a052-85e61916dcc1",
   "metadata": {},
   "outputs": [],
   "source": [
    "df = msap4.build_catalog_features ('rooster_training_features')"
   ]
  },
  {
   "cell_type": "markdown",
   "id": "0250e067-2bf8-47b0-a57e-ed3c4ba7127a",
   "metadata": {},
   "source": [
    "This is typically what the DataFrame is going to look like:"
   ]
  },
  {
   "cell_type": "code",
   "execution_count": 6,
   "id": "836aadd8-16ae-483e-a380-f3984e408f57",
   "metadata": {},
   "outputs": [
    {
     "data": {
      "text/html": [
       "<div>\n",
       "<style scoped>\n",
       "    .dataframe tbody tr th:only-of-type {\n",
       "        vertical-align: middle;\n",
       "    }\n",
       "\n",
       "    .dataframe tbody tr th {\n",
       "        vertical-align: top;\n",
       "    }\n",
       "\n",
       "    .dataframe thead th {\n",
       "        text-align: right;\n",
       "    }\n",
       "</style>\n",
       "<table border=\"1\" class=\"dataframe\">\n",
       "  <thead>\n",
       "    <tr style=\"text-align: right;\">\n",
       "      <th></th>\n",
       "      <th>prot_ps</th>\n",
       "      <th>prot_acf</th>\n",
       "      <th>prot_cs</th>\n",
       "      <th>e_prot_ps</th>\n",
       "      <th>E_prot_ps</th>\n",
       "      <th>e_prot_acf</th>\n",
       "      <th>E_prot_acf</th>\n",
       "      <th>e_prot_cs</th>\n",
       "      <th>E_prot_cs</th>\n",
       "      <th>sph_ps</th>\n",
       "      <th>sph_acf</th>\n",
       "      <th>sph_cs</th>\n",
       "      <th>h_ps</th>\n",
       "      <th>fa_prob_ps</th>\n",
       "      <th>hacf</th>\n",
       "      <th>gacf</th>\n",
       "      <th>hcs</th>\n",
       "    </tr>\n",
       "    <tr>\n",
       "      <th>target_id</th>\n",
       "      <th></th>\n",
       "      <th></th>\n",
       "      <th></th>\n",
       "      <th></th>\n",
       "      <th></th>\n",
       "      <th></th>\n",
       "      <th></th>\n",
       "      <th></th>\n",
       "      <th></th>\n",
       "      <th></th>\n",
       "      <th></th>\n",
       "      <th></th>\n",
       "      <th></th>\n",
       "      <th></th>\n",
       "      <th></th>\n",
       "      <th></th>\n",
       "      <th></th>\n",
       "    </tr>\n",
       "  </thead>\n",
       "  <tbody>\n",
       "    <tr>\n",
       "      <th>891901</th>\n",
       "      <td>73.598094</td>\n",
       "      <td>5.006284</td>\n",
       "      <td>52.030213</td>\n",
       "      <td>0.882710</td>\n",
       "      <td>0.904334</td>\n",
       "      <td>-1.0</td>\n",
       "      <td>-1.0</td>\n",
       "      <td>5.782646</td>\n",
       "      <td>5.782646</td>\n",
       "      <td>782.552118</td>\n",
       "      <td>604.416480</td>\n",
       "      <td>773.134552</td>\n",
       "      <td>0.121354</td>\n",
       "      <td>0.0</td>\n",
       "      <td>0.633684</td>\n",
       "      <td>0.265200</td>\n",
       "      <td>0.095594</td>\n",
       "    </tr>\n",
       "    <tr>\n",
       "      <th>1162339</th>\n",
       "      <td>73.048392</td>\n",
       "      <td>39.232722</td>\n",
       "      <td>52.151878</td>\n",
       "      <td>11.328352</td>\n",
       "      <td>16.348211</td>\n",
       "      <td>-1.0</td>\n",
       "      <td>-1.0</td>\n",
       "      <td>1.333511</td>\n",
       "      <td>1.333511</td>\n",
       "      <td>2266.134459</td>\n",
       "      <td>2082.090930</td>\n",
       "      <td>2150.902737</td>\n",
       "      <td>0.285520</td>\n",
       "      <td>0.0</td>\n",
       "      <td>-0.568057</td>\n",
       "      <td>0.001484</td>\n",
       "      <td>0.069160</td>\n",
       "    </tr>\n",
       "    <tr>\n",
       "      <th>1163248</th>\n",
       "      <td>73.048768</td>\n",
       "      <td>59.666638</td>\n",
       "      <td>91.054035</td>\n",
       "      <td>10.510133</td>\n",
       "      <td>14.697001</td>\n",
       "      <td>-1.0</td>\n",
       "      <td>-1.0</td>\n",
       "      <td>4.333269</td>\n",
       "      <td>4.333269</td>\n",
       "      <td>541.300214</td>\n",
       "      <td>541.808769</td>\n",
       "      <td>551.965885</td>\n",
       "      <td>0.092878</td>\n",
       "      <td>0.0</td>\n",
       "      <td>0.169691</td>\n",
       "      <td>0.373241</td>\n",
       "      <td>0.883819</td>\n",
       "    </tr>\n",
       "    <tr>\n",
       "      <th>1164583</th>\n",
       "      <td>50.378386</td>\n",
       "      <td>43.850828</td>\n",
       "      <td>46.669255</td>\n",
       "      <td>12.525927</td>\n",
       "      <td>25.164926</td>\n",
       "      <td>-1.0</td>\n",
       "      <td>-1.0</td>\n",
       "      <td>5.785335</td>\n",
       "      <td>5.785335</td>\n",
       "      <td>1650.421415</td>\n",
       "      <td>1644.008810</td>\n",
       "      <td>1698.895451</td>\n",
       "      <td>0.124362</td>\n",
       "      <td>0.0</td>\n",
       "      <td>0.342296</td>\n",
       "      <td>0.678006</td>\n",
       "      <td>0.467618</td>\n",
       "    </tr>\n",
       "    <tr>\n",
       "      <th>1433067</th>\n",
       "      <td>73.048497</td>\n",
       "      <td>35.329934</td>\n",
       "      <td>47.031677</td>\n",
       "      <td>11.612365</td>\n",
       "      <td>16.946332</td>\n",
       "      <td>-1.0</td>\n",
       "      <td>-1.0</td>\n",
       "      <td>1.742899</td>\n",
       "      <td>1.742899</td>\n",
       "      <td>1219.810610</td>\n",
       "      <td>1192.928427</td>\n",
       "      <td>1197.588777</td>\n",
       "      <td>0.175185</td>\n",
       "      <td>0.0</td>\n",
       "      <td>-0.559881</td>\n",
       "      <td>0.000288</td>\n",
       "      <td>0.140650</td>\n",
       "    </tr>\n",
       "    <tr>\n",
       "      <th>...</th>\n",
       "      <td>...</td>\n",
       "      <td>...</td>\n",
       "      <td>...</td>\n",
       "      <td>...</td>\n",
       "      <td>...</td>\n",
       "      <td>...</td>\n",
       "      <td>...</td>\n",
       "      <td>...</td>\n",
       "      <td>...</td>\n",
       "      <td>...</td>\n",
       "      <td>...</td>\n",
       "      <td>...</td>\n",
       "      <td>...</td>\n",
       "      <td>...</td>\n",
       "      <td>...</td>\n",
       "      <td>...</td>\n",
       "      <td>...</td>\n",
       "    </tr>\n",
       "    <tr>\n",
       "      <th>12647815</th>\n",
       "      <td>10.435607</td>\n",
       "      <td>10.400735</td>\n",
       "      <td>10.457896</td>\n",
       "      <td>0.403142</td>\n",
       "      <td>0.436987</td>\n",
       "      <td>-1.0</td>\n",
       "      <td>-1.0</td>\n",
       "      <td>0.152860</td>\n",
       "      <td>0.152860</td>\n",
       "      <td>4727.467867</td>\n",
       "      <td>4733.483163</td>\n",
       "      <td>4721.753966</td>\n",
       "      <td>0.262546</td>\n",
       "      <td>0.0</td>\n",
       "      <td>0.627364</td>\n",
       "      <td>1.026059</td>\n",
       "      <td>0.532050</td>\n",
       "    </tr>\n",
       "    <tr>\n",
       "      <th>12737258</th>\n",
       "      <td>40.582931</td>\n",
       "      <td>77.586648</td>\n",
       "      <td>69.544307</td>\n",
       "      <td>4.159244</td>\n",
       "      <td>5.218136</td>\n",
       "      <td>-1.0</td>\n",
       "      <td>-1.0</td>\n",
       "      <td>3.577662</td>\n",
       "      <td>3.577662</td>\n",
       "      <td>2135.495994</td>\n",
       "      <td>2155.693110</td>\n",
       "      <td>2164.787863</td>\n",
       "      <td>0.146861</td>\n",
       "      <td>0.0</td>\n",
       "      <td>0.431254</td>\n",
       "      <td>-1.000000</td>\n",
       "      <td>0.542491</td>\n",
       "    </tr>\n",
       "    <tr>\n",
       "      <th>12784167</th>\n",
       "      <td>18.262306</td>\n",
       "      <td>12.505398</td>\n",
       "      <td>91.216340</td>\n",
       "      <td>0.824439</td>\n",
       "      <td>0.905366</td>\n",
       "      <td>-1.0</td>\n",
       "      <td>-1.0</td>\n",
       "      <td>3.206358</td>\n",
       "      <td>3.206358</td>\n",
       "      <td>632.040500</td>\n",
       "      <td>609.092436</td>\n",
       "      <td>650.432771</td>\n",
       "      <td>0.072066</td>\n",
       "      <td>0.0</td>\n",
       "      <td>0.102950</td>\n",
       "      <td>0.000197</td>\n",
       "      <td>2.136317</td>\n",
       "    </tr>\n",
       "    <tr>\n",
       "      <th>12834290</th>\n",
       "      <td>52.692311</td>\n",
       "      <td>56.049453</td>\n",
       "      <td>53.100597</td>\n",
       "      <td>10.789249</td>\n",
       "      <td>18.146115</td>\n",
       "      <td>-1.0</td>\n",
       "      <td>-1.0</td>\n",
       "      <td>1.528117</td>\n",
       "      <td>1.528117</td>\n",
       "      <td>528.632031</td>\n",
       "      <td>525.789101</td>\n",
       "      <td>531.063571</td>\n",
       "      <td>0.079475</td>\n",
       "      <td>0.0</td>\n",
       "      <td>0.100199</td>\n",
       "      <td>0.262818</td>\n",
       "      <td>0.675579</td>\n",
       "    </tr>\n",
       "    <tr>\n",
       "      <th>12834663</th>\n",
       "      <td>89.966120</td>\n",
       "      <td>13.118167</td>\n",
       "      <td>91.094432</td>\n",
       "      <td>8.178801</td>\n",
       "      <td>9.996320</td>\n",
       "      <td>-1.0</td>\n",
       "      <td>-1.0</td>\n",
       "      <td>8.891671</td>\n",
       "      <td>8.891671</td>\n",
       "      <td>1084.671035</td>\n",
       "      <td>996.803485</td>\n",
       "      <td>1084.671035</td>\n",
       "      <td>0.280246</td>\n",
       "      <td>0.0</td>\n",
       "      <td>0.147318</td>\n",
       "      <td>0.006072</td>\n",
       "      <td>1.505906</td>\n",
       "    </tr>\n",
       "  </tbody>\n",
       "</table>\n",
       "<p>1991 rows × 17 columns</p>\n",
       "</div>"
      ],
      "text/plain": [
       "             prot_ps   prot_acf    prot_cs  e_prot_ps  E_prot_ps  e_prot_acf  \\\n",
       "target_id                                                                      \n",
       "891901     73.598094   5.006284  52.030213   0.882710   0.904334        -1.0   \n",
       "1162339    73.048392  39.232722  52.151878  11.328352  16.348211        -1.0   \n",
       "1163248    73.048768  59.666638  91.054035  10.510133  14.697001        -1.0   \n",
       "1164583    50.378386  43.850828  46.669255  12.525927  25.164926        -1.0   \n",
       "1433067    73.048497  35.329934  47.031677  11.612365  16.946332        -1.0   \n",
       "...              ...        ...        ...        ...        ...         ...   \n",
       "12647815   10.435607  10.400735  10.457896   0.403142   0.436987        -1.0   \n",
       "12737258   40.582931  77.586648  69.544307   4.159244   5.218136        -1.0   \n",
       "12784167   18.262306  12.505398  91.216340   0.824439   0.905366        -1.0   \n",
       "12834290   52.692311  56.049453  53.100597  10.789249  18.146115        -1.0   \n",
       "12834663   89.966120  13.118167  91.094432   8.178801   9.996320        -1.0   \n",
       "\n",
       "           E_prot_acf  e_prot_cs  E_prot_cs       sph_ps      sph_acf  \\\n",
       "target_id                                                               \n",
       "891901           -1.0   5.782646   5.782646   782.552118   604.416480   \n",
       "1162339          -1.0   1.333511   1.333511  2266.134459  2082.090930   \n",
       "1163248          -1.0   4.333269   4.333269   541.300214   541.808769   \n",
       "1164583          -1.0   5.785335   5.785335  1650.421415  1644.008810   \n",
       "1433067          -1.0   1.742899   1.742899  1219.810610  1192.928427   \n",
       "...               ...        ...        ...          ...          ...   \n",
       "12647815         -1.0   0.152860   0.152860  4727.467867  4733.483163   \n",
       "12737258         -1.0   3.577662   3.577662  2135.495994  2155.693110   \n",
       "12784167         -1.0   3.206358   3.206358   632.040500   609.092436   \n",
       "12834290         -1.0   1.528117   1.528117   528.632031   525.789101   \n",
       "12834663         -1.0   8.891671   8.891671  1084.671035   996.803485   \n",
       "\n",
       "                sph_cs      h_ps  fa_prob_ps      hacf      gacf       hcs  \n",
       "target_id                                                                   \n",
       "891901      773.134552  0.121354         0.0  0.633684  0.265200  0.095594  \n",
       "1162339    2150.902737  0.285520         0.0 -0.568057  0.001484  0.069160  \n",
       "1163248     551.965885  0.092878         0.0  0.169691  0.373241  0.883819  \n",
       "1164583    1698.895451  0.124362         0.0  0.342296  0.678006  0.467618  \n",
       "1433067    1197.588777  0.175185         0.0 -0.559881  0.000288  0.140650  \n",
       "...                ...       ...         ...       ...       ...       ...  \n",
       "12647815   4721.753966  0.262546         0.0  0.627364  1.026059  0.532050  \n",
       "12737258   2164.787863  0.146861         0.0  0.431254 -1.000000  0.542491  \n",
       "12784167    650.432771  0.072066         0.0  0.102950  0.000197  2.136317  \n",
       "12834290    531.063571  0.079475         0.0  0.100199  0.262818  0.675579  \n",
       "12834663   1084.671035  0.280246         0.0  0.147318  0.006072  1.505906  \n",
       "\n",
       "[1991 rows x 17 columns]"
      ]
     },
     "execution_count": 6,
     "metadata": {},
     "output_type": "execute_result"
    }
   ],
   "source": [
    "df"
   ]
  },
  {
   "cell_type": "markdown",
   "id": "2bd62881-232c-46bd-a43f-3a4fdd652302",
   "metadata": {},
   "source": [
    "## Training and testing ROOSTER\n",
    "\n",
    "Now that we have analysed a large sample of stars, we are able to use it to train the random forest ROOSTER methodology (see Breton et al. 2021). First, let's (arbitrarily) divide our DataFrame into a training set and a test set."
   ]
  },
  {
   "cell_type": "code",
   "execution_count": 7,
   "id": "5008126a-abed-4464-a4ef-b755a90dc60a",
   "metadata": {},
   "outputs": [],
   "source": [
    "df_train = df.loc[df.index[::2]]\n",
    "df_test = df.loc[df.index[1::2]]"
   ]
  },
  {
   "cell_type": "markdown",
   "id": "ae78d48d-7d07-4cc5-8587-cc1e224c7dd6",
   "metadata": {},
   "source": [
    "The DataFrames let us obtain all the input we require to train and test ROOSTER:"
   ]
  },
  {
   "cell_type": "code",
   "execution_count": 8,
   "id": "ba83bdc2-7b32-48f7-8211-2f2152b1c0f9",
   "metadata": {},
   "outputs": [],
   "source": [
    "training_id, training_p_candidates, training_features, feature_names = msap4.create_rooster_feature_inputs (df_train)\n",
    "test_id, test_p_candidates, test_features, test_feature_names = msap4.create_rooster_feature_inputs (df_test)"
   ]
  },
  {
   "cell_type": "markdown",
   "id": "7106924c-c015-4de5-8ab8-28ccf3e24da7",
   "metadata": {},
   "source": [
    "Now, let's instantiate a new ROOSTER object. The main attributes of ROOSTER are its two random forest classifiers, ``RotClass`` and ``PeriodSel``. The properties of these classifiers can be specified by the user by passing the optional arguments of ``sklearn.ensemble.RandomForestClassifier`` to the created ROOSTER instance. "
   ]
  },
  {
   "cell_type": "code",
   "execution_count": 9,
   "id": "f04cfda6-132f-44e3-bf27-42c45b059128",
   "metadata": {},
   "outputs": [
    {
     "data": {
      "text/plain": [
       "(RandomForestClassifier(random_state=RandomState(MT19937) at 0x2903B4340),\n",
       " RandomForestClassifier(random_state=RandomState(MT19937) at 0x2903B4340))"
      ]
     },
     "execution_count": 9,
     "metadata": {},
     "output_type": "execute_result"
    }
   ],
   "source": [
    "seed = 104359357\n",
    "chicken = msap4.ROOSTER (n_estimators=100, random_state=np.random.RandomState (seed=seed))\n",
    "chicken.RotClass, chicken.PeriodSel"
   ]
  },
  {
   "cell_type": "markdown",
   "id": "fcb2cab0-69ac-4156-825d-7032485cfd6f",
   "metadata": {},
   "source": [
    "The training is performed as follows:"
   ]
  },
  {
   "cell_type": "code",
   "execution_count": 10,
   "id": "ba8c1383-9209-4625-a7a8-4dd8b4629b49",
   "metadata": {},
   "outputs": [
    {
     "name": "stdout",
     "output_type": "stream",
     "text": [
      "Training RotClass with 405 stars with detected rotation and 494 without detected rotation.\n",
      "Training PeriodSel with 405 stars.\n"
     ]
    }
   ],
   "source": [
    "chicken.train (training_id, training_p_candidates,\n",
    "               training_features, feature_names=feature_names,\n",
    "               catalog='santos-19-21', verbose=True)"
   ]
  },
  {
   "cell_type": "markdown",
   "id": "0e65175c-4340-4456-9c92-9e14a4a8061a",
   "metadata": {},
   "source": [
    "Once properly trained, ROOSTER performances can be assessed with our test set:"
   ]
  },
  {
   "cell_type": "code",
   "execution_count": 11,
   "id": "0e53e98e-487b-4c46-abfc-ec97f2de13b1",
   "metadata": {},
   "outputs": [
    {
     "name": "stdout",
     "output_type": "stream",
     "text": [
      "Testing RotClass with 393 stars with detected rotation and 501 without detected rotation.\n",
      "Testing PeriodSel with 393 stars.\n"
     ]
    }
   ],
   "source": [
    "results = chicken.test (test_id, test_p_candidates, test_features, \n",
    "                        feature_names=test_feature_names, \n",
    "                        catalog='santos-19-21', verbose=True)"
   ]
  },
  {
   "cell_type": "markdown",
   "id": "a85962c1-2aeb-41c4-a602-b849f082a35e",
   "metadata": {},
   "source": [
    "The score obtained during the test set can be accessed through the ``getScore`` function, as well as the number of elements used for the training and the test steps. "
   ]
  },
  {
   "cell_type": "code",
   "execution_count": 12,
   "id": "46baae9b-17ee-4dfa-91a2-53a91658239b",
   "metadata": {},
   "outputs": [
    {
     "data": {
      "text/plain": [
       "(0.9295302013422819, 0.9033078880407125)"
      ]
     },
     "execution_count": 12,
     "metadata": {},
     "output_type": "execute_result"
    }
   ],
   "source": [
    "chicken.getScore ()"
   ]
  },
  {
   "cell_type": "code",
   "execution_count": 13,
   "id": "130bbf1e-262c-4e47-8817-ca57329bbf59",
   "metadata": {},
   "outputs": [
    {
     "data": {
      "text/plain": [
       "(899, 405)"
      ]
     },
     "execution_count": 13,
     "metadata": {},
     "output_type": "execute_result"
    }
   ],
   "source": [
    "chicken.getNumberEltTrain ()"
   ]
  },
  {
   "cell_type": "code",
   "execution_count": 14,
   "id": "863508ce-e3db-4b62-8b62-25c75f962c18",
   "metadata": {},
   "outputs": [
    {
     "data": {
      "text/plain": [
       "(894, 393)"
      ]
     },
     "execution_count": 14,
     "metadata": {},
     "output_type": "execute_result"
    }
   ],
   "source": [
    "chicken.getNumberEltTest ()"
   ]
  },
  {
   "cell_type": "markdown",
   "id": "ec1e3196-a8a7-4a1d-9fff-f0f877902ea8",
   "metadata": {},
   "source": [
    "The $P_\\mathrm{rot}$ computed by ROOSTER for the test set are returned when calling the function and it can be interesting to plot the distribution to compare it to the reference catalog values. "
   ]
  },
  {
   "cell_type": "code",
   "execution_count": 15,
   "id": "48d6f744-bc2a-4242-99a6-e1911c7e0fd4",
   "metadata": {},
   "outputs": [],
   "source": [
    "prot_rooster = results[3]\n",
    "prot_ref = msap4.get_prot_ref (results[2], catalog='santos-19-21')"
   ]
  },
  {
   "cell_type": "markdown",
   "id": "4433ee40-d6a6-4ad5-bcd5-21d8abff62ac",
   "metadata": {},
   "source": [
    "Let's take a look at the corresponding histogram"
   ]
  },
  {
   "cell_type": "code",
   "execution_count": 16,
   "id": "81572edc-2368-4cab-9afa-90de0a62b178",
   "metadata": {},
   "outputs": [
    {
     "data": {
      "text/plain": [
       "<matplotlib.legend.Legend at 0x290038400>"
      ]
     },
     "execution_count": 16,
     "metadata": {},
     "output_type": "execute_result"
    },
    {
     "data": {
      "image/png": "[encoded data removed]",
      "text/plain": [
       "<Figure size 640x480 with 1 Axes>"
      ]
     },
     "metadata": {},
     "output_type": "display_data"
    }
   ],
   "source": [
    "fig, ax = plt.subplots (1, 1)\n",
    "\n",
    "bins = np.linspace (0, 80, 20, endpoint=False)\n",
    "\n",
    "ax.hist (prot_rooster, bins=bins, color='darkorange', label='ROOSTER')\n",
    "ax.hist (prot_ref, bins=bins, facecolor='none',\n",
    "        edgecolor='black', label='Ref')\n",
    "\n",
    "ax.set_xlabel (r'$P_\\mathrm{rot}$ (day)')\n",
    "ax.set_ylabel (r'Number of stars')\n",
    "\n",
    "ax.legend ()"
   ]
  },
  {
   "cell_type": "markdown",
   "id": "21f347d7-625f-4614-9515-c886a699e72e",
   "metadata": {},
   "source": [
    "Finally, let's save our trained ROOSTER instance to be able to use it again later (for example in the next tutorial notebook !)"
   ]
  },
  {
   "cell_type": "code",
   "execution_count": 17,
   "id": "d09042ec-c6ae-4b33-96ae-09d16756b1f7",
   "metadata": {},
   "outputs": [],
   "source": [
    "chicken.save ('rooster_instances/rooster_tutorial')"
   ]
  },
  {
   "cell_type": "code",
   "execution_count": null,
   "id": "90f0401c-630a-4ce2-a029-c87a4e889364",
   "metadata": {},
   "outputs": [],
   "source": []
  }
 ],
 "metadata": {
  "kernelspec": {
   "display_name": "Python 3 (ipykernel)",
   "language": "python",
   "name": "python3"
  },
  "language_info": {
   "codemirror_mode": {
    "name": "ipython",
    "version": 3
   },
   "file_extension": ".py",
   "mimetype": "text/x-python",
   "name": "python",
   "nbconvert_exporter": "python",
   "pygments_lexer": "ipython3",
   "version": "3.9.15"
  }
 },
 "nbformat": 4,
 "nbformat_minor": 5
}
