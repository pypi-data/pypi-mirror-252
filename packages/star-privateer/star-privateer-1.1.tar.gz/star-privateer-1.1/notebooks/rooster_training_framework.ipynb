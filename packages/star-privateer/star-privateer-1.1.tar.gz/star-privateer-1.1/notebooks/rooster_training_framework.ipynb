{
 "cells": [
  {
   "cell_type": "markdown",
   "id": "146fffdd-4386-424a-a75a-b1e8154c9d52",
   "metadata": {},
   "source": [
    "# ROOSTER training framework (MSAP4-03)\n",
    "\n",
    "This notebook provide an example of the analysis of a set of stars with catalog-existing reference $P_\\mathrm{rot}$, and use the set to train an instance of ROOSTER.\n",
    "\n",
    "First we need to import the demonstrator module and the auxiliary module containing the dataset we are going to work with.\n",
    "\n",
    "**Note:** This notebook has been designed for the purpose of scientific justification of PLATO MSAP4-03. The notebook illustrated the precise flowchart envisaged for PLATO MSAP4-03 is cs_rooster_sph_analysis.ipynb"
   ]
  },
  {
   "cell_type": "code",
   "execution_count": 1,
   "id": "7e72243d-c0ce-400b-a350-ff3ccfe6af17",
   "metadata": {},
   "outputs": [],
   "source": [
    "import star_privateer as sp\n",
    "import plato_msap4_demonstrator_datasets.kepler_dataset as kepler_dataset"
   ]
  },
  {
   "cell_type": "markdown",
   "id": "ec9a9be4-3be0-4d02-be65-98a82625695b",
   "metadata": {},
   "source": [
    "We also need to import some other modules to run the notebook and to check that the outputs directory that we need exist"
   ]
  },
  {
   "cell_type": "code",
   "execution_count": 2,
   "id": "969fa102-658a-49c1-8cd6-2d389742bc31",
   "metadata": {},
   "outputs": [],
   "source": [
    "import importlib\n",
    "import tqdm\n",
    "import os\n",
    "import numpy as np\n",
    "import matplotlib.pyplot as plt\n",
    "\n",
    "if not os.path.exists ('rooster_training_features') :\n",
    "    os.mkdir ('rooster_training_features')\n",
    "if not os.path.exists ('rooster_training_plots') :\n",
    "    os.mkdir ('rooster_training_plots')\n",
    "if not os.path.exists ('rooster_instances') :\n",
    "    os.mkdir ('rooster_instances')"
   ]
  },
  {
   "cell_type": "markdown",
   "id": "c5288fed-7f82-448c-863e-1f2b281ab710",
   "metadata": {},
   "source": [
    "## Running the analysis pipeline"
   ]
  },
  {
   "cell_type": "markdown",
   "id": "e20a162f-e627-49f2-92c7-6c08a4186038",
   "metadata": {},
   "source": [
    "We are going to work with a sample of 1991 *Kepler* stars analysed by Santos et al. (2019, 2021). The light curves have been calibrated with the KEPSEISMIC method (see García et al. 2011, 2014), and all of them have been filtered with a 55-day high-pass filter. We can get the identifiers of the stars in the dataset with the following instruction:"
   ]
  },
  {
   "cell_type": "code",
   "execution_count": 3,
   "id": "408ec360-5d74-4dde-bb5f-eed4d97f275f",
   "metadata": {},
   "outputs": [],
   "source": [
    "list_kic = sp.get_list_targets (kepler_dataset)"
   ]
  },
  {
   "cell_type": "markdown",
   "id": "9c18e851-9b1c-419f-8417-5cc8bd3ee5fc",
   "metadata": {},
   "source": [
    "The next step is to run the analysis pipeline on every light curve in the dataset. The analysis pipeline in its default behaviour will compute the Lomb-Scargle periodogram (LSP) of the light curve as well as its auto-correlation function (ACF). ACF and LSP will then be used to compute a composite spectrum (CS), obtained by multiplying one by another.\n",
    "The feature computed for each stars are stored in a dedicated csv file identified by the star identifier (in this case, the KIC of the star)."
   ]
  },
  {
   "cell_type": "code",
   "execution_count": 4,
   "id": "a327b4ea-e4f7-4009-a04b-ec2701e89f51",
   "metadata": {},
   "outputs": [
    {
     "name": "stderr",
     "output_type": "stream",
     "text": [
      "100%|████████████████████████████████████████████████████████████████████████████████████████████████████████████████████| 1991/1991 [00:00<00:00, 29641.67it/s]\n"
     ]
    }
   ],
   "source": [
    "for kic in tqdm.tqdm (list_kic) :\n",
    "    str_kic = str (kic).zfill (9)\n",
    "    fileout = 'rooster_training_features/{}.csv'.format(str_kic)\n",
    "    filename = sp.get_target_filename (kepler_dataset, str_kic)\n",
    "    if not os.path.exists (fileout) :\n",
    "        t, s, dt = sp.load_resource (filename)\n",
    "        (p_ps, p_acf, ps, acf, \n",
    "         cs, features, feature_names, fig) = sp.analysis_pipeline (t, s,\n",
    "                                                                wavelet_analysis=False, plot=True,\n",
    "                                                                filename='rooster_training_plots/{}.png'.format(str_kic),\n",
    "                                                                figsize=(10,16),\n",
    "                                                                lw=1, dpi=300, smooth_acf=True)\n",
    "        df = sp.save_features (fileout, kic, features, feature_names)\n",
    "        plt.close ()"
   ]
  },
  {
   "cell_type": "markdown",
   "id": "940c0191-7417-4ef8-812e-323dbf436f1a",
   "metadata": {},
   "source": [
    "After running the analysis pipeline, it is possible to concatenate the feature obtained for each star into one big DataFrame."
   ]
  },
  {
   "cell_type": "code",
   "execution_count": 5,
   "id": "a15c1ac0-18dd-4e22-a052-85e61916dcc1",
   "metadata": {},
   "outputs": [],
   "source": [
    "df = sp.build_catalog_features ('rooster_training_features')"
   ]
  },
  {
   "cell_type": "markdown",
   "id": "0250e067-2bf8-47b0-a57e-ed3c4ba7127a",
   "metadata": {},
   "source": [
    "This is typically what the DataFrame is going to look like:"
   ]
  },
  {
   "cell_type": "code",
   "execution_count": 6,
   "id": "836aadd8-16ae-483e-a380-f3984e408f57",
   "metadata": {},
   "outputs": [
    {
     "data": {
      "text/html": [
       "<div>\n",
       "<style scoped>\n",
       "    .dataframe tbody tr th:only-of-type {\n",
       "        vertical-align: middle;\n",
       "    }\n",
       "\n",
       "    .dataframe tbody tr th {\n",
       "        vertical-align: top;\n",
       "    }\n",
       "\n",
       "    .dataframe thead th {\n",
       "        text-align: right;\n",
       "    }\n",
       "</style>\n",
       "<table border=\"1\" class=\"dataframe\">\n",
       "  <thead>\n",
       "    <tr style=\"text-align: right;\">\n",
       "      <th></th>\n",
       "      <th>prot_ps</th>\n",
       "      <th>prot_acf</th>\n",
       "      <th>prot_cs</th>\n",
       "      <th>e_prot_ps</th>\n",
       "      <th>E_prot_ps</th>\n",
       "      <th>e_prot_acf</th>\n",
       "      <th>E_prot_acf</th>\n",
       "      <th>e_prot_cs</th>\n",
       "      <th>E_prot_cs</th>\n",
       "      <th>sph_ps</th>\n",
       "      <th>sph_acf</th>\n",
       "      <th>sph_cs</th>\n",
       "      <th>h_ps</th>\n",
       "      <th>fa_prob_ps</th>\n",
       "      <th>hacf</th>\n",
       "      <th>gacf</th>\n",
       "      <th>hcs</th>\n",
       "    </tr>\n",
       "    <tr>\n",
       "      <th>target_id</th>\n",
       "      <th></th>\n",
       "      <th></th>\n",
       "      <th></th>\n",
       "      <th></th>\n",
       "      <th></th>\n",
       "      <th></th>\n",
       "      <th></th>\n",
       "      <th></th>\n",
       "      <th></th>\n",
       "      <th></th>\n",
       "      <th></th>\n",
       "      <th></th>\n",
       "      <th></th>\n",
       "      <th></th>\n",
       "      <th></th>\n",
       "      <th></th>\n",
       "      <th></th>\n",
       "    </tr>\n",
       "  </thead>\n",
       "  <tbody>\n",
       "    <tr>\n",
       "      <th>891901</th>\n",
       "      <td>73.598094</td>\n",
       "      <td>4.965417</td>\n",
       "      <td>5.641532</td>\n",
       "      <td>0.868158</td>\n",
       "      <td>0.889070</td>\n",
       "      <td>-1.0</td>\n",
       "      <td>-1.0</td>\n",
       "      <td>0.013101</td>\n",
       "      <td>0.013101</td>\n",
       "      <td>782.552118</td>\n",
       "      <td>580.703423</td>\n",
       "      <td>620.9578</td>\n",
       "      <td>0.121354</td>\n",
       "      <td>0.0</td>\n",
       "      <td>0.267590</td>\n",
       "      <td>0.641620</td>\n",
       "      <td>0.276603</td>\n",
       "    </tr>\n",
       "    <tr>\n",
       "      <th>1162339</th>\n",
       "      <td>73.048392</td>\n",
       "      <td>37.822796</td>\n",
       "      <td>52.152970</td>\n",
       "      <td>11.328352</td>\n",
       "      <td>16.348212</td>\n",
       "      <td>-1.0</td>\n",
       "      <td>-1.0</td>\n",
       "      <td>1.332216</td>\n",
       "      <td>1.332216</td>\n",
       "      <td>2266.134459</td>\n",
       "      <td>2175.671966</td>\n",
       "      <td>2150.902737</td>\n",
       "      <td>0.285520</td>\n",
       "      <td>0.0</td>\n",
       "      <td>0.000016</td>\n",
       "      <td>-0.573364</td>\n",
       "      <td>0.069497</td>\n",
       "    </tr>\n",
       "    <tr>\n",
       "      <th>1163248</th>\n",
       "      <td>73.048768</td>\n",
       "      <td>31.161515</td>\n",
       "      <td>31.106975</td>\n",
       "      <td>10.510137</td>\n",
       "      <td>14.697008</td>\n",
       "      <td>-1.0</td>\n",
       "      <td>-1.0</td>\n",
       "      <td>0.461608</td>\n",
       "      <td>0.461608</td>\n",
       "      <td>541.300214</td>\n",
       "      <td>536.282051</td>\n",
       "      <td>536.567054</td>\n",
       "      <td>0.092878</td>\n",
       "      <td>0.0</td>\n",
       "      <td>0.000188</td>\n",
       "      <td>-0.514464</td>\n",
       "      <td>0.243661</td>\n",
       "    </tr>\n",
       "    <tr>\n",
       "      <th>1164583</th>\n",
       "      <td>50.378386</td>\n",
       "      <td>43.769093</td>\n",
       "      <td>46.649025</td>\n",
       "      <td>12.525928</td>\n",
       "      <td>25.164929</td>\n",
       "      <td>-1.0</td>\n",
       "      <td>-1.0</td>\n",
       "      <td>5.786582</td>\n",
       "      <td>5.786582</td>\n",
       "      <td>1650.421415</td>\n",
       "      <td>1646.826363</td>\n",
       "      <td>1699.105727</td>\n",
       "      <td>0.124362</td>\n",
       "      <td>0.0</td>\n",
       "      <td>0.386349</td>\n",
       "      <td>0.344463</td>\n",
       "      <td>0.471572</td>\n",
       "    </tr>\n",
       "    <tr>\n",
       "      <th>1433067</th>\n",
       "      <td>73.048497</td>\n",
       "      <td>33.920006</td>\n",
       "      <td>47.032049</td>\n",
       "      <td>11.612364</td>\n",
       "      <td>16.946330</td>\n",
       "      <td>-1.0</td>\n",
       "      <td>-1.0</td>\n",
       "      <td>1.743422</td>\n",
       "      <td>1.743422</td>\n",
       "      <td>1219.81061</td>\n",
       "      <td>1147.088442</td>\n",
       "      <td>1197.588777</td>\n",
       "      <td>0.175185</td>\n",
       "      <td>0.0</td>\n",
       "      <td>0.000333</td>\n",
       "      <td>-0.579260</td>\n",
       "      <td>0.141747</td>\n",
       "    </tr>\n",
       "    <tr>\n",
       "      <th>...</th>\n",
       "      <td>...</td>\n",
       "      <td>...</td>\n",
       "      <td>...</td>\n",
       "      <td>...</td>\n",
       "      <td>...</td>\n",
       "      <td>...</td>\n",
       "      <td>...</td>\n",
       "      <td>...</td>\n",
       "      <td>...</td>\n",
       "      <td>...</td>\n",
       "      <td>...</td>\n",
       "      <td>...</td>\n",
       "      <td>...</td>\n",
       "      <td>...</td>\n",
       "      <td>...</td>\n",
       "      <td>...</td>\n",
       "      <td>...</td>\n",
       "    </tr>\n",
       "    <tr>\n",
       "      <th>12647815</th>\n",
       "      <td>10.435607</td>\n",
       "      <td>10.441602</td>\n",
       "      <td>10.439074</td>\n",
       "      <td>0.403142</td>\n",
       "      <td>0.436987</td>\n",
       "      <td>-1.0</td>\n",
       "      <td>-1.0</td>\n",
       "      <td>0.052554</td>\n",
       "      <td>0.052554</td>\n",
       "      <td>4727.467867</td>\n",
       "      <td>4723.666228</td>\n",
       "      <td>4725.580181</td>\n",
       "      <td>0.262546</td>\n",
       "      <td>0.0</td>\n",
       "      <td>1.028205</td>\n",
       "      <td>0.627995</td>\n",
       "      <td>0.928409</td>\n",
       "    </tr>\n",
       "    <tr>\n",
       "      <th>12737258</th>\n",
       "      <td>40.582931</td>\n",
       "      <td>48.816040</td>\n",
       "      <td>40.528881</td>\n",
       "      <td>4.159246</td>\n",
       "      <td>5.218139</td>\n",
       "      <td>-1.0</td>\n",
       "      <td>-1.0</td>\n",
       "      <td>0.874931</td>\n",
       "      <td>0.874931</td>\n",
       "      <td>2135.495994</td>\n",
       "      <td>2138.164387</td>\n",
       "      <td>2138.397742</td>\n",
       "      <td>0.146861</td>\n",
       "      <td>0.0</td>\n",
       "      <td>0.235716</td>\n",
       "      <td>-0.052722</td>\n",
       "      <td>3.079143</td>\n",
       "    </tr>\n",
       "    <tr>\n",
       "      <th>12784167</th>\n",
       "      <td>18.262306</td>\n",
       "      <td>12.484964</td>\n",
       "      <td>91.222970</td>\n",
       "      <td>0.824439</td>\n",
       "      <td>0.905366</td>\n",
       "      <td>-1.0</td>\n",
       "      <td>-1.0</td>\n",
       "      <td>3.206518</td>\n",
       "      <td>3.206518</td>\n",
       "      <td>632.0405</td>\n",
       "      <td>609.697688</td>\n",
       "      <td>650.439113</td>\n",
       "      <td>0.072066</td>\n",
       "      <td>0.0</td>\n",
       "      <td>0.000162</td>\n",
       "      <td>0.108263</td>\n",
       "      <td>2.143079</td>\n",
       "    </tr>\n",
       "    <tr>\n",
       "      <th>12834290</th>\n",
       "      <td>52.692311</td>\n",
       "      <td>30.282643</td>\n",
       "      <td>45.960567</td>\n",
       "      <td>10.789251</td>\n",
       "      <td>18.146119</td>\n",
       "      <td>-1.0</td>\n",
       "      <td>-1.0</td>\n",
       "      <td>1.271031</td>\n",
       "      <td>1.271031</td>\n",
       "      <td>528.632031</td>\n",
       "      <td>515.828567</td>\n",
       "      <td>523.312111</td>\n",
       "      <td>0.079475</td>\n",
       "      <td>0.0</td>\n",
       "      <td>0.000302</td>\n",
       "      <td>-0.455915</td>\n",
       "      <td>0.122330</td>\n",
       "    </tr>\n",
       "    <tr>\n",
       "      <th>12834663</th>\n",
       "      <td>89.966120</td>\n",
       "      <td>12.341702</td>\n",
       "      <td>103.066496</td>\n",
       "      <td>8.178805</td>\n",
       "      <td>9.996326</td>\n",
       "      <td>-1.0</td>\n",
       "      <td>-1.0</td>\n",
       "      <td>13.316311</td>\n",
       "      <td>13.316311</td>\n",
       "      <td>1084.671035</td>\n",
       "      <td>1022.085380</td>\n",
       "      <td>1084.671035</td>\n",
       "      <td>0.280246</td>\n",
       "      <td>0.0</td>\n",
       "      <td>0.007079</td>\n",
       "      <td>0.178874</td>\n",
       "      <td>1.394634</td>\n",
       "    </tr>\n",
       "  </tbody>\n",
       "</table>\n",
       "<p>1991 rows × 17 columns</p>\n",
       "</div>"
      ],
      "text/plain": [
       "             prot_ps   prot_acf     prot_cs  e_prot_ps  E_prot_ps  e_prot_acf  \\\n",
       "target_id                                                                       \n",
       "891901     73.598094   4.965417    5.641532   0.868158   0.889070        -1.0   \n",
       "1162339    73.048392  37.822796   52.152970  11.328352  16.348212        -1.0   \n",
       "1163248    73.048768  31.161515   31.106975  10.510137  14.697008        -1.0   \n",
       "1164583    50.378386  43.769093   46.649025  12.525928  25.164929        -1.0   \n",
       "1433067    73.048497  33.920006   47.032049  11.612364  16.946330        -1.0   \n",
       "...              ...        ...         ...        ...        ...         ...   \n",
       "12647815   10.435607  10.441602   10.439074   0.403142   0.436987        -1.0   \n",
       "12737258   40.582931  48.816040   40.528881   4.159246   5.218139        -1.0   \n",
       "12784167   18.262306  12.484964   91.222970   0.824439   0.905366        -1.0   \n",
       "12834290   52.692311  30.282643   45.960567  10.789251  18.146119        -1.0   \n",
       "12834663   89.966120  12.341702  103.066496   8.178805   9.996326        -1.0   \n",
       "\n",
       "           E_prot_acf  e_prot_cs  E_prot_cs       sph_ps      sph_acf  \\\n",
       "target_id                                                               \n",
       "891901           -1.0   0.013101   0.013101   782.552118   580.703423   \n",
       "1162339          -1.0   1.332216   1.332216  2266.134459  2175.671966   \n",
       "1163248          -1.0   0.461608   0.461608   541.300214   536.282051   \n",
       "1164583          -1.0   5.786582   5.786582  1650.421415  1646.826363   \n",
       "1433067          -1.0   1.743422   1.743422   1219.81061  1147.088442   \n",
       "...               ...        ...        ...          ...          ...   \n",
       "12647815         -1.0   0.052554   0.052554  4727.467867  4723.666228   \n",
       "12737258         -1.0   0.874931   0.874931  2135.495994  2138.164387   \n",
       "12784167         -1.0   3.206518   3.206518     632.0405   609.697688   \n",
       "12834290         -1.0   1.271031   1.271031   528.632031   515.828567   \n",
       "12834663         -1.0  13.316311  13.316311  1084.671035  1022.085380   \n",
       "\n",
       "                sph_cs      h_ps  fa_prob_ps      hacf      gacf       hcs  \n",
       "target_id                                                                   \n",
       "891901        620.9578  0.121354         0.0  0.267590  0.641620  0.276603  \n",
       "1162339    2150.902737  0.285520         0.0  0.000016 -0.573364  0.069497  \n",
       "1163248     536.567054  0.092878         0.0  0.000188 -0.514464  0.243661  \n",
       "1164583    1699.105727  0.124362         0.0  0.386349  0.344463  0.471572  \n",
       "1433067    1197.588777  0.175185         0.0  0.000333 -0.579260  0.141747  \n",
       "...                ...       ...         ...       ...       ...       ...  \n",
       "12647815   4725.580181  0.262546         0.0  1.028205  0.627995  0.928409  \n",
       "12737258   2138.397742  0.146861         0.0  0.235716 -0.052722  3.079143  \n",
       "12784167    650.439113  0.072066         0.0  0.000162  0.108263  2.143079  \n",
       "12834290    523.312111  0.079475         0.0  0.000302 -0.455915  0.122330  \n",
       "12834663   1084.671035  0.280246         0.0  0.007079  0.178874  1.394634  \n",
       "\n",
       "[1991 rows x 17 columns]"
      ]
     },
     "execution_count": 6,
     "metadata": {},
     "output_type": "execute_result"
    }
   ],
   "source": [
    "df"
   ]
  },
  {
   "cell_type": "markdown",
   "id": "2bd62881-232c-46bd-a43f-3a4fdd652302",
   "metadata": {},
   "source": [
    "## Training and testing ROOSTER\n",
    "\n",
    "Now that we have analysed a large sample of stars, we are able to use it to train the random forest ROOSTER methodology (see Breton et al. 2021). First, let's (arbitrarily) divide our DataFrame into a training set and a test set."
   ]
  },
  {
   "cell_type": "code",
   "execution_count": 7,
   "id": "5008126a-abed-4464-a4ef-b755a90dc60a",
   "metadata": {},
   "outputs": [],
   "source": [
    "df_train = df.loc[df.index[::2]]\n",
    "df_test = df.loc[df.index[1::2]]"
   ]
  },
  {
   "cell_type": "markdown",
   "id": "ae78d48d-7d07-4cc5-8587-cc1e224c7dd6",
   "metadata": {},
   "source": [
    "The DataFrames let us obtain all the input we require to train and test ROOSTER:"
   ]
  },
  {
   "cell_type": "code",
   "execution_count": 8,
   "id": "ba83bdc2-7b32-48f7-8211-2f2152b1c0f9",
   "metadata": {},
   "outputs": [],
   "source": [
    "training_id, training_p_candidates, training_features, feature_names = sp.create_rooster_feature_inputs (df_train)\n",
    "test_id, test_p_candidates, test_features, test_feature_names = sp.create_rooster_feature_inputs (df_test)"
   ]
  },
  {
   "cell_type": "markdown",
   "id": "7106924c-c015-4de5-8ab8-28ccf3e24da7",
   "metadata": {},
   "source": [
    "Now, let's instantiate a new ROOSTER object. The main attributes of ROOSTER are its two random forest classifiers, ``RotClass`` and ``PeriodSel``. The properties of these classifiers can be specified by the user by passing the optional arguments of ``sklearn.ensemble.RandomForestClassifier`` to the created ROOSTER instance. "
   ]
  },
  {
   "cell_type": "code",
   "execution_count": 9,
   "id": "f04cfda6-132f-44e3-bf27-42c45b059128",
   "metadata": {},
   "outputs": [
    {
     "data": {
      "text/plain": [
       "(RandomForestClassifier(random_state=RandomState(MT19937) at 0x13C34E140),\n",
       " RandomForestClassifier(random_state=RandomState(MT19937) at 0x13C34E140))"
      ]
     },
     "execution_count": 9,
     "metadata": {},
     "output_type": "execute_result"
    }
   ],
   "source": [
    "seed = 104359357\n",
    "chicken = sp.ROOSTER (n_estimators=100, random_state=np.random.RandomState (seed=seed))\n",
    "chicken.RotClass, chicken.PeriodSel"
   ]
  },
  {
   "cell_type": "markdown",
   "id": "fcb2cab0-69ac-4156-825d-7032485cfd6f",
   "metadata": {},
   "source": [
    "The training is performed as follows:"
   ]
  },
  {
   "cell_type": "code",
   "execution_count": 10,
   "id": "ba8c1383-9209-4625-a7a8-4dd8b4629b49",
   "metadata": {},
   "outputs": [
    {
     "name": "stdout",
     "output_type": "stream",
     "text": [
      "Training RotClass with 391 stars with detected rotation and 494 without detected rotation.\n",
      "Training PeriodSel with 391 stars.\n"
     ]
    }
   ],
   "source": [
    "chicken.train (training_id, training_p_candidates,\n",
    "               training_features, feature_names=feature_names,\n",
    "               catalog='santos-19-21', verbose=True)"
   ]
  },
  {
   "cell_type": "markdown",
   "id": "0e65175c-4340-4456-9c92-9e14a4a8061a",
   "metadata": {},
   "source": [
    "Once properly trained, ROOSTER performances can be assessed with our test set:"
   ]
  },
  {
   "cell_type": "code",
   "execution_count": 11,
   "id": "0e53e98e-487b-4c46-abfc-ec97f2de13b1",
   "metadata": {},
   "outputs": [
    {
     "name": "stdout",
     "output_type": "stream",
     "text": [
      "Testing RotClass with 384 stars with detected rotation and 501 without detected rotation.\n",
      "Testing PeriodSel with 384 stars.\n"
     ]
    }
   ],
   "source": [
    "results = chicken.test (test_id, test_p_candidates, test_features, \n",
    "                        feature_names=test_feature_names, \n",
    "                        catalog='santos-19-21', verbose=True)"
   ]
  },
  {
   "cell_type": "markdown",
   "id": "a85962c1-2aeb-41c4-a602-b849f082a35e",
   "metadata": {},
   "source": [
    "The score obtained during the test set can be accessed through the ``getScore`` function, as well as the number of elements used for the training and the test steps. "
   ]
  },
  {
   "cell_type": "code",
   "execution_count": 12,
   "id": "46baae9b-17ee-4dfa-91a2-53a91658239b",
   "metadata": {},
   "outputs": [
    {
     "data": {
      "text/plain": [
       "(0.9175141242937853, 0.9244791666666666)"
      ]
     },
     "execution_count": 12,
     "metadata": {},
     "output_type": "execute_result"
    }
   ],
   "source": [
    "chicken.getScore ()"
   ]
  },
  {
   "cell_type": "code",
   "execution_count": 13,
   "id": "130bbf1e-262c-4e47-8817-ca57329bbf59",
   "metadata": {},
   "outputs": [
    {
     "data": {
      "text/plain": [
       "(885, 391)"
      ]
     },
     "execution_count": 13,
     "metadata": {},
     "output_type": "execute_result"
    }
   ],
   "source": [
    "chicken.getNumberEltTrain ()"
   ]
  },
  {
   "cell_type": "code",
   "execution_count": 14,
   "id": "863508ce-e3db-4b62-8b62-25c75f962c18",
   "metadata": {},
   "outputs": [
    {
     "data": {
      "text/plain": [
       "(885, 384)"
      ]
     },
     "execution_count": 14,
     "metadata": {},
     "output_type": "execute_result"
    }
   ],
   "source": [
    "chicken.getNumberEltTest ()"
   ]
  },
  {
   "cell_type": "markdown",
   "id": "ec1e3196-a8a7-4a1d-9fff-f0f877902ea8",
   "metadata": {},
   "source": [
    "The $P_\\mathrm{rot}$ computed by ROOSTER for the test set are returned when calling the function and it can be interesting to plot the distribution to compare it to the reference catalog values. "
   ]
  },
  {
   "cell_type": "code",
   "execution_count": 15,
   "id": "48d6f744-bc2a-4242-99a6-e1911c7e0fd4",
   "metadata": {},
   "outputs": [],
   "source": [
    "prot_rooster = results[3]\n",
    "prot_ref = sp.get_prot_ref (results[2], catalog='santos-19-21')"
   ]
  },
  {
   "cell_type": "markdown",
   "id": "4433ee40-d6a6-4ad5-bcd5-21d8abff62ac",
   "metadata": {},
   "source": [
    "Let's take a look at the corresponding histogram"
   ]
  },
  {
   "cell_type": "code",
   "execution_count": 16,
   "id": "81572edc-2368-4cab-9afa-90de0a62b178",
   "metadata": {},
   "outputs": [
    {
     "data": {
      "text/plain": [
       "<matplotlib.legend.Legend at 0x13c01b3a0>"
      ]
     },
     "execution_count": 16,
     "metadata": {},
     "output_type": "execute_result"
    },
    {
     "data": {
      "image/png": "[encoded data removed]",
      "text/plain": [
       "<Figure size 640x480 with 1 Axes>"
      ]
     },
     "metadata": {},
     "output_type": "display_data"
    }
   ],
   "source": [
    "fig, ax = plt.subplots (1, 1)\n",
    "\n",
    "bins = np.linspace (0, 80, 20, endpoint=False)\n",
    "\n",
    "ax.hist (prot_rooster, bins=bins, color='darkorange', label='ROOSTER')\n",
    "ax.hist (prot_ref, bins=bins, facecolor='none',\n",
    "        edgecolor='black', label='Ref')\n",
    "\n",
    "ax.set_xlabel (r'$P_\\mathrm{rot}$ (day)')\n",
    "ax.set_ylabel (r'Number of stars')\n",
    "\n",
    "ax.legend ()"
   ]
  },
  {
   "cell_type": "markdown",
   "id": "21f347d7-625f-4614-9515-c886a699e72e",
   "metadata": {},
   "source": [
    "Finally, let's save our trained ROOSTER instance to be able to use it again later (for example in the next tutorial notebook !)"
   ]
  },
  {
   "cell_type": "code",
   "execution_count": 17,
   "id": "d09042ec-c6ae-4b33-96ae-09d16756b1f7",
   "metadata": {},
   "outputs": [],
   "source": [
    "chicken.save ('rooster_instances/rooster_tutorial')"
   ]
  },
  {
   "cell_type": "code",
   "execution_count": null,
   "id": "90f0401c-630a-4ce2-a029-c87a4e889364",
   "metadata": {},
   "outputs": [],
   "source": []
  }
 ],
 "metadata": {
  "kernelspec": {
   "display_name": "Python [conda env:main-3.9] *",
   "language": "python",
   "name": "conda-env-main-3.9-py"
  },
  "language_info": {
   "codemirror_mode": {
    "name": "ipython",
    "version": 3
   },
   "file_extension": ".py",
   "mimetype": "text/x-python",
   "name": "python",
   "nbconvert_exporter": "python",
   "pygments_lexer": "ipython3",
   "version": "3.9.15"
  }
 },
 "nbformat": 4,
 "nbformat_minor": 5
}
