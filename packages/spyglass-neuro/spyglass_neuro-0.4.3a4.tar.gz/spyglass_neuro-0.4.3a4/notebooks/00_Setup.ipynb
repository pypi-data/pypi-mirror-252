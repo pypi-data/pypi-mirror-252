{
 "cells": [
  {
   "cell_type": "markdown",
   "id": "1c661dbc",
   "metadata": {},
   "source": [
    "# Setup\n"
   ]
  },
  {
   "cell_type": "markdown",
   "id": "cbb74150",
   "metadata": {},
   "source": [
    "Welcome to [Spyglass](https://lorenfranklab.github.io/spyglass/0.4/),\n",
    "a [DataJoint](https://github.com/datajoint/datajoint-python/)\n",
    "pipeline maintained by the [Frank Lab](https://franklab.ucsf.edu/) at UCSF.\n",
    "\n",
    "Spyglass will help you take an [NWB](https://www.nwb.org/) file from raw data to\n",
    "analysis-ready preprocessed formats using DataJoint to (a) connect to a\n",
    "[relational database](https://www.youtube.com/watch?v=q-PMUSC5P5o) (here,\n",
    "MySQL), and (b) automate processing steps. To use Spyglass, you'll need to ...\n",
    "\n",
    "1. Set up your local environment\n",
    "2. Connect to a database\n"
   ]
  },
  {
   "cell_type": "markdown",
   "id": "65a5bf87",
   "metadata": {},
   "source": [
    "## Local environment\n",
    "\n",
    "Codespace users can skip this step. Frank Lab members should first follow\n",
    "'rec to nwb overview' steps on Google Drive to set up an ssh connection.\n",
    "\n",
    "For local use, download and install ...\n",
    "\n",
    "1. [Python 3.9](https://wiki.python.org/moin/BeginnersGuide/Download).\n",
    "2. [mamba](https://mamba.readthedocs.io/en/latest/installation.html) as a\n",
    "   replacement for conda. Spyglass installation is significantly faster with\n",
    "   mamba.\n",
    "   ```bash\n",
    "   wget \"https://github.com/conda-forge/miniforge/releases/latest/download/Miniforge3-$(uname)-$(uname -m).sh\"\n",
    "   bash Miniforge3-$(uname)-$(uname -m).sh\n",
    "   ```\n",
    "3. [VS Code](https://code.visualstudio.com/docs/python/python-tutorial) with\n",
    "   relevant python extensions, including\n",
    "   [Jupyter](https://code.visualstudio.com/docs/datascience/jupyter-notebooks).\n",
    "   Hold off on selecting your interpreter until after you make the environment\n",
    "   with `mamba`.\n",
    "4. [git](https://git-scm.com/book/en/v2/Getting-Started-Installing-Git) for\n",
    "   downloading the repository, including notebooks.\n",
    "\n",
    "In a terminal, ...\n",
    "\n",
    "1. navigate to your project directory.\n",
    "2. use `git` to download the Spyglass repository.\n",
    "3. navigate to the newly downloaded directory.\n",
    "4. create a `mamba` environment with either the standard `environment.yml` or\n",
    "   the `environment_position.yml`, if you intend to use the full position\n",
    "   pipeline. The latter will take longer to install.\n",
    "5. open this notebook with VSCode\n",
    "\n",
    "Commands for the steps above ...\n",
    "\n",
    "```bash\n",
    "cd /your/project/directory/ # 1\n",
    "git clone https://github.com/LorenFrankLab/spyglass/ # 2\n",
    "cd spyglass # 3\n",
    "mamba env create -f environment.yml # 4\n",
    "code notebooks/00_Setup.ipynb # 5\n",
    "```\n",
    "\n",
    "_Note:_ Spyglass is also installable via\n",
    "[pip](<https://en.wikipedia.org/wiki/Pip_(package_manager)>)\n",
    "and [pypi](https://pypi.org/project/spyglass-neuro/) with `pip install spyglass-neuro`, but downloading from GitHub will also other files accessible.\n",
    "\n",
    "Next, within VSCode,\n",
    "[select the kernel](https://code.visualstudio.com/docs/datascience/jupyter-kernel-management)\n",
    "that matches your spyglass environment created with `mamba`. To use other Python\n",
    "interfaces, be sure to activate the environment: `conda activate spyglass`\n",
    "\n",
    "See [this guide](https://datajoint.com/docs/elements/user-guide/) for additional\n",
    "details on each of these programs and the role they play in using the pipeline.\n"
   ]
  },
  {
   "cell_type": "markdown",
   "id": "f87a0acc",
   "metadata": {},
   "source": [
    "## Database Connection\n"
   ]
  },
  {
   "cell_type": "markdown",
   "id": "1dc35b5a",
   "metadata": {},
   "source": [
    "You have a few options for databases.\n",
    "\n",
    "1. Connect to an existing database.\n",
    "2. Use GitHub Codespaces (coming soon...)\n",
    "3. Run your own database with [Docker](#running-your-own-database)\n",
    "\n",
    "Once your database is set up, be sure to configure the connection\n",
    "with your `dj_local_conf.json` file.\n"
   ]
  },
  {
   "cell_type": "markdown",
   "id": "f6f3fa15",
   "metadata": {},
   "source": [
    "### Existing Database\n"
   ]
  },
  {
   "cell_type": "markdown",
   "id": "580d3feb",
   "metadata": {},
   "source": [
    "Members of the Frank Lab will need to use DataJoint 0.14.2 (currently in\n",
    "pre-release) in order to change their password on the MySQL 8 server. DataJoint\n",
    "0.14.2\n",
    "\n",
    "```bash\n",
    "git clone https://github.com/datajoint/datajoint-python\n",
    "pip install ./datajoint-python\n",
    "```\n",
    "\n",
    "Members of the lab can run the `dj_config.py` helper script to generate a config\n",
    "like the one below.\n",
    "\n",
    "```bash\n",
    "cd spyglass\n",
    "python config/dj_config.py <username> <base_path> <output_filename>\n",
    "```\n",
    "\n",
    "Outside users should copy/paste `dj_local_conf_example` and adjust values\n",
    "accordingly.\n",
    "\n",
    "The base path (formerly `SPYGLASS_BASE_DIR`) is the directory where all data\n",
    "will be saved. See also\n",
    "[docs](https://lorenfranklab.github.io/spyglass/0.4/installation/) for more\n",
    "information on subdirectories.\n",
    "\n",
    "A different `output_filename` will save different files:\n",
    "\n",
    "- `dj_local_conf.json`: Recommended. Used for tutorials. A file in the current\n",
    "  directory DataJoint will automatically recognize when a Python session is\n",
    "  launched from this directory.\n",
    "- `.datajoint_config.json` or no input: A file in the user's home directory\n",
    "  that will be referenced whenever no local version (see above) is present.\n",
    "- Anything else: A custom name that will need to be loaded (e.g.,\n",
    "  `dj.load('x')`) for each python session.\n",
    "\n",
    "The config will be a `json` file like the following.\n",
    "\n",
    "```json\n",
    "{\n",
    "    \"database.host\": \"lmf-db.cin.ucsf.edu\",\n",
    "    \"database.user\": \"<username>\",\n",
    "    \"database.password\": \"Not recommended for shared machines\",\n",
    "    \"database.port\": 3306,\n",
    "    \"database.use_tls\": true,\n",
    "    \"enable_python_native_blobs\": true,\n",
    "    \"filepath_checksum_size_limit\": 1 * 1024**3,\n",
    "    \"loglevel\": \"INFO\",\n",
    "    \"stores\": {\n",
    "        \"raw\": {\n",
    "            \"protocol\": \"file\",\n",
    "            \"location\": \"/stelmo/nwb/raw\",\n",
    "            \"stage\": \"/stelmo/nwb/raw\"\n",
    "        },\n",
    "        \"analysis\": {\n",
    "            \"protocol\": \"file\",\n",
    "            \"location\": \"/stelmo/nwb/analysis\",\n",
    "            \"stage\": \"/stelmo/nwb/analysis\"\n",
    "        }\n",
    "    },\n",
    "    \"custom\": {\n",
    "        \"spyglass_dirs\": {\n",
    "            \"base\": \"/stelmo/nwb/\"\n",
    "        }\n",
    "    }\n",
    "}\n",
    "```\n",
    "\n",
    "Spyglass will use the log level present in your DataJoint config to decide the\n",
    "appropriate logging level for this session. To change the messages you see,\n",
    "select from one of [these options](https://docs.python.org/3/library/logging.html#levels).\n",
    "\n",
    "If you see an error saying `Could not find SPYGLASS_BASE_DIR`, try loading your\n",
    "config before importing Spyglass.\n",
    "\n",
    "```python\n",
    "import datajoint as dj\n",
    "dj.load('/path/to/config')\n",
    "import spyglass\n",
    "```\n"
   ]
  },
  {
   "cell_type": "markdown",
   "id": "a63761cc-437f-4e4a-a777-664b321b9b94",
   "metadata": {},
   "source": [
    "### Running your own database\n"
   ]
  },
  {
   "cell_type": "markdown",
   "id": "97bac46e",
   "metadata": {},
   "source": [
    "#### Setup Docker\n",
    "\n",
    "- First, [install Docker](https://docs.docker.com/engine/install/).\n",
    "- Add yourself to the\n",
    "  [`docker` group](https://docs.docker.com/engine/install/linux-postinstall/) so\n",
    "  that you don't have to be sudo to run docker.\n",
    "- Download the docker image for `datajoint/mysql:8.0`.\n",
    "\n",
    "  ```bash\n",
    "  docker pull datajoint/mysql:8.0\n",
    "  ```\n",
    "\n",
    "_Note_: For this demo, MySQL version won't matter. Some\n",
    "[database management](https://lorenfranklab.github.io/spyglass/latest/misc/database_management/#mysql-version)\n",
    "features of Spyglass, however, expect MySQL >= 8.\n",
    "\n",
    "- When run, this is referred to as a 'Docker container'\n",
    "- Next start the container with a couple additional pieces of info...\n",
    "\n",
    "  - Root password. We use `tutorial`.\n",
    "  - Database name. Here, we use `spyglass-db`.\n",
    "  - Port mapping. Here, we map 3306 across the local machine and container.\n",
    "\n",
    "  ```bash\n",
    "  docker run --name spyglass-db -p 3306:3306 -e MYSQL_ROOT_PASSWORD=tutorial datajoint/mysql:8.0\n",
    "  ```\n",
    "\n",
    "- For data to persist after terminating the container,\n",
    "  [attach a volume](https://docs.docker.com/storage/volumes/) when running:\n",
    "\n",
    "  ```bash\n",
    "  docker volume create dj-vol\n",
    "  docker run --name spyglass-db -v dj-vol:/var/lib/mysql -p 3306:3306 -e MYSQL_ROOT_PASSWORD=tutorial datajoint/mysql\n",
    "  ```\n",
    "\n",
    "#### Configure\n",
    "\n",
    "The `dj_local_conf_example.json` contains all the defaults for a Docker\n",
    "connection. Simply rename to `dj_local_conf.json` and modify the contents\n",
    "accordingly. This includes the host, password and user. For Spyglass, you'll\n",
    "want to set your base path under `custom`:\n",
    "\n",
    "```json\n",
    "{\n",
    "  \"database.host\": \"localhost\",\n",
    "  \"database.password\": \"tutorial\",\n",
    "  \"database.user\": \"root\",\n",
    "  \"custom\": {\n",
    "    \"database.prefix\": \"username_\",\n",
    "    \"spyglass_dirs\": {\n",
    "      \"base\": \"/your/base/path\"\n",
    "    }\n",
    "  }\n",
    "}\n",
    "```\n"
   ]
  },
  {
   "cell_type": "markdown",
   "id": "706d0ed5",
   "metadata": {},
   "source": [
    "### Loading the config\n",
    "\n",
    "We can check that the paths are correctly set up by loading the config from\n",
    "the main Spyglass directory.\n"
   ]
  },
  {
   "cell_type": "code",
   "execution_count": 1,
   "id": "912ac84b",
   "metadata": {},
   "outputs": [
    {
     "data": {
      "text/plain": [
       "{'debug_mode': True,\n",
       " 'prepopulate': True,\n",
       " 'SPYGLASS_BASE_DIR': '/stelmo/nwb',\n",
       " 'SPYGLASS_RAW_DIR': '/stelmo/nwb/raw',\n",
       " 'SPYGLASS_ANALYSIS_DIR': '/stelmo/nwb/analysis',\n",
       " 'SPYGLASS_RECORDING_DIR': '/stelmo/nwb/recording',\n",
       " 'SPYGLASS_SORTING_DIR': '/stelmo/nwb/spikesorting',\n",
       " 'SPYGLASS_WAVEFORMS_DIR': '/stelmo/nwb/waveforms',\n",
       " 'SPYGLASS_TEMP_DIR': '/stelmo/nwb/tmp',\n",
       " 'SPYGLASS_VIDEO_DIR': '/stelmo/nwb/video',\n",
       " 'KACHERY_CLOUD_DIR': '/stelmo/nwb/kachery_storage',\n",
       " 'KACHERY_STORAGE_DIR': '/stelmo/nwb/kachery_storage',\n",
       " 'KACHERY_TEMP_DIR': '/stelmo/nwb/tmp',\n",
       " 'KACHERY_ZONE': 'franklab.default',\n",
       " 'FIGURL_CHANNEL': 'franklab2',\n",
       " 'DJ_SUPPORT_FILEPATH_MANAGEMENT': 'TRUE',\n",
       " 'KACHERY_CLOUD_EPHEMERAL': 'TRUE'}"
      ]
     },
     "execution_count": 1,
     "metadata": {},
     "output_type": "execute_result"
    }
   ],
   "source": [
    "import os\n",
    "import datajoint as dj\n",
    "\n",
    "if os.path.basename(os.getcwd()) == \"notebooks\":\n",
    "    os.chdir(\"..\")\n",
    "dj.config.load(\"dj_local_conf.json\")\n",
    "\n",
    "from spyglass.settings import config\n",
    "\n",
    "config"
   ]
  },
  {
   "cell_type": "markdown",
   "id": "b5c15d54",
   "metadata": {},
   "source": [
    "### Connect\n",
    "\n",
    "Now, you should be able to connect to the database you set up.\n",
    "\n",
    "Let's demonstrate with an example table:\n"
   ]
  },
  {
   "cell_type": "code",
   "execution_count": 2,
   "id": "afb63913-4e6b-4049-ae1d-55ab1ac8d42c",
   "metadata": {},
   "outputs": [
    {
     "name": "stderr",
     "output_type": "stream",
     "text": [
      "[2023-09-28 08:07:06,176][INFO]: Connecting root@localhost:3307\n"
     ]
    },
    {
     "name": "stderr",
     "output_type": "stream",
     "text": [
      "[2023-09-28 08:07:06,254][INFO]: Connected root@localhost:3307\n"
     ]
    },
    {
     "name": "stdout",
     "output_type": "stream",
     "text": [
      "Populate: Populating table DataAcquisitionDeviceSystem with data {'data_acquisition_device_system': 'SpikeGadgets'} using insert1.\n",
      "Populate: Populating table DataAcquisitionDeviceAmplifier with data {'data_acquisition_device_amplifier': 'Intan'} using insert1.\n"
     ]
    },
    {
     "data": {
      "text/html": [
       "\n",
       "    \n",
       "    <style type=\"text/css\">\n",
       "        .Relation{\n",
       "            border-collapse:collapse;\n",
       "        }\n",
       "        .Relation th{\n",
       "            background: #A0A0A0; color: #ffffff; padding:4px; border:#f0e0e0 1px solid;\n",
       "            font-weight: normal; font-family: monospace; font-size: 100%;\n",
       "        }\n",
       "        .Relation td{\n",
       "            padding:4px; border:#f0e0e0 1px solid; font-size:100%;\n",
       "        }\n",
       "        .Relation tr:nth-child(odd){\n",
       "            background: #ffffff;\n",
       "        }\n",
       "        .Relation tr:nth-child(even){\n",
       "            background: #f3f1ff;\n",
       "        }\n",
       "        /* Tooltip container */\n",
       "        .djtooltip {\n",
       "        }\n",
       "        /* Tooltip text */\n",
       "        .djtooltip .djtooltiptext {\n",
       "            visibility: hidden;\n",
       "            width: 120px;\n",
       "            background-color: black;\n",
       "            color: #fff;\n",
       "            text-align: center;\n",
       "            padding: 5px 0;\n",
       "            border-radius: 6px;\n",
       "            /* Position the tooltip text - see examples below! */\n",
       "            position: absolute;\n",
       "            z-index: 1;\n",
       "        }\n",
       "        #primary {\n",
       "            font-weight: bold;\n",
       "            color: black;\n",
       "        }\n",
       "        #nonprimary {\n",
       "            font-weight: normal;\n",
       "            color: white;\n",
       "        }\n",
       "\n",
       "        /* Show the tooltip text when you mouse over the tooltip container */\n",
       "        .djtooltip:hover .djtooltiptext {\n",
       "            visibility: visible;\n",
       "        }\n",
       "    </style>\n",
       "    \n",
       "    <b>Table for holding the NWB files.</b>\n",
       "        <div style=\"max-height:1000px;max-width:1500px;overflow:auto;\">\n",
       "        <table border=\"1\" class=\"Relation\">\n",
       "            <thead> <tr style=\"text-align: right;\"> <th> <div class=\"djtooltip\">\n",
       "                            <p id=\"primary\">nwb_file_name</p>\n",
       "                            <span class=\"djtooltiptext\">name of the NWB file</span>\n",
       "                        </div></th><th><div class=\"djtooltip\">\n",
       "                            <p id=\"nonprimary\">nwb_file_abs_path</p>\n",
       "                            <span class=\"djtooltiptext\"></span>\n",
       "                        </div> </th> </tr> </thead>\n",
       "            <tbody> <tr> <td>CH101_20210711_.nwb</td>\n",
       "<td>=BLOB=</td></tr><tr><td>CH73_20211206_.nwb</td>\n",
       "<td>=BLOB=</td></tr><tr><td>CH65_20211212_.nwb</td>\n",
       "<td>=BLOB=</td></tr><tr><td>J1620210620_.nwb</td>\n",
       "<td>=BLOB=</td></tr><tr><td>montague20200802_.nwb</td>\n",
       "<td>=BLOB=</td></tr><tr><td>chimi20200304_.nwb</td>\n",
       "<td>=BLOB=</td></tr><tr><td>Wallie20220913_.nwb</td>\n",
       "<td>=BLOB=</td></tr><tr><td>mango20211203_.nwb</td>\n",
       "<td>=BLOB=</td></tr><tr><td>peanut20201108_.nwb</td>\n",
       "<td>=BLOB=</td></tr><tr><td>wilbur20210406_.nwb</td>\n",
       "<td>=BLOB=</td></tr><tr><td>eliot20221022_.nwb</td>\n",
       "<td>=BLOB=</td></tr><tr><td>Dan20211109_.nwb</td>\n",
       "<td>=BLOB=</td> </tr> </tbody>\n",
       "        </table>\n",
       "        <p>...</p>\n",
       "        <p>Total: 817</p></div>\n",
       "        "
      ],
      "text/plain": [
       "*nwb_file_name nwb_file_a\n",
       "+------------+ +--------+\n",
       "\n",
       " (Total: 0)"
      ]
     },
     "execution_count": 2,
     "metadata": {},
     "output_type": "execute_result"
    }
   ],
   "source": [
    "from spyglass.common import Nwbfile\n",
    "\n",
    "Nwbfile()"
   ]
  },
  {
   "cell_type": "markdown",
   "id": "13fd64af",
   "metadata": {},
   "source": [
    "# Up Next\n"
   ]
  },
  {
   "cell_type": "markdown",
   "id": "c6850095",
   "metadata": {},
   "source": [
    "Next, we'll try [inserting data](./01_Insert_Data.ipynb)\n"
   ]
  }
 ],
 "metadata": {
  "kernelspec": {
   "display_name": "Python 3 (ipykernel)",
   "language": "python",
   "name": "python3"
  },
  "language_info": {
   "codemirror_mode": {
    "name": "ipython",
    "version": 3
   },
   "file_extension": ".py",
   "mimetype": "text/x-python",
   "name": "python",
   "nbconvert_exporter": "python",
   "pygments_lexer": "ipython3",
   "version": "3.9.16"
  }
 },
 "nbformat": 4,
 "nbformat_minor": 5
}
