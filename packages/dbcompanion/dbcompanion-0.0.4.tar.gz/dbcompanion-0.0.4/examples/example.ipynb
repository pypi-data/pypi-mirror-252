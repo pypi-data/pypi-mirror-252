{
 "cells": [
  {
   "cell_type": "code",
   "execution_count": 1,
   "metadata": {},
   "outputs": [],
   "source": [
    "import sys\n",
    "import os\n",
    "import dotenv"
   ]
  },
  {
   "cell_type": "code",
   "execution_count": 2,
   "metadata": {},
   "outputs": [],
   "source": [
    "sys.path.append(\"..\")"
   ]
  },
  {
   "cell_type": "code",
   "execution_count": 3,
   "metadata": {},
   "outputs": [
    {
     "data": {
      "text/plain": [
       "True"
      ]
     },
     "execution_count": 3,
     "metadata": {},
     "output_type": "execute_result"
    }
   ],
   "source": [
    "dotenv.load_dotenv()"
   ]
  },
  {
   "cell_type": "code",
   "execution_count": 4,
   "metadata": {},
   "outputs": [],
   "source": [
    "API_KEY = os.environ[\"OPENAI_KEY\"]\n",
    "\n",
    "USERNAME = os.environ[\"USERNAME\"]\n",
    "PASSWORD = os.environ[\"PASSWORD\"]\n",
    "HOST = os.environ[\"HOST\"]\n",
    "PORT = int(os.environ[\"PORT\"])\n",
    "DATABASE = os.environ[\"DATABASE\"]"
   ]
  },
  {
   "cell_type": "code",
   "execution_count": 5,
   "metadata": {},
   "outputs": [],
   "source": [
    "from DBCompanion.report import Report"
   ]
  },
  {
   "cell_type": "code",
   "execution_count": 6,
   "metadata": {},
   "outputs": [],
   "source": [
    "report = Report(name=\"Sri Lanka Food Price Report\",save_directory=\"SampleReport\", api_key=API_KEY)"
   ]
  },
  {
   "cell_type": "code",
   "execution_count": 7,
   "metadata": {},
   "outputs": [],
   "source": [
    "report.add_source_database(\n",
    "    username=USERNAME, \n",
    "    password=PASSWORD, \n",
    "    host=HOST, \n",
    "    port=PORT, \n",
    "    database=DATABASE\n",
    "    )"
   ]
  },
  {
   "cell_type": "code",
   "execution_count": 8,
   "metadata": {},
   "outputs": [],
   "source": [
    "example_instructions = \"\"\"\n",
    "Valid code generattion:\n",
    "```python \n",
    "def plot_yearly_price_for_category_cereals_and_tubers(conn):\n",
    "    import pandas as pd\n",
    "    import matplotlib.pyplot as plt\n",
    "    \n",
    "    query = \"SELECT YEAR(`date`) AS year, AVG(`price`) AS avg_price FROM `sri_lanka_food_prices` WHERE `category` = 'cereals and tubers' GROUP BY YEAR(`date`)\"\n",
    "    df = pd.read_sql_query(query, conn)\n",
    "    \n",
    "    plt.plot(df['year'], df['avg_price'])\n",
    "    plt.xlabel('Year')\n",
    "    plt.ylabel('Average Price')\n",
    "    plt.title('Yearly Price for Category: Cereals and Tubers')\n",
    "    return plt```\n",
    "\n",
    "Invalid code generation:\n",
    "```python \n",
    "def plot_yearly_price_for_category_cereals_and_tubers(conn):\n",
    "    import pandas as pd\n",
    "    import matplotlib.pyplot as plt\n",
    "    \n",
    "    query = \"SELECT YEAR(`date`) AS year, AVG(`price`) AS avg_price FROM `sri_lanka_food_prices` WHERE `category` = 'cereals and tubers' GROUP BY YEAR(`date`)\"\n",
    "    df = pd.read_sql_query(query, conn)\n",
    "    \n",
    "    plt.plot(df['year'], df['avg_price'])\n",
    "    plt.xlabel('Year')\n",
    "    plt.ylabel('Average Price')\n",
    "    plt.title('Yearly Price for Category: Cereals and Tubers')\n",
    "    plt.show()```\n",
    "\"\"\""
   ]
  },
  {
   "cell_type": "code",
   "execution_count": 9,
   "metadata": {},
   "outputs": [],
   "source": [
    "report.add_instruction('example_instruction',example_instructions)"
   ]
  },
  {
   "cell_type": "code",
   "execution_count": 10,
   "metadata": {},
   "outputs": [],
   "source": [
    "report.add_step(\"How many different categories are there?\")"
   ]
  },
  {
   "cell_type": "code",
   "execution_count": 11,
   "metadata": {},
   "outputs": [],
   "source": [
    "report.add_step(\"How many records per year? plot using bar graph.\")"
   ]
  },
  {
   "cell_type": "code",
   "execution_count": 12,
   "metadata": {},
   "outputs": [],
   "source": [
    "report.add_step(\"Plot yearly average price of 'cereals and tubers'\")"
   ]
  },
  {
   "cell_type": "code",
   "execution_count": 13,
   "metadata": {},
   "outputs": [],
   "source": [
    "report.add_step(\"Plot monthly % price change for the category 'cereals and tubers' for year 2017\")"
   ]
  },
  {
   "cell_type": "code",
   "execution_count": 14,
   "metadata": {},
   "outputs": [
    {
     "name": "stderr",
     "output_type": "stream",
     "text": [
      "Compiling report... :   0%|          | 0/4 [00:00<?, ?it/s]"
     ]
    },
    {
     "name": "stderr",
     "output_type": "stream",
     "text": [
      "Compiling report... : 100%|██████████| 4/4 [00:37<00:00,  9.38s/it]\n"
     ]
    }
   ],
   "source": [
    "report.compile_report(force_execute_steps=True)"
   ]
  },
  {
   "cell_type": "code",
   "execution_count": 15,
   "metadata": {},
   "outputs": [],
   "source": [
    "report.save_as_html()"
   ]
  }
 ],
 "metadata": {
  "kernelspec": {
   "display_name": "LLM",
   "language": "python",
   "name": "llm"
  },
  "language_info": {
   "codemirror_mode": {
    "name": "ipython",
    "version": 3
   },
   "file_extension": ".py",
   "mimetype": "text/x-python",
   "name": "python",
   "nbconvert_exporter": "python",
   "pygments_lexer": "ipython3",
   "version": "3.11.6"
  }
 },
 "nbformat": 4,
 "nbformat_minor": 2
}
