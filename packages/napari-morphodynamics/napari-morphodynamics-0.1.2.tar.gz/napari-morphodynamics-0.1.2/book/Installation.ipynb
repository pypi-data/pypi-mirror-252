{
 "cells": [
  {
   "cell_type": "markdown",
   "metadata": {
    "editable": true,
    "slideshow": {
     "slide_type": ""
    },
    "tags": []
   },
   "source": [
    "# Installation\n",
    "\n",
    "To use this plugin you need to be familiar with napari, an interactive viewer for images in Python, which is also becoming a popular standalone application for bioimage analysis. napari has a rich ecosystem of plugins such as ```napari-morphodynamics```, which are extensions for specific image analysis tasks. To get started you need a running napari installation first. You will find more information on the [napari website](https://napari.org/stable/tutorials/fundamentals/installation.html).\n",
    "\n",
    "Commonly you will create a conda environment in which to first install napari:\n",
    "\n",
    "```\n",
    "mamba create -n naparimorpho python=3.9 napari pyqt\n",
    "```\n",
    "\n",
    "Then you activate the environment and install the plugin from pip:\n",
    "\n",
    "```\n",
    "mamba activate naparimorpho\n",
    "pip install napari-morphodynamics\n",
    "```\n",
    "\n",
    "After restarting, the plugin will appear in the plugin menu.\n",
    "\n",
    "## Options\n",
    "\n",
    "If you want to use cellpose for the segmentation step of the workflow, you can either install it in the usual way or directly with the plugin by using:\n",
    "\n",
    "```\n",
    "pip install \"napari-morphodynamics[cellpose]\"\n",
    "```"
   ]
  }
 ],
 "metadata": {
  "kernelspec": {
   "display_name": "Python 3 (ipykernel)",
   "language": "python",
   "name": "python3"
  },
  "language_info": {
   "codemirror_mode": {
    "name": "ipython",
    "version": 3
   },
   "file_extension": ".py",
   "mimetype": "text/x-python",
   "name": "python",
   "nbconvert_exporter": "python",
   "pygments_lexer": "ipython3",
   "version": "3.9.18"
  }
 },
 "nbformat": 4,
 "nbformat_minor": 4
}
