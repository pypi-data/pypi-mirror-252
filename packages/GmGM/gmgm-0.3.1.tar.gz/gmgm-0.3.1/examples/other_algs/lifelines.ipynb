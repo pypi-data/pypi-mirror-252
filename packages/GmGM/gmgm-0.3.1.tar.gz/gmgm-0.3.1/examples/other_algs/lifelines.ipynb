{
 "cells": [
  {
   "cell_type": "markdown",
   "metadata": {},
   "source": [
    "Note: this example requires data from the LifeLines-DEEP project; you have to request access from them. (https://pubmed.ncbi.nlm.nih.gov/26319774/)"
   ]
  },
  {
   "cell_type": "code",
   "execution_count": 1,
   "metadata": {},
   "outputs": [
    {
     "name": "stderr",
     "output_type": "stream",
     "text": [
      "/Users/baileyandrew/mambaforge/envs/GmGM-python-demo/lib/python3.9/site-packages/umap/distances.py:1063: NumbaDeprecationWarning: The 'nopython' keyword argument was not supplied to the 'numba.jit' decorator. The implicit default value for this argument is currently False, but it will be changed to True in Numba 0.59.0. See https://numba.readthedocs.io/en/stable/reference/deprecation.html#deprecation-of-object-mode-fall-back-behaviour-when-using-jit for details.\n",
      "  @numba.jit()\n",
      "/Users/baileyandrew/mambaforge/envs/GmGM-python-demo/lib/python3.9/site-packages/umap/distances.py:1071: NumbaDeprecationWarning: The 'nopython' keyword argument was not supplied to the 'numba.jit' decorator. The implicit default value for this argument is currently False, but it will be changed to True in Numba 0.59.0. See https://numba.readthedocs.io/en/stable/reference/deprecation.html#deprecation-of-object-mode-fall-back-behaviour-when-using-jit for details.\n",
      "  @numba.jit()\n",
      "/Users/baileyandrew/mambaforge/envs/GmGM-python-demo/lib/python3.9/site-packages/umap/distances.py:1086: NumbaDeprecationWarning: The 'nopython' keyword argument was not supplied to the 'numba.jit' decorator. The implicit default value for this argument is currently False, but it will be changed to True in Numba 0.59.0. See https://numba.readthedocs.io/en/stable/reference/deprecation.html#deprecation-of-object-mode-fall-back-behaviour-when-using-jit for details.\n",
      "  @numba.jit()\n",
      "/Users/baileyandrew/mambaforge/envs/GmGM-python-demo/lib/python3.9/site-packages/tqdm/auto.py:21: TqdmWarning: IProgress not found. Please update jupyter and ipywidgets. See https://ipywidgets.readthedocs.io/en/stable/user_install.html\n",
      "  from .autonotebook import tqdm as notebook_tqdm\n",
      "/Users/baileyandrew/mambaforge/envs/GmGM-python-demo/lib/python3.9/site-packages/umap/umap_.py:660: NumbaDeprecationWarning: The 'nopython' keyword argument was not supplied to the 'numba.jit' decorator. The implicit default value for this argument is currently False, but it will be changed to True in Numba 0.59.0. See https://numba.readthedocs.io/en/stable/reference/deprecation.html#deprecation-of-object-mode-fall-back-behaviour-when-using-jit for details.\n",
      "  @numba.jit()\n"
     ]
    }
   ],
   "source": [
    "from TeraLasso import TeraLasso\n",
    "from EiGLasso import EiGLasso\n",
    "from GmGM import GmGM, Dataset\n",
    "from GmGM.synthetic.generate_data import threshold_dictionary\n",
    "\n",
    "import matplotlib.pyplot as plt\n",
    "import numpy as np\n",
    "import timeit\n",
    "\n",
    "from cycler import cycler\n",
    "linestyle_cycler = cycler('linestyle',['-','--',':','-.'])\n",
    "color_cycler = cycler('color',['k','orange','m','darkgreen'])\n",
    "plt.rc('axes', prop_cycle=linestyle_cycler + color_cycler)\n",
    "\n",
    "import igraph as ig\n",
    "import pandas as pd\n",
    "\n",
    "import muon as mu\n",
    "import anndata as ad\n",
    "import scanpy as sc\n",
    "from anndata import AnnData\n",
    "import sklearn.cluster as clust\n",
    "\n",
    "from typing import Literal, Union"
   ]
  },
  {
   "cell_type": "markdown",
   "metadata": {},
   "source": [
    "# Setup"
   ]
  },
  {
   "cell_type": "markdown",
   "metadata": {},
   "source": [
    "## Helper Functions"
   ]
  },
  {
   "cell_type": "code",
   "execution_count": 2,
   "metadata": {},
   "outputs": [],
   "source": [
    "def calculate_assortativity(\n",
    "    mudata: Union[mu.MuData, ad.AnnData],\n",
    ") -> dict[Literal[\"Phylum\", \"Class\", \"Order\", \"Family\", \"Genus\"], float]:\n",
    "    global taxmat\n",
    "    if isinstance(mudata, mu.MuData):\n",
    "        precmat = mudata[\"metagenomics_shotgun\"].varp[\n",
    "            \"metagenomics_shotgun-var_gmgm_connectivities\"\n",
    "        ].toarray()\n",
    "    elif isinstance(mudata, ad.AnnData):\n",
    "        precmat = mudata.varp[\n",
    "            \"var_gmgm_connectivities\"\n",
    "        ].toarray()\n",
    "    else:\n",
    "        raise ValueError(\"mudata must be of type mu.MuData or anndata.AnnData\")\n",
    "    g = ig.Graph.Adjacency(\n",
    "        precmat != 0,\n",
    "        mode=\"undirected\",\n",
    "        loops=False\n",
    "    )\n",
    "    return {\n",
    "        tax_level: g.assortativity(taxmat[tax_level].cat.codes-1)\n",
    "        for tax_level in [\"Phylum\", \"Class\", \"Order\", \"Family\", \"Genus\"]\n",
    "    }"
   ]
  },
  {
   "cell_type": "markdown",
   "metadata": {},
   "source": [
    "## Load Data"
   ]
  },
  {
   "cell_type": "code",
   "execution_count": 3,
   "metadata": {},
   "outputs": [],
   "source": [
    "# Get the taxa\n",
    "taxmat = pd.read_csv(\"../data/LL-Deep Data - Processed/ll-deep-taxmat.csv\", index_col=0)\n",
    "taxmat.columns = [\"Domain\", \"Phylum\", \"Class\", \"Order\", \"Family\", \"Genus\"]\n",
    "taxmat = taxmat.fillna(\"Unknown\")\n",
    "taxmat = taxmat.apply(lambda x: x.astype(\"category\"))"
   ]
  },
  {
   "cell_type": "code",
   "execution_count": 4,
   "metadata": {},
   "outputs": [
    {
     "name": "stdout",
     "output_type": "stream",
     "text": [
      "(1054, 3)\n",
      "(1054, 1183)\n",
      "(1054, 3957) -> (1054, 564)\n"
     ]
    }
   ],
   "source": [
    "# Read in the mapping linking person ids from metabolomics and metagenomics\n",
    "# (we actually constructed the latter two datasets such that the nth row matches\n",
    "# up in all of them - but this still contains gender info)\n",
    "map_df = pd.read_csv(\n",
    "    \"../data/LL-Deep Data - Processed/Map.csv\",\n",
    "    index_col=0\n",
    ")\n",
    "print(map_df.shape)\n",
    "\n",
    "# Read in the metabolomics data\n",
    "metabolomics_df = pd.read_csv(\n",
    "    \"../data/LL-Deep Data - Processed/Metabolomics.csv\",\n",
    "    index_col=0\n",
    ")\n",
    "print(metabolomics_df.shape)\n",
    "\n",
    "# Read in the metagenomics data\n",
    "metagenomics_df = pd.read_csv(\n",
    "    \"../data/LL-Deep Data - Processed/MetagenomicsShotgun.csv\",\n",
    "    index_col=0\n",
    ")\n",
    "old_shape = metagenomics_df.shape\n",
    "\n",
    "# Only keep the species who appear in more than 20% of the people\n",
    "#keep_idxs = ((counts > 0).sum(axis=0) > 0.2 * counts.shape[0]).values\n",
    "#counts = counts.loc[:, keep_idxs]\n",
    "#taxmat = taxmat.loc[keep_idxs, :]\n",
    "keep_idxs = (metagenomics_df > 0).sum(axis=0) > 0.2 * metagenomics_df.shape[0]\n",
    "metagenomics_df = metagenomics_df.loc[:, keep_idxs]\n",
    "taxmat = taxmat.loc[keep_idxs.values, :]\n",
    "\n",
    "print(old_shape, '->', metagenomics_df.shape)"
   ]
  },
  {
   "cell_type": "code",
   "execution_count": 5,
   "metadata": {},
   "outputs": [],
   "source": [
    "# Load our data into a MuData object\n",
    "metabol_ann = AnnData(\n",
    "    X = metabolomics_df.to_numpy()\n",
    ")\n",
    "metabol_ann.obs_names = metabolomics_df.index\n",
    "metabol_ann.var_names = metabolomics_df.columns\n",
    "\n",
    "metagen_ann = AnnData(\n",
    "    X = metagenomics_df.to_numpy()\n",
    ")\n",
    "metagen_ann.obs_names = metabolomics_df.index # note this is the same as metabolomics\n",
    "metagen_ann.var_names = metagenomics_df.columns\n",
    "\n",
    "mudata = mu.MuData({\n",
    "    \"metabolomics\": metabol_ann,\n",
    "    \"metagenomics_shotgun\": metagen_ann\n",
    "})\n",
    "\n",
    "mudata.obs[\"Gender\"] = map_df[\"Gender\"].to_numpy()\n",
    "\n",
    "# Log transform the data\n",
    "sc.pp.log1p(mudata[\"metabolomics\"])\n",
    "sc.pp.log1p(mudata[\"metagenomics_shotgun\"])"
   ]
  },
  {
   "cell_type": "markdown",
   "metadata": {},
   "source": [
    "# GmGM"
   ]
  },
  {
   "cell_type": "markdown",
   "metadata": {},
   "source": [
    "## w/o nonpara"
   ]
  },
  {
   "cell_type": "code",
   "execution_count": 6,
   "metadata": {},
   "outputs": [
    {
     "name": "stdout",
     "output_type": "stream",
     "text": [
      "Centering...\n",
      "Calculating eigenvectors...\n",
      "\tby calculating gram matrices and then eigendecomposing...\n",
      "Calculating eigenvectors for axis='metabolomics-var'\n",
      "Calculating eigenvectors for axis='obs'\n",
      "Calculating eigenvectors for axis='metagenomics_shotgun-var'\n",
      "Calculating eigenvalues...\n",
      "@0: -1707483.9041627045 (-1707489.4361432397 + 5.531980535268488 + 0) ∆inf\n",
      "Converged! (@7: -1740939.4187575316)\n",
      "Recomposing sparse precisions...\n",
      "Converting back to MuData...\n"
     ]
    },
    {
     "data": {
      "text/html": [
       "<pre>MuData object with n_obs × n_vars = 1054 × 1747\n",
       "  obs:\t&#x27;Gender&#x27;\n",
       "  uns:\t&#x27;obs_neighbors_gmgm&#x27;\n",
       "  obsp:\t&#x27;obs_gmgm_connectivities&#x27;\n",
       "  2 modalities\n",
       "    metabolomics:\t1054 x 1183\n",
       "      uns:\t&#x27;log1p&#x27;, &#x27;metabolomics-var_neighbors_gmgm&#x27;\n",
       "      varp:\t&#x27;metabolomics-var_gmgm_connectivities&#x27;\n",
       "    metagenomics_shotgun:\t1054 x 564\n",
       "      uns:\t&#x27;log1p&#x27;, &#x27;metagenomics_shotgun-var_neighbors_gmgm&#x27;\n",
       "      varp:\t&#x27;metagenomics_shotgun-var_gmgm_connectivities&#x27;</pre>"
      ],
      "text/plain": [
       "MuData object with n_obs × n_vars = 1054 × 1747\n",
       "  obs:\t'Gender'\n",
       "  uns:\t'obs_neighbors_gmgm'\n",
       "  obsp:\t'obs_gmgm_connectivities'\n",
       "  2 modalities\n",
       "    metabolomics:\t1054 x 1183\n",
       "      uns:\t'log1p', 'metabolomics-var_neighbors_gmgm'\n",
       "      varp:\t'metabolomics-var_gmgm_connectivities'\n",
       "    metagenomics_shotgun:\t1054 x 564\n",
       "      uns:\t'log1p', 'metagenomics_shotgun-var_neighbors_gmgm'\n",
       "      varp:\t'metagenomics_shotgun-var_gmgm_connectivities'"
      ]
     },
     "execution_count": 6,
     "metadata": {},
     "output_type": "execute_result"
    }
   ],
   "source": [
    "GmGM(\n",
    "    mudata,\n",
    "    verbose=True,\n",
    "    #use_nonparanormal_skeptic=True,\n",
    "    #nonparanormal_evec_backend=\"COCA\",\n",
    "    #n_comps=50,\n",
    "    to_keep={\n",
    "        \"metabolomics-var\": 1183 / 1183**2,\n",
    "        \"metagenomics_shotgun-var\": 564 / 564**2,\n",
    "        \"obs\": 1200 / 1054**2\n",
    "    },\n",
    "    threshold_method=\"overall\",\n",
    ")"
   ]
  },
  {
   "cell_type": "code",
   "execution_count": 7,
   "metadata": {},
   "outputs": [
    {
     "data": {
      "text/plain": [
       "{'Phylum': 0.11738689470314732,\n",
       " 'Class': 0.010345093703522575,\n",
       " 'Order': -0.06284780666078045,\n",
       " 'Family': 0.004783090699753132,\n",
       " 'Genus': 0.0018116833315655423}"
      ]
     },
     "execution_count": 7,
     "metadata": {},
     "output_type": "execute_result"
    }
   ],
   "source": [
    "calculate_assortativity(mudata)"
   ]
  },
  {
   "cell_type": "code",
   "execution_count": 8,
   "metadata": {},
   "outputs": [
    {
     "data": {
      "text/plain": [
       "1.3620219835"
      ]
     },
     "execution_count": 8,
     "metadata": {},
     "output_type": "execute_result"
    }
   ],
   "source": [
    "def to_time() -> None:\n",
    "    GmGM(\n",
    "        mudata,\n",
    "        #use_nonparanormal_skeptic=True,\n",
    "        #nonparanormal_evec_backend=\"COCA\",\n",
    "        #n_comps=50,\n",
    "        to_keep={\n",
    "            \"metabolomics-var\": 1183 / 1183**2,\n",
    "            \"metagenomics_shotgun-var\": 564 / 564**2,\n",
    "            \"obs\": 1200 / 1054**2\n",
    "        },\n",
    "        threshold_method=\"overall\"\n",
    "    )\n",
    "\n",
    "np.mean(timeit.repeat(to_time, number=1, repeat=10))"
   ]
  },
  {
   "cell_type": "markdown",
   "metadata": {},
   "source": [
    "## w/ nonpara"
   ]
  },
  {
   "cell_type": "code",
   "execution_count": 9,
   "metadata": {},
   "outputs": [
    {
     "name": "stdout",
     "output_type": "stream",
     "text": [
      "Centering...\n",
      "Calculating eigenvectors...\n",
      "\tby calculating gram matrices and then eigendecomposing...\n",
      "Calculating eigenvectors for axis='metabolomics-var'\n",
      "Calculating eigenvectors for axis='obs'\n",
      "Calculating eigenvectors for axis='metagenomics_shotgun-var'\n",
      "Calculating eigenvalues...\n",
      "@0: -1835146.4441405768 (-1835152.1986211906 + 5.754480613893506 + 0) ∆inf\n",
      "Converged! (@10: -1966807.6429533786)\n",
      "Recomposing sparse precisions...\n",
      "Converting back to MuData...\n"
     ]
    },
    {
     "data": {
      "text/html": [
       "<pre>MuData object with n_obs × n_vars = 1054 × 1747\n",
       "  obs:\t&#x27;Gender&#x27;\n",
       "  uns:\t&#x27;obs_neighbors_gmgm&#x27;\n",
       "  obsp:\t&#x27;obs_gmgm_connectivities&#x27;\n",
       "  2 modalities\n",
       "    metabolomics:\t1054 x 1183\n",
       "      uns:\t&#x27;log1p&#x27;, &#x27;metabolomics-var_neighbors_gmgm&#x27;\n",
       "      varp:\t&#x27;metabolomics-var_gmgm_connectivities&#x27;\n",
       "    metagenomics_shotgun:\t1054 x 564\n",
       "      uns:\t&#x27;log1p&#x27;, &#x27;metagenomics_shotgun-var_neighbors_gmgm&#x27;\n",
       "      varp:\t&#x27;metagenomics_shotgun-var_gmgm_connectivities&#x27;</pre>"
      ],
      "text/plain": [
       "MuData object with n_obs × n_vars = 1054 × 1747\n",
       "  obs:\t'Gender'\n",
       "  uns:\t'obs_neighbors_gmgm'\n",
       "  obsp:\t'obs_gmgm_connectivities'\n",
       "  2 modalities\n",
       "    metabolomics:\t1054 x 1183\n",
       "      uns:\t'log1p', 'metabolomics-var_neighbors_gmgm'\n",
       "      varp:\t'metabolomics-var_gmgm_connectivities'\n",
       "    metagenomics_shotgun:\t1054 x 564\n",
       "      uns:\t'log1p', 'metagenomics_shotgun-var_neighbors_gmgm'\n",
       "      varp:\t'metagenomics_shotgun-var_gmgm_connectivities'"
      ]
     },
     "execution_count": 9,
     "metadata": {},
     "output_type": "execute_result"
    }
   ],
   "source": [
    "GmGM(\n",
    "    mudata,\n",
    "    verbose=True,\n",
    "    use_nonparanormal_skeptic=True,\n",
    "    #nonparanormal_evec_backend=\"COCA\",\n",
    "    #n_comps=50,\n",
    "    to_keep={\n",
    "        \"metabolomics-var\": 1183 / 1183**2,\n",
    "        \"metagenomics_shotgun-var\": 564 / 564**2,\n",
    "        \"obs\": 1200 / 1054**2\n",
    "    },\n",
    "    threshold_method=\"overall\"\n",
    ")"
   ]
  },
  {
   "cell_type": "code",
   "execution_count": 10,
   "metadata": {},
   "outputs": [
    {
     "data": {
      "text/plain": [
       "{'Phylum': -0.04382048233715373,\n",
       " 'Class': -0.08540100047093065,\n",
       " 'Order': -0.1049426423563925,\n",
       " 'Family': -0.0333123983701039,\n",
       " 'Genus': -0.0561269868760198}"
      ]
     },
     "execution_count": 10,
     "metadata": {},
     "output_type": "execute_result"
    }
   ],
   "source": [
    "calculate_assortativity(mudata)"
   ]
  },
  {
   "cell_type": "code",
   "execution_count": 11,
   "metadata": {},
   "outputs": [
    {
     "data": {
      "text/plain": [
       "1.140237037700001"
      ]
     },
     "execution_count": 11,
     "metadata": {},
     "output_type": "execute_result"
    }
   ],
   "source": [
    "def to_time() -> None:\n",
    "    GmGM(\n",
    "        mudata,\n",
    "        use_nonparanormal_skeptic=True,\n",
    "        #nonparanormal_evec_backend=\"COCA\",\n",
    "        #n_comps=50,\n",
    "        to_keep={\n",
    "            \"metabolomics-var\": 1183 / 1183**2,\n",
    "            \"metagenomics_shotgun-var\": 564 / 564**2,\n",
    "            \"obs\": 1200 / 1054**2\n",
    "        },\n",
    "        threshold_method=\"overall\"\n",
    "    )\n",
    "\n",
    "np.mean(timeit.repeat(to_time, number=1, repeat=10))"
   ]
  },
  {
   "cell_type": "markdown",
   "metadata": {},
   "source": [
    "## w/o nonpara, 50pc"
   ]
  },
  {
   "cell_type": "code",
   "execution_count": 12,
   "metadata": {},
   "outputs": [
    {
     "name": "stdout",
     "output_type": "stream",
     "text": [
      "Centering...\n",
      "Calculating eigenvectors...\n",
      "\tby calculating left eigenvectors of concatenated matricizations...\n",
      "Calculating eigenvalues...\n",
      "@0: 15500522.380964287 (-3379.8908250230634 + 15503902.27178931 + 0) ∆inf\n",
      "Converged! (@16: 11423253.864009015)\n",
      "Recomposing sparse precisions...\n",
      "Converting back to MuData...\n"
     ]
    },
    {
     "data": {
      "text/html": [
       "<pre>MuData object with n_obs × n_vars = 1054 × 1747\n",
       "  obs:\t&#x27;Gender&#x27;\n",
       "  uns:\t&#x27;obs_neighbors_gmgm&#x27;\n",
       "  obsp:\t&#x27;obs_gmgm_connectivities&#x27;\n",
       "  2 modalities\n",
       "    metabolomics:\t1054 x 1183\n",
       "      uns:\t&#x27;log1p&#x27;, &#x27;metabolomics-var_neighbors_gmgm&#x27;\n",
       "      varp:\t&#x27;metabolomics-var_gmgm_connectivities&#x27;\n",
       "    metagenomics_shotgun:\t1054 x 564\n",
       "      uns:\t&#x27;log1p&#x27;, &#x27;metagenomics_shotgun-var_neighbors_gmgm&#x27;\n",
       "      varp:\t&#x27;metagenomics_shotgun-var_gmgm_connectivities&#x27;</pre>"
      ],
      "text/plain": [
       "MuData object with n_obs × n_vars = 1054 × 1747\n",
       "  obs:\t'Gender'\n",
       "  uns:\t'obs_neighbors_gmgm'\n",
       "  obsp:\t'obs_gmgm_connectivities'\n",
       "  2 modalities\n",
       "    metabolomics:\t1054 x 1183\n",
       "      uns:\t'log1p', 'metabolomics-var_neighbors_gmgm'\n",
       "      varp:\t'metabolomics-var_gmgm_connectivities'\n",
       "    metagenomics_shotgun:\t1054 x 564\n",
       "      uns:\t'log1p', 'metagenomics_shotgun-var_neighbors_gmgm'\n",
       "      varp:\t'metagenomics_shotgun-var_gmgm_connectivities'"
      ]
     },
     "execution_count": 12,
     "metadata": {},
     "output_type": "execute_result"
    }
   ],
   "source": [
    "GmGM(\n",
    "    mudata,\n",
    "    verbose=True,\n",
    "    #use_nonparanormal_skeptic=True,\n",
    "    #nonparanormal_evec_backend=\"COCA\",\n",
    "    n_comps=50,\n",
    "    to_keep={\n",
    "        \"metabolomics-var\": 1183 / 1183**2,\n",
    "        \"metagenomics_shotgun-var\": 564 / 564**2,\n",
    "        \"obs\": 1200 / 1054**2\n",
    "    },\n",
    "    threshold_method=\"overall\",\n",
    ")"
   ]
  },
  {
   "cell_type": "code",
   "execution_count": 13,
   "metadata": {},
   "outputs": [
    {
     "data": {
      "text/plain": [
       "{'Phylum': 0.2491494112614761,\n",
       " 'Class': 0.20346105595238942,\n",
       " 'Order': 0.06773398118119817,\n",
       " 'Family': -0.002136928943167747,\n",
       " 'Genus': 0.059627669114881626}"
      ]
     },
     "execution_count": 13,
     "metadata": {},
     "output_type": "execute_result"
    }
   ],
   "source": [
    "calculate_assortativity(mudata)"
   ]
  },
  {
   "cell_type": "code",
   "execution_count": 14,
   "metadata": {},
   "outputs": [
    {
     "data": {
      "text/plain": [
       "1.2235617457000003"
      ]
     },
     "execution_count": 14,
     "metadata": {},
     "output_type": "execute_result"
    }
   ],
   "source": [
    "def to_time() -> None:\n",
    "    GmGM(\n",
    "        mudata,\n",
    "        #use_nonparanormal_skeptic=True,\n",
    "        #nonparanormal_evec_backend=\"COCA\",\n",
    "        n_comps=50,\n",
    "        to_keep={\n",
    "            \"metabolomics-var\": 1183 / 1183**2,\n",
    "            \"metagenomics_shotgun-var\": 564 / 564**2,\n",
    "            \"obs\": 1200 / 1054**2\n",
    "        },\n",
    "        threshold_method=\"overall\"\n",
    "    )\n",
    "\n",
    "np.mean(timeit.repeat(to_time, number=1, repeat=10))"
   ]
  },
  {
   "cell_type": "markdown",
   "metadata": {},
   "source": [
    "## w/ nonpara, 50pc"
   ]
  },
  {
   "cell_type": "code",
   "execution_count": 15,
   "metadata": {},
   "outputs": [
    {
     "name": "stdout",
     "output_type": "stream",
     "text": [
      "Centering...\n",
      "Calculating eigenvectors...\n",
      "\tby calculating left eigenvectors of concatenated matricizations...\n",
      "Calculating eigenvalues...\n",
      "@0: 2300580.35889995 (-3457.187310962975 + 2304037.546210913 + 0) ∆inf\n",
      "Converged! (@25: 1190802.8371083408)\n",
      "Recomposing sparse precisions...\n",
      "Converting back to MuData...\n"
     ]
    },
    {
     "data": {
      "text/html": [
       "<pre>MuData object with n_obs × n_vars = 1054 × 1747\n",
       "  obs:\t&#x27;Gender&#x27;\n",
       "  uns:\t&#x27;obs_neighbors_gmgm&#x27;\n",
       "  obsp:\t&#x27;obs_gmgm_connectivities&#x27;\n",
       "  2 modalities\n",
       "    metabolomics:\t1054 x 1183\n",
       "      uns:\t&#x27;log1p&#x27;, &#x27;metabolomics-var_neighbors_gmgm&#x27;\n",
       "      varp:\t&#x27;metabolomics-var_gmgm_connectivities&#x27;\n",
       "    metagenomics_shotgun:\t1054 x 564\n",
       "      uns:\t&#x27;log1p&#x27;, &#x27;metagenomics_shotgun-var_neighbors_gmgm&#x27;\n",
       "      varp:\t&#x27;metagenomics_shotgun-var_gmgm_connectivities&#x27;</pre>"
      ],
      "text/plain": [
       "MuData object with n_obs × n_vars = 1054 × 1747\n",
       "  obs:\t'Gender'\n",
       "  uns:\t'obs_neighbors_gmgm'\n",
       "  obsp:\t'obs_gmgm_connectivities'\n",
       "  2 modalities\n",
       "    metabolomics:\t1054 x 1183\n",
       "      uns:\t'log1p', 'metabolomics-var_neighbors_gmgm'\n",
       "      varp:\t'metabolomics-var_gmgm_connectivities'\n",
       "    metagenomics_shotgun:\t1054 x 564\n",
       "      uns:\t'log1p', 'metagenomics_shotgun-var_neighbors_gmgm'\n",
       "      varp:\t'metagenomics_shotgun-var_gmgm_connectivities'"
      ]
     },
     "execution_count": 15,
     "metadata": {},
     "output_type": "execute_result"
    }
   ],
   "source": [
    "GmGM(\n",
    "    mudata,\n",
    "    verbose=True,\n",
    "    use_nonparanormal_skeptic=True,\n",
    "    nonparanormal_evec_backend=\"COCA\",\n",
    "    n_comps=50,\n",
    "    to_keep={\n",
    "        \"metabolomics-var\": 1183 / 1183**2,\n",
    "        \"metagenomics_shotgun-var\": 564 / 564**2,\n",
    "        \"obs\": 1200 / 1054**2\n",
    "    },\n",
    "    threshold_method=\"overall\",\n",
    ")"
   ]
  },
  {
   "cell_type": "code",
   "execution_count": 16,
   "metadata": {},
   "outputs": [
    {
     "data": {
      "text/plain": [
       "{'Phylum': 0.20324365252641244,\n",
       " 'Class': 0.1434982314941994,\n",
       " 'Order': -0.048375184220409526,\n",
       " 'Family': -0.05809242961312629,\n",
       " 'Genus': 0.01814890164484217}"
      ]
     },
     "execution_count": 16,
     "metadata": {},
     "output_type": "execute_result"
    }
   ],
   "source": [
    "calculate_assortativity(mudata)"
   ]
  },
  {
   "cell_type": "code",
   "execution_count": 17,
   "metadata": {},
   "outputs": [
    {
     "data": {
      "text/plain": [
       "8.5592378417"
      ]
     },
     "execution_count": 17,
     "metadata": {},
     "output_type": "execute_result"
    }
   ],
   "source": [
    "def to_time() -> None:\n",
    "    GmGM(\n",
    "        mudata,\n",
    "        use_nonparanormal_skeptic=True,\n",
    "        nonparanormal_evec_backend=\"COCA\",\n",
    "        n_comps=50,\n",
    "        to_keep={\n",
    "            \"metabolomics-var\": 1183 / 1183**2,\n",
    "            \"metagenomics_shotgun-var\": 564 / 564**2,\n",
    "            \"obs\": 1200 / 1054**2\n",
    "        },\n",
    "        threshold_method=\"overall\"\n",
    "    )\n",
    "\n",
    "np.mean(timeit.repeat(to_time, number=1, repeat=10))"
   ]
  },
  {
   "cell_type": "markdown",
   "metadata": {},
   "source": [
    "## w/o nonpara w/o metabol"
   ]
  },
  {
   "cell_type": "code",
   "execution_count": 18,
   "metadata": {},
   "outputs": [
    {
     "name": "stdout",
     "output_type": "stream",
     "text": [
      "Centering...\n",
      "Calculating eigenvectors...\n",
      "\tby calculating gram matrices and then eigendecomposing...\n",
      "Calculating eigenvectors for axis='var'\n",
      "Calculating eigenvectors for axis='obs'\n",
      "Calculating eigenvalues...\n",
      "@0: -566088.0161710007 (-566094.2859140185 + 6.269743017843572 + 0) ∆inf\n",
      "Converged! (@10: -589782.8896450654)\n",
      "Recomposing sparse precisions...\n",
      "Converting back to AnnData...\n"
     ]
    },
    {
     "data": {
      "text/plain": [
       "AnnData object with n_obs × n_vars = 1054 × 564\n",
       "    uns: 'log1p', 'metagenomics_shotgun-var_neighbors_gmgm', 'obs_neighbors_gmgm', 'var_neighbors_gmgm'\n",
       "    obsp: 'obs_gmgm_connectivities'\n",
       "    varp: 'metagenomics_shotgun-var_gmgm_connectivities', 'var_gmgm_connectivities'"
      ]
     },
     "execution_count": 18,
     "metadata": {},
     "output_type": "execute_result"
    }
   ],
   "source": [
    "GmGM(\n",
    "    mudata[\"metagenomics_shotgun\"],\n",
    "    verbose=True,\n",
    "    #use_nonparanormal_skeptic=True,\n",
    "    #nonparanormal_evec_backend=\"COCA\",\n",
    "    #n_comps=50,\n",
    "    to_keep={\n",
    "        \"var\": 564 / 564**2,\n",
    "        \"obs\": 1200 / 1054**2\n",
    "    },\n",
    "    threshold_method=\"overall\",\n",
    ")"
   ]
  },
  {
   "cell_type": "code",
   "execution_count": 19,
   "metadata": {},
   "outputs": [
    {
     "data": {
      "text/plain": [
       "{'Phylum': -0.021649610719968463,\n",
       " 'Class': -0.06197070129673916,\n",
       " 'Order': -0.18903785084844535,\n",
       " 'Family': -0.01615142857896596,\n",
       " 'Genus': -0.03081067929473613}"
      ]
     },
     "execution_count": 19,
     "metadata": {},
     "output_type": "execute_result"
    }
   ],
   "source": [
    "calculate_assortativity(mudata[\"metagenomics_shotgun\"])"
   ]
  },
  {
   "cell_type": "code",
   "execution_count": 20,
   "metadata": {},
   "outputs": [
    {
     "data": {
      "text/plain": [
       "0.46486409999999695"
      ]
     },
     "execution_count": 20,
     "metadata": {},
     "output_type": "execute_result"
    }
   ],
   "source": [
    "def to_time() -> None:\n",
    "    GmGM(\n",
    "        mudata[\"metagenomics_shotgun\"],\n",
    "        #use_nonparanormal_skeptic=True,\n",
    "        #nonparanormal_evec_backend=\"COCA\",\n",
    "        #n_comps=50,\n",
    "        to_keep={\n",
    "            \"var\": 564 / 564**2,\n",
    "            \"obs\": 1200 / 1054**2\n",
    "        },\n",
    "        threshold_method=\"overall\"\n",
    "    )\n",
    "\n",
    "np.mean(timeit.repeat(to_time, number=1, repeat=10))"
   ]
  },
  {
   "cell_type": "markdown",
   "metadata": {},
   "source": [
    "## w/ nonpara, w/o metabol"
   ]
  },
  {
   "cell_type": "code",
   "execution_count": 21,
   "metadata": {},
   "outputs": [
    {
     "name": "stdout",
     "output_type": "stream",
     "text": [
      "Centering...\n",
      "Calculating eigenvectors...\n",
      "\tby calculating gram matrices and then eigendecomposing...\n",
      "Calculating eigenvectors for axis='var'\n",
      "Calculating eigenvectors for axis='obs'\n",
      "Calculating eigenvalues...\n",
      "@0: -566118.0533103225 (-566124.245307187 + 6.1919968645482335 + 0) ∆inf\n",
      "Converged! (@11: -590597.1354492181)\n",
      "Recomposing sparse precisions...\n",
      "Converting back to AnnData...\n"
     ]
    },
    {
     "data": {
      "text/plain": [
       "AnnData object with n_obs × n_vars = 1054 × 564\n",
       "    uns: 'log1p', 'metagenomics_shotgun-var_neighbors_gmgm', 'obs_neighbors_gmgm', 'var_neighbors_gmgm'\n",
       "    obsp: 'obs_gmgm_connectivities'\n",
       "    varp: 'metagenomics_shotgun-var_gmgm_connectivities', 'var_gmgm_connectivities'"
      ]
     },
     "execution_count": 21,
     "metadata": {},
     "output_type": "execute_result"
    }
   ],
   "source": [
    "GmGM(\n",
    "    mudata[\"metagenomics_shotgun\"],\n",
    "    verbose=True,\n",
    "    use_nonparanormal_skeptic=True,\n",
    "    #nonparanormal_evec_backend=\"COCA\",\n",
    "    #n_comps=50,\n",
    "    to_keep={\n",
    "        \"var\": 564 / 564**2,\n",
    "        \"obs\": 1200 / 1054**2\n",
    "    },\n",
    "    threshold_method=\"overall\",\n",
    ")"
   ]
  },
  {
   "cell_type": "code",
   "execution_count": 22,
   "metadata": {},
   "outputs": [
    {
     "data": {
      "text/plain": [
       "{'Phylum': -0.04382048233715373,\n",
       " 'Class': -0.08540100047093065,\n",
       " 'Order': -0.1049426423563925,\n",
       " 'Family': -0.0333123983701039,\n",
       " 'Genus': -0.0561269868760198}"
      ]
     },
     "execution_count": 22,
     "metadata": {},
     "output_type": "execute_result"
    }
   ],
   "source": [
    "calculate_assortativity(mudata[\"metagenomics_shotgun\"])"
   ]
  },
  {
   "cell_type": "code",
   "execution_count": 23,
   "metadata": {},
   "outputs": [
    {
     "data": {
      "text/plain": [
       "0.7764470248999971"
      ]
     },
     "execution_count": 23,
     "metadata": {},
     "output_type": "execute_result"
    }
   ],
   "source": [
    "def to_time() -> None:\n",
    "    GmGM(\n",
    "        mudata[\"metagenomics_shotgun\"],\n",
    "        use_nonparanormal_skeptic=True,\n",
    "        #nonparanormal_evec_backend=\"COCA\",\n",
    "        #n_comps=50,\n",
    "        to_keep={\n",
    "            \"var\": 564 / 564**2,\n",
    "            \"obs\": 1200 / 1054**2\n",
    "        },\n",
    "        threshold_method=\"overall\"\n",
    "    )\n",
    "\n",
    "np.mean(timeit.repeat(to_time, number=1, repeat=10))"
   ]
  },
  {
   "cell_type": "markdown",
   "metadata": {},
   "source": [
    "## w/o nonpara, w/o metabol, 50pc"
   ]
  },
  {
   "cell_type": "code",
   "execution_count": 24,
   "metadata": {},
   "outputs": [
    {
     "name": "stdout",
     "output_type": "stream",
     "text": [
      "Centering...\n",
      "Calculating eigenvectors...\n",
      "\tby calculating SVD...\n",
      "Calculating eigenvalues...\n",
      "@0: 13945988.771733945 (-1686.3123899860582 + 13947675.084123932 + 0) ∆inf\n",
      "Converged! (@16: 8755437.389918238)\n",
      "Recomposing sparse precisions...\n",
      "Converting back to AnnData...\n"
     ]
    },
    {
     "data": {
      "text/plain": [
       "AnnData object with n_obs × n_vars = 1054 × 564\n",
       "    uns: 'log1p', 'metagenomics_shotgun-var_neighbors_gmgm', 'obs_neighbors_gmgm', 'var_neighbors_gmgm'\n",
       "    obsp: 'obs_gmgm_connectivities'\n",
       "    varp: 'metagenomics_shotgun-var_gmgm_connectivities', 'var_gmgm_connectivities'"
      ]
     },
     "execution_count": 24,
     "metadata": {},
     "output_type": "execute_result"
    }
   ],
   "source": [
    "GmGM(\n",
    "    mudata[\"metagenomics_shotgun\"],\n",
    "    verbose=True,\n",
    "    #use_nonparanormal_skeptic=True,\n",
    "    #nonparanormal_evec_backend=\"COCA\",\n",
    "    n_comps=50,\n",
    "    to_keep={\n",
    "        \"var\": 564 / 564**2,\n",
    "        \"obs\": 1200 / 1054**2\n",
    "    },\n",
    "    threshold_method=\"overall\",\n",
    ")"
   ]
  },
  {
   "cell_type": "code",
   "execution_count": 25,
   "metadata": {},
   "outputs": [
    {
     "data": {
      "text/plain": [
       "{'Phylum': 0.24212871092707128,\n",
       " 'Class': 0.1925347981044774,\n",
       " 'Order': 0.06571586481621407,\n",
       " 'Family': 0.001145140044832476,\n",
       " 'Genus': 0.0764822913233742}"
      ]
     },
     "execution_count": 25,
     "metadata": {},
     "output_type": "execute_result"
    }
   ],
   "source": [
    "calculate_assortativity(mudata[\"metagenomics_shotgun\"])"
   ]
  },
  {
   "cell_type": "code",
   "execution_count": 26,
   "metadata": {},
   "outputs": [
    {
     "data": {
      "text/plain": [
       "0.4137910085000073"
      ]
     },
     "execution_count": 26,
     "metadata": {},
     "output_type": "execute_result"
    }
   ],
   "source": [
    "def to_time() -> None:\n",
    "    GmGM(\n",
    "        mudata[\"metagenomics_shotgun\"],\n",
    "        #use_nonparanormal_skeptic=True,\n",
    "        #nonparanormal_evec_backend=\"COCA\",\n",
    "        n_comps=50,\n",
    "        to_keep={\n",
    "            \"var\": 564 / 564**2,\n",
    "            \"obs\": 1200 / 1054**2\n",
    "        },\n",
    "        threshold_method=\"overall\"\n",
    "    )\n",
    "\n",
    "np.mean(timeit.repeat(to_time, number=1, repeat=10))"
   ]
  },
  {
   "cell_type": "markdown",
   "metadata": {},
   "source": [
    "## w/ nonpara, w/o metabol, 50pc"
   ]
  },
  {
   "cell_type": "code",
   "execution_count": 27,
   "metadata": {},
   "outputs": [
    {
     "name": "stdout",
     "output_type": "stream",
     "text": [
      "Centering...\n",
      "Calculating eigenvectors...\n",
      "\tby calculating left eigenvectors of concatenated matricizations...\n",
      "Calculating eigenvalues...\n",
      "@0: 539021.091890617 (-1718.0168997342569 + 540739.1087903513 + 0) ∆inf\n",
      "Converged! (@19: 342571.11713876884)\n",
      "Recomposing sparse precisions...\n",
      "Converting back to AnnData...\n"
     ]
    },
    {
     "data": {
      "text/plain": [
       "AnnData object with n_obs × n_vars = 1054 × 564\n",
       "    uns: 'log1p', 'metagenomics_shotgun-var_neighbors_gmgm', 'obs_neighbors_gmgm', 'var_neighbors_gmgm'\n",
       "    obsp: 'obs_gmgm_connectivities'\n",
       "    varp: 'metagenomics_shotgun-var_gmgm_connectivities', 'var_gmgm_connectivities'"
      ]
     },
     "execution_count": 27,
     "metadata": {},
     "output_type": "execute_result"
    }
   ],
   "source": [
    "GmGM(\n",
    "    mudata[\"metagenomics_shotgun\"],\n",
    "    verbose=True,\n",
    "    use_nonparanormal_skeptic=True,\n",
    "    nonparanormal_evec_backend=\"COCA\",\n",
    "    n_comps=50,\n",
    "    to_keep={\n",
    "        \"var\": 564 / 564**2,\n",
    "        \"obs\": 1200 / 1054**2\n",
    "    },\n",
    "    threshold_method=\"overall\",\n",
    ")"
   ]
  },
  {
   "cell_type": "code",
   "execution_count": 28,
   "metadata": {},
   "outputs": [
    {
     "data": {
      "text/plain": [
       "{'Phylum': 0.19886174464247328,\n",
       " 'Class': 0.16110645991138073,\n",
       " 'Order': -0.04315302272994758,\n",
       " 'Family': -0.06013727631131085,\n",
       " 'Genus': 0.026297132241856334}"
      ]
     },
     "execution_count": 28,
     "metadata": {},
     "output_type": "execute_result"
    }
   ],
   "source": [
    "calculate_assortativity(mudata[\"metagenomics_shotgun\"])"
   ]
  },
  {
   "cell_type": "code",
   "execution_count": 29,
   "metadata": {},
   "outputs": [
    {
     "data": {
      "text/plain": [
       "2.3153864750000026"
      ]
     },
     "execution_count": 29,
     "metadata": {},
     "output_type": "execute_result"
    }
   ],
   "source": [
    "def to_time() -> None:\n",
    "    GmGM(\n",
    "        mudata[\"metagenomics_shotgun\"],\n",
    "        use_nonparanormal_skeptic=True,\n",
    "        nonparanormal_evec_backend=\"COCA\",\n",
    "        n_comps=50,\n",
    "        to_keep={\n",
    "            \"var\": 564 / 564**2,\n",
    "            \"obs\": 1200 / 1054**2\n",
    "        },\n",
    "        threshold_method=\"overall\"\n",
    "    )\n",
    "\n",
    "np.mean(timeit.repeat(to_time, number=1, repeat=10))"
   ]
  },
  {
   "cell_type": "markdown",
   "metadata": {},
   "source": [
    "# TeraLasso"
   ]
  },
  {
   "cell_type": "markdown",
   "metadata": {},
   "source": [
    "## w/o nonpara w/o metabol"
   ]
  },
  {
   "cell_type": "code",
   "execution_count": 39,
   "metadata": {},
   "outputs": [
    {
     "name": "stdout",
     "output_type": "stream",
     "text": [
      "[[10.0,10.0]]\n"
     ]
    }
   ],
   "source": [
    "ds = Dataset.from_AnnData(mudata[\"metagenomics_shotgun\"])\n",
    "TeraLasso(\n",
    "    ds,\n",
    "    10\n",
    "    #use_nonparanormal_skeptic=True,\n",
    ")\n",
    "test = ds.to_AnnData()\n",
    "test"
   ]
  },
  {
   "cell_type": "code",
   "execution_count": null,
   "metadata": {},
   "outputs": [
    {
     "data": {
      "text/plain": [
       "<564x564 sparse array of type '<class 'numpy.float64'>'\n",
       "\twith 318096 stored elements in Compressed Sparse Row format>"
      ]
     },
     "execution_count": 35,
     "metadata": {},
     "output_type": "execute_result"
    }
   ],
   "source": [
    "test.varp[\"var_gmgm_connectivities\"]"
   ]
  },
  {
   "cell_type": "code",
   "execution_count": null,
   "metadata": {},
   "outputs": [
    {
     "data": {
      "text/plain": [
       "318096"
      ]
     },
     "execution_count": 36,
     "metadata": {},
     "output_type": "execute_result"
    }
   ],
   "source": [
    "(test.varp[\"var_gmgm_connectivities\"].tocoo().data > 1e-8).sum()"
   ]
  },
  {
   "cell_type": "code",
   "execution_count": null,
   "metadata": {},
   "outputs": [
    {
     "data": {
      "text/plain": [
       "array([138548.01071465, 182518.80248436, 193744.07657008, ...,\n",
       "        27464.46177753,   7132.0111473 ,  27173.272989  ])"
      ]
     },
     "execution_count": 37,
     "metadata": {},
     "output_type": "execute_result"
    }
   ],
   "source": [
    "test.varp[\"var_gmgm_connectivities\"].tocoo().data"
   ]
  }
 ],
 "metadata": {
  "kernelspec": {
   "display_name": "GmGM-python-demo",
   "language": "python",
   "name": "python3"
  },
  "language_info": {
   "codemirror_mode": {
    "name": "ipython",
    "version": 3
   },
   "file_extension": ".py",
   "mimetype": "text/x-python",
   "name": "python",
   "nbconvert_exporter": "python",
   "pygments_lexer": "ipython3",
   "version": "3.9.16"
  }
 },
 "nbformat": 4,
 "nbformat_minor": 2
}
