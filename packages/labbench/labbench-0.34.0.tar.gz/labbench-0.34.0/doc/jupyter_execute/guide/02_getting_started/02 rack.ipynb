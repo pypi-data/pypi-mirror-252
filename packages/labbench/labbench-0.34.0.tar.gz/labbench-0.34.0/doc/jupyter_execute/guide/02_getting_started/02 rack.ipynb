{
 "cells": [
  {
   "cell_type": "markdown",
   "id": "ec4be62b",
   "metadata": {},
   "source": [
    "# Testbed Organization\n",
    "\n",
    "The primary tool in labbench for testbed organization is the {py:class}`labbench.Rack` class. These act as nestable containers for groups of different {py:class}`labbench.Device` objects with associated automation routines.\n",
    "\n",
    "## Racks as containers\n",
    "The basic use of {py:class}`labbench.Rack` is to create a container that groups together different {py:class}`labbench.Device` objects. In order to reduce python object boilerplate, they are written in the style of [dataclasses](https://docs.python.org/3/library/dataclasses.html). As an example, to group together two types of detecting instruments:"
   ]
  },
  {
   "cell_type": "code",
   "execution_count": 1,
   "id": "fef18415",
   "metadata": {},
   "outputs": [
    {
     "name": "stdout",
     "output_type": "stream",
     "text": [
      "\u001b[0;31mClass constructor information:\n",
      "\u001b[0m \u001b[0mMeasurement\u001b[0m\u001b[0;34m(\u001b[0m\u001b[0;34m\u001b[0m\n",
      "\u001b[0;34m\u001b[0m    \u001b[0;34m*\u001b[0m\u001b[0;34m,\u001b[0m\u001b[0;34m\u001b[0m\n",
      "\u001b[0;34m\u001b[0m    \u001b[0mspectrum_analyzer\u001b[0m\u001b[0;34m:\u001b[0m \u001b[0mlabbench\u001b[0m\u001b[0;34m.\u001b[0m\u001b[0mtesting\u001b[0m\u001b[0;34m.\u001b[0m\u001b[0mpyvisa_sim\u001b[0m\u001b[0;34m.\u001b[0m\u001b[0mSpectrumAnalyzer\u001b[0m \u001b[0;34m=\u001b[0m \u001b[0mSpectrumAnalyzer\u001b[0m\u001b[0;34m(\u001b[0m\u001b[0;34m)\u001b[0m\u001b[0;34m,\u001b[0m\u001b[0;34m\u001b[0m\n",
      "\u001b[0;34m\u001b[0m    \u001b[0mpower_sensor\u001b[0m\u001b[0;34m:\u001b[0m \u001b[0mlabbench\u001b[0m\u001b[0;34m.\u001b[0m\u001b[0mtesting\u001b[0m\u001b[0;34m.\u001b[0m\u001b[0mpyvisa_sim\u001b[0m\u001b[0;34m.\u001b[0m\u001b[0mPowerSensor\u001b[0m\u001b[0;34m,\u001b[0m\u001b[0;34m\u001b[0m\n",
      "\u001b[0;34m\u001b[0m\u001b[0;34m)\u001b[0m\u001b[0;34m\u001b[0m\u001b[0;34m\u001b[0m\u001b[0m\n",
      " "
     ]
    }
   ],
   "source": [
    "import labbench as lb\n",
    "\n",
    "# simulated instruments\n",
    "from labbench.testing.pyvisa_sim import PowerSensor, SpectrumAnalyzer\n",
    "\n",
    "\n",
    "class Measurement(lb.Rack):\n",
    "    # the annotation (\":\" notation) specifies that power_sensor\n",
    "    # can be set later when we create a Measurement object\n",
    "    spectrum_analyzer: SpectrumAnalyzer = SpectrumAnalyzer()\n",
    "\n",
    "    # if we don't set a default value in the class (the \"=\" notation), \n",
    "    # then it *must* be set as a keyword argument to create Measurement\n",
    "    power_sensor: PowerSensor\n",
    "\n",
    "\n",
    "# the resulting call signature for creating a Measurement\n",
    "%pdef Measurement"
   ]
  },
  {
   "cell_type": "markdown",
   "id": "5ade1f99",
   "metadata": {},
   "source": [
    "This annotation notation gives users the ability to configure the device attributes, such as its resource or address string, at runtime outside of the class definition.\n",
    "\n",
    "To connect the device in this container together, the first step is to instantiate an object from the `Measuerement` class. Like all {py:class}`labbench.Device` objects, Rack objects all have `open` and `close` methods, which are called automatically by use of the `with` context manager block."
   ]
  },
  {
   "cell_type": "code",
   "execution_count": 2,
   "id": "2cce5218",
   "metadata": {},
   "outputs": [
    {
     "name": "stderr",
     "output_type": "stream",
     "text": [
      "\u001b[1;30m DEBUG \u001b[0m \u001b[32m2024-01-22 14:36:41,046.046\u001b[0m • \u001b[34mlabbench:\u001b[0m context order: (spectrum_analyzer, power_sensor)->(<__main__.Measurement object at 0x13c15b560>)\n",
      "\u001b[1;30m DEBUG \u001b[0m \u001b[32m2024-01-22 14:36:42,585.585\u001b[0m • \u001b[34mpower_sensor:\u001b[0m probed resource by matching make 'FakeTech', model 'Power Sensor #1234'\n",
      "\u001b[1;30m DEBUG \u001b[0m \u001b[32m2024-01-22 14:36:42,587.587\u001b[0m • \u001b[34mpower_sensor:\u001b[0m 'USB0::0x1111::0x2222::0x1234::0::INSTR'  → resource\n",
      "\u001b[1;30m DEBUG \u001b[0m \u001b[32m2024-01-22 14:36:42,588.588\u001b[0m • \u001b[34mpower_sensor:\u001b[0m opened\n",
      "\u001b[1;30m DEBUG \u001b[0m \u001b[32m2024-01-22 14:36:42,836.836\u001b[0m • \u001b[34mspectrum_analyzer:\u001b[0m probed resource by matching make 'FakeTech', model 'Spectrum Analyzer #1234'\n",
      "\u001b[1;30m DEBUG \u001b[0m \u001b[32m2024-01-22 14:36:42,838.838\u001b[0m • \u001b[34mspectrum_analyzer:\u001b[0m 'USB0::0x1111::0x2222::0x4445::0::INSTR'  → resource\n",
      "\u001b[1;30m DEBUG \u001b[0m \u001b[32m2024-01-22 14:36:42,839.839\u001b[0m • \u001b[34mspectrum_analyzer:\u001b[0m opened\n",
      "\u001b[1;30m DEBUG \u001b[0m \u001b[32m2024-01-22 14:36:42,840.840\u001b[0m • \u001b[34mlabbench:\u001b[0m entry into context for  1.794 s elapsed\n",
      "\u001b[1;30m DEBUG \u001b[0m \u001b[32m2024-01-22 14:36:42,841.841\u001b[0m • \u001b[34mlabbench:\u001b[0m opened\n",
      "\u001b[1;30m DEBUG \u001b[0m \u001b[32m2024-01-22 14:36:42,842.842\u001b[0m • \u001b[34mlabbench:\u001b[0m entry into context for <__main__.Measurement object at 0x13c15b560> 1.796 s elapsed\n",
      "\u001b[1;30m DEBUG \u001b[0m \u001b[32m2024-01-22 14:36:42,842.842\u001b[0m • \u001b[34mspectrum_analyzer:\u001b[0m query('SENS:FREQ?'):\n",
      "\u001b[1;30m DEBUG \u001b[0m \u001b[32m2024-01-22 14:36:42,843.843\u001b[0m • \u001b[34mspectrum_analyzer:\u001b[0m     → '10000000.000000'\n",
      "\u001b[1;30m DEBUG \u001b[0m \u001b[32m2024-01-22 14:36:42,844.844\u001b[0m • \u001b[34mspectrum_analyzer:\u001b[0m center_frequency → 10000000.0  (Hz)\n",
      "\u001b[1;30m DEBUG \u001b[0m \u001b[32m2024-01-22 14:36:42,845.845\u001b[0m • \u001b[34mlabbench:\u001b[0m closed\n",
      "\u001b[1;30m DEBUG \u001b[0m \u001b[32m2024-01-22 14:36:42,846.846\u001b[0m • \u001b[34mspectrum_analyzer:\u001b[0m closed\n",
      "\u001b[1;30m DEBUG \u001b[0m \u001b[32m2024-01-22 14:36:42,848.848\u001b[0m • \u001b[34mpower_sensor:\u001b[0m closed\n"
     ]
    },
    {
     "name": "stderr",
     "output_type": "stream",
     "text": [
      "\u001b[1;30m DEBUG \u001b[0m \u001b[32m2024-01-22 14:36:42,585.585\u001b[0m • \u001b[34mpower_sensor:\u001b[0m probed resource by matching make 'FakeTech', model 'Power Sensor #1234'\n"
     ]
    },
    {
     "name": "stderr",
     "output_type": "stream",
     "text": [
      "\u001b[1;30m DEBUG \u001b[0m \u001b[32m2024-01-22 14:36:42,587.587\u001b[0m • \u001b[34mpower_sensor:\u001b[0m 'USB0::0x1111::0x2222::0x1234::0::INSTR'  → resource\n"
     ]
    },
    {
     "name": "stderr",
     "output_type": "stream",
     "text": [
      "\u001b[1;30m DEBUG \u001b[0m \u001b[32m2024-01-22 14:36:42,588.588\u001b[0m • \u001b[34mpower_sensor:\u001b[0m opened\n"
     ]
    },
    {
     "name": "stderr",
     "output_type": "stream",
     "text": [
      "\u001b[1;30m DEBUG \u001b[0m \u001b[32m2024-01-22 14:36:42,836.836\u001b[0m • \u001b[34mspectrum_analyzer:\u001b[0m probed resource by matching make 'FakeTech', model 'Spectrum Analyzer #1234'\n"
     ]
    },
    {
     "name": "stderr",
     "output_type": "stream",
     "text": [
      "\u001b[1;30m DEBUG \u001b[0m \u001b[32m2024-01-22 14:36:42,838.838\u001b[0m • \u001b[34mspectrum_analyzer:\u001b[0m 'USB0::0x1111::0x2222::0x4445::0::INSTR'  → resource\n"
     ]
    },
    {
     "name": "stderr",
     "output_type": "stream",
     "text": [
      "\u001b[1;30m DEBUG \u001b[0m \u001b[32m2024-01-22 14:36:42,839.839\u001b[0m • \u001b[34mspectrum_analyzer:\u001b[0m opened\n"
     ]
    },
    {
     "name": "stderr",
     "output_type": "stream",
     "text": [
      "\u001b[1;30m DEBUG \u001b[0m \u001b[32m2024-01-22 14:36:42,840.840\u001b[0m • \u001b[34mlabbench:\u001b[0m entry into context for  1.794 s elapsed\n"
     ]
    },
    {
     "name": "stderr",
     "output_type": "stream",
     "text": [
      "\u001b[1;30m DEBUG \u001b[0m \u001b[32m2024-01-22 14:36:42,841.841\u001b[0m • \u001b[34mlabbench:\u001b[0m opened\n"
     ]
    },
    {
     "name": "stderr",
     "output_type": "stream",
     "text": [
      "\u001b[1;30m DEBUG \u001b[0m \u001b[32m2024-01-22 14:36:42,842.842\u001b[0m • \u001b[34mlabbench:\u001b[0m entry into context for <__main__.Measurement object at 0x13c15b560> 1.796 s elapsed\n"
     ]
    },
    {
     "name": "stderr",
     "output_type": "stream",
     "text": [
      "\u001b[1;30m DEBUG \u001b[0m \u001b[32m2024-01-22 14:36:42,842.842\u001b[0m • \u001b[34mspectrum_analyzer:\u001b[0m query('SENS:FREQ?'):\n"
     ]
    },
    {
     "name": "stderr",
     "output_type": "stream",
     "text": [
      "\u001b[1;30m DEBUG \u001b[0m \u001b[32m2024-01-22 14:36:42,843.843\u001b[0m • \u001b[34mspectrum_analyzer:\u001b[0m     → '10000000.000000'\n"
     ]
    },
    {
     "name": "stderr",
     "output_type": "stream",
     "text": [
      "\u001b[1;30m DEBUG \u001b[0m \u001b[32m2024-01-22 14:36:42,844.844\u001b[0m • \u001b[34mspectrum_analyzer:\u001b[0m center_frequency → 10000000.0  (Hz)\n"
     ]
    },
    {
     "name": "stderr",
     "output_type": "stream",
     "text": [
      "\u001b[1;30m DEBUG \u001b[0m \u001b[32m2024-01-22 14:36:42,845.845\u001b[0m • \u001b[34mlabbench:\u001b[0m closed\n"
     ]
    },
    {
     "name": "stderr",
     "output_type": "stream",
     "text": [
      "\u001b[1;30m DEBUG \u001b[0m \u001b[32m2024-01-22 14:36:42,846.846\u001b[0m • \u001b[34mspectrum_analyzer:\u001b[0m closed\n"
     ]
    },
    {
     "name": "stderr",
     "output_type": "stream",
     "text": [
      "\u001b[1;30m DEBUG \u001b[0m \u001b[32m2024-01-22 14:36:42,848.848\u001b[0m • \u001b[34mpower_sensor:\u001b[0m closed\n"
     ]
    },
    {
     "name": "stdout",
     "output_type": "stream",
     "text": [
      "Spectrum analyzer center frequency:  10000000.0\n"
     ]
    }
   ],
   "source": [
    "lb.visa_default_resource_manager('@sim') # the simulated backend for these instruments\n",
    "lb.show_messages('debug')\n",
    "\n",
    "meas = Measurement(power_sensor=PowerSensor())\n",
    "with meas:\n",
    "    print('Spectrum analyzer center frequency: ', meas.spectrum_analyzer.center_frequency)"
   ]
  },
  {
   "cell_type": "markdown",
   "id": "34dc7ec1",
   "metadata": {},
   "source": [
    "The debug messages show how our `Measurement` container opened all of the connections before the automation functions were performed.\n",
    "\n",
    "## Nested racks\n",
    "Rack objects can be nested together, resulting in recursive context management of all devices by a top-level class. For example:"
   ]
  },
  {
   "cell_type": "code",
   "execution_count": 3,
   "id": "d444f16b",
   "metadata": {},
   "outputs": [
    {
     "name": "stderr",
     "output_type": "stream",
     "text": [
      "\u001b[1;30m DEBUG \u001b[0m \u001b[32m2024-01-22 14:36:42,862.862\u001b[0m • \u001b[34mlabbench:\u001b[0m context order: (generator, spectrum_analyzer, power_sensor)->(measurement,<__main__.Testbed object at 0x13c327ef0>)\n",
      "\u001b[1;30m DEBUG \u001b[0m \u001b[32m2024-01-22 14:36:42,865.865\u001b[0m • \u001b[34mspectrum_analyzer:\u001b[0m opened\n",
      "\u001b[1;30m DEBUG \u001b[0m \u001b[32m2024-01-22 14:36:42,866.866\u001b[0m • \u001b[34mgenerator:\u001b[0m probed resource by matching make 'FakeTech', model 'Signal Generator #1234'\n",
      "\u001b[1;30m DEBUG \u001b[0m \u001b[32m2024-01-22 14:36:42,867.867\u001b[0m • \u001b[34mpower_sensor:\u001b[0m probed resource by matching make 'FakeTech', model 'Power Sensor #1234'\n",
      "\u001b[1;30m DEBUG \u001b[0m \u001b[32m2024-01-22 14:36:42,867.867\u001b[0m • \u001b[34mgenerator:\u001b[0m 'TCPIP0::localhost:10001::inst0::INSTR'  → resource\n",
      "\u001b[1;30m DEBUG \u001b[0m \u001b[32m2024-01-22 14:36:42,868.868\u001b[0m • \u001b[34mpower_sensor:\u001b[0m 'USB0::0x1111::0x2222::0x1234::0::INSTR'  → resource\n",
      "\u001b[1;30m DEBUG \u001b[0m \u001b[32m2024-01-22 14:36:42,868.868\u001b[0m • \u001b[34mgenerator:\u001b[0m opened\n",
      "\u001b[1;30m DEBUG \u001b[0m \u001b[32m2024-01-22 14:36:42,869.869\u001b[0m • \u001b[34mpower_sensor:\u001b[0m opened\n",
      "\u001b[1;30m DEBUG \u001b[0m \u001b[32m2024-01-22 14:36:42,870.870\u001b[0m • \u001b[34mmeasurement:\u001b[0m opened\n",
      "\u001b[1;30m DEBUG \u001b[0m \u001b[32m2024-01-22 14:36:42,870.870\u001b[0m • \u001b[34mlabbench:\u001b[0m opened\n",
      "\u001b[1;30m DEBUG \u001b[0m \u001b[32m2024-01-22 14:36:42,871.871\u001b[0m • \u001b[34mspectrum_analyzer:\u001b[0m query('SENS:FREQ?'):\n",
      "\u001b[1;30m DEBUG \u001b[0m \u001b[32m2024-01-22 14:36:42,871.871\u001b[0m • \u001b[34mspectrum_analyzer:\u001b[0m     → '10000000.000000'\n",
      "\u001b[1;30m DEBUG \u001b[0m \u001b[32m2024-01-22 14:36:42,872.872\u001b[0m • \u001b[34mspectrum_analyzer:\u001b[0m center_frequency → 10000000.0  (Hz)\n",
      "\u001b[1;30m DEBUG \u001b[0m \u001b[32m2024-01-22 14:36:42,872.872\u001b[0m • \u001b[34mgenerator:\u001b[0m query('SENS:FREQ?'):\n",
      "\u001b[1;30m DEBUG \u001b[0m \u001b[32m2024-01-22 14:36:42,873.873\u001b[0m • \u001b[34mgenerator:\u001b[0m     → '10000000.000000'\n",
      "\u001b[1;30m DEBUG \u001b[0m \u001b[32m2024-01-22 14:36:42,873.873\u001b[0m • \u001b[34mgenerator:\u001b[0m center_frequency → 10000000.0  (Hz)\n",
      "\u001b[1;30m DEBUG \u001b[0m \u001b[32m2024-01-22 14:36:42,873.873\u001b[0m • \u001b[34mlabbench:\u001b[0m closed\n",
      "\u001b[1;30m DEBUG \u001b[0m \u001b[32m2024-01-22 14:36:42,874.874\u001b[0m • \u001b[34mmeasurement:\u001b[0m closed\n",
      "\u001b[1;30m DEBUG \u001b[0m \u001b[32m2024-01-22 14:36:42,874.874\u001b[0m • \u001b[34mpower_sensor:\u001b[0m closed\n",
      "\u001b[1;30m DEBUG \u001b[0m \u001b[32m2024-01-22 14:36:42,874.874\u001b[0m • \u001b[34mgenerator:\u001b[0m closed\n",
      "\u001b[1;30m DEBUG \u001b[0m \u001b[32m2024-01-22 14:36:42,875.875\u001b[0m • \u001b[34mspectrum_analyzer:\u001b[0m closed\n"
     ]
    },
    {
     "name": "stderr",
     "output_type": "stream",
     "text": [
      "\u001b[1;30m DEBUG \u001b[0m \u001b[32m2024-01-22 14:36:42,865.865\u001b[0m • \u001b[34mspectrum_analyzer:\u001b[0m opened\n"
     ]
    },
    {
     "name": "stderr",
     "output_type": "stream",
     "text": [
      "\u001b[1;30m DEBUG \u001b[0m \u001b[32m2024-01-22 14:36:42,866.866\u001b[0m • \u001b[34mgenerator:\u001b[0m probed resource by matching make 'FakeTech', model 'Signal Generator #1234'\n"
     ]
    },
    {
     "name": "stderr",
     "output_type": "stream",
     "text": [
      "\u001b[1;30m DEBUG \u001b[0m \u001b[32m2024-01-22 14:36:42,867.867\u001b[0m • \u001b[34mpower_sensor:\u001b[0m probed resource by matching make 'FakeTech', model 'Power Sensor #1234'\n"
     ]
    },
    {
     "name": "stderr",
     "output_type": "stream",
     "text": [
      "\u001b[1;30m DEBUG \u001b[0m \u001b[32m2024-01-22 14:36:42,867.867\u001b[0m • \u001b[34mgenerator:\u001b[0m 'TCPIP0::localhost:10001::inst0::INSTR'  → resource\n"
     ]
    },
    {
     "name": "stderr",
     "output_type": "stream",
     "text": [
      "\u001b[1;30m DEBUG \u001b[0m \u001b[32m2024-01-22 14:36:42,868.868\u001b[0m • \u001b[34mpower_sensor:\u001b[0m 'USB0::0x1111::0x2222::0x1234::0::INSTR'  → resource\n"
     ]
    },
    {
     "name": "stderr",
     "output_type": "stream",
     "text": [
      "\u001b[1;30m DEBUG \u001b[0m \u001b[32m2024-01-22 14:36:42,868.868\u001b[0m • \u001b[34mgenerator:\u001b[0m opened\n"
     ]
    },
    {
     "name": "stderr",
     "output_type": "stream",
     "text": [
      "\u001b[1;30m DEBUG \u001b[0m \u001b[32m2024-01-22 14:36:42,869.869\u001b[0m • \u001b[34mpower_sensor:\u001b[0m opened\n"
     ]
    },
    {
     "name": "stderr",
     "output_type": "stream",
     "text": [
      "\u001b[1;30m DEBUG \u001b[0m \u001b[32m2024-01-22 14:36:42,870.870\u001b[0m • \u001b[34mmeasurement:\u001b[0m opened\n"
     ]
    },
    {
     "name": "stderr",
     "output_type": "stream",
     "text": [
      "\u001b[1;30m DEBUG \u001b[0m \u001b[32m2024-01-22 14:36:42,870.870\u001b[0m • \u001b[34mlabbench:\u001b[0m opened\n"
     ]
    },
    {
     "name": "stderr",
     "output_type": "stream",
     "text": [
      "\u001b[1;30m DEBUG \u001b[0m \u001b[32m2024-01-22 14:36:42,871.871\u001b[0m • \u001b[34mspectrum_analyzer:\u001b[0m query('SENS:FREQ?'):\n"
     ]
    },
    {
     "name": "stderr",
     "output_type": "stream",
     "text": [
      "\u001b[1;30m DEBUG \u001b[0m \u001b[32m2024-01-22 14:36:42,871.871\u001b[0m • \u001b[34mspectrum_analyzer:\u001b[0m     → '10000000.000000'\n"
     ]
    },
    {
     "name": "stderr",
     "output_type": "stream",
     "text": [
      "\u001b[1;30m DEBUG \u001b[0m \u001b[32m2024-01-22 14:36:42,872.872\u001b[0m • \u001b[34mspectrum_analyzer:\u001b[0m center_frequency → 10000000.0  (Hz)\n"
     ]
    },
    {
     "name": "stderr",
     "output_type": "stream",
     "text": [
      "\u001b[1;30m DEBUG \u001b[0m \u001b[32m2024-01-22 14:36:42,872.872\u001b[0m • \u001b[34mgenerator:\u001b[0m query('SENS:FREQ?'):\n"
     ]
    },
    {
     "name": "stderr",
     "output_type": "stream",
     "text": [
      "\u001b[1;30m DEBUG \u001b[0m \u001b[32m2024-01-22 14:36:42,873.873\u001b[0m • \u001b[34mgenerator:\u001b[0m     → '10000000.000000'\n"
     ]
    },
    {
     "name": "stderr",
     "output_type": "stream",
     "text": [
      "\u001b[1;30m DEBUG \u001b[0m \u001b[32m2024-01-22 14:36:42,873.873\u001b[0m • \u001b[34mgenerator:\u001b[0m center_frequency → 10000000.0  (Hz)\n"
     ]
    },
    {
     "name": "stderr",
     "output_type": "stream",
     "text": [
      "\u001b[1;30m DEBUG \u001b[0m \u001b[32m2024-01-22 14:36:42,873.873\u001b[0m • \u001b[34mlabbench:\u001b[0m closed\n"
     ]
    },
    {
     "name": "stderr",
     "output_type": "stream",
     "text": [
      "\u001b[1;30m DEBUG \u001b[0m \u001b[32m2024-01-22 14:36:42,874.874\u001b[0m • \u001b[34mmeasurement:\u001b[0m closed\n"
     ]
    },
    {
     "name": "stderr",
     "output_type": "stream",
     "text": [
      "\u001b[1;30m DEBUG \u001b[0m \u001b[32m2024-01-22 14:36:42,874.874\u001b[0m • \u001b[34mpower_sensor:\u001b[0m closed\n"
     ]
    },
    {
     "name": "stderr",
     "output_type": "stream",
     "text": [
      "\u001b[1;30m DEBUG \u001b[0m \u001b[32m2024-01-22 14:36:42,874.874\u001b[0m • \u001b[34mgenerator:\u001b[0m closed\n"
     ]
    },
    {
     "name": "stderr",
     "output_type": "stream",
     "text": [
      "\u001b[1;30m DEBUG \u001b[0m \u001b[32m2024-01-22 14:36:42,875.875\u001b[0m • \u001b[34mspectrum_analyzer:\u001b[0m closed\n"
     ]
    },
    {
     "name": "stdout",
     "output_type": "stream",
     "text": [
      "Spectrum analyzer center frequency:  10000000.0\n",
      "Signal generator center frequency:  10000000.0\n"
     ]
    }
   ],
   "source": [
    "from labbench.testing.pyvisa_sim import SignalGenerator, PowerSensor, SpectrumAnalyzer\n",
    "\n",
    "class Testbed(lb.Rack):\n",
    "    # as with Device objects, we annotate a type to allow \n",
    "    measurement: Measurement = Measurement(power_sensor=PowerSensor())\n",
    "\n",
    "    # Device and Rack instances can be mixed and matched\n",
    "    generator: SignalGenerator = SignalGenerator()\n",
    "\n",
    "with Testbed() as sweep:\n",
    "    print('Spectrum analyzer center frequency: ', sweep.measurement.spectrum_analyzer.center_frequency)\n",
    "    print('Signal generator center frequency: ', sweep.generator.center_frequency)"
   ]
  },
  {
   "cell_type": "markdown",
   "id": "0b93e9c7",
   "metadata": {},
   "source": [
    "This time, `Sweep` opened connections to all three instruments, even though two were nested inside `measurement`. In fact, these connections are managed properly even if a device is shared by more than one nested rack.\n",
    "\n",
    "## Custom setup and teardown in Rack\n",
    "Rack classes can define functions that execute snippets of measurement procedures within the scope of its owned devices. These include an `open` method to initialize the state of the group of instruments. For example, extending our container objects:"
   ]
  },
  {
   "cell_type": "code",
   "execution_count": 4,
   "id": "ae39fb18",
   "metadata": {},
   "outputs": [
    {
     "name": "stderr",
     "output_type": "stream",
     "text": [
      "\u001b[1;30m DEBUG \u001b[0m \u001b[32m2024-01-22 14:36:42,884.884\u001b[0m • \u001b[34mlabbench:\u001b[0m context order: (generator, spectrum_analyzer, power_sensor)->(measurement,<__main__.Testbed object at 0x1382c4d10>)\n",
      "\u001b[1;30m DEBUG \u001b[0m \u001b[32m2024-01-22 14:36:42,887.887\u001b[0m • \u001b[34mpower_sensor:\u001b[0m probed resource by matching make 'FakeTech', model 'Power Sensor #1234'\n",
      "\u001b[1;30m DEBUG \u001b[0m \u001b[32m2024-01-22 14:36:42,887.887\u001b[0m • \u001b[34mgenerator:\u001b[0m probed resource by matching make 'FakeTech', model 'Signal Generator #1234'\n",
      "\u001b[1;30m DEBUG \u001b[0m \u001b[32m2024-01-22 14:36:42,887.887\u001b[0m • \u001b[34mspectrum_analyzer:\u001b[0m probed resource by matching make 'FakeTech', model 'Spectrum Analyzer #1234'\n",
      "\u001b[1;30m DEBUG \u001b[0m \u001b[32m2024-01-22 14:36:42,887.887\u001b[0m • \u001b[34mpower_sensor:\u001b[0m 'USB0::0x1111::0x2222::0x1234::0::INSTR'  → resource\n",
      "\u001b[1;30m DEBUG \u001b[0m \u001b[32m2024-01-22 14:36:42,888.888\u001b[0m • \u001b[34mgenerator:\u001b[0m 'TCPIP0::localhost:10001::inst0::INSTR'  → resource\n",
      "\u001b[1;30m DEBUG \u001b[0m \u001b[32m2024-01-22 14:36:42,888.888\u001b[0m • \u001b[34mspectrum_analyzer:\u001b[0m 'USB0::0x1111::0x2222::0x4445::0::INSTR'  → resource\n",
      "\u001b[1;30m DEBUG \u001b[0m \u001b[32m2024-01-22 14:36:42,889.889\u001b[0m • \u001b[34mpower_sensor:\u001b[0m opened\n",
      "\u001b[1;30m DEBUG \u001b[0m \u001b[32m2024-01-22 14:36:42,889.889\u001b[0m • \u001b[34mgenerator:\u001b[0m opened\n",
      "\u001b[1;30m DEBUG \u001b[0m \u001b[32m2024-01-22 14:36:42,889.889\u001b[0m • \u001b[34mspectrum_analyzer:\u001b[0m opened\n",
      "\u001b[1;30m INFO  \u001b[0m \u001b[32m2024-01-22 14:36:42,890.890\u001b[0m • \u001b[34mlabbench:\u001b[0m Measurement open()\n",
      "\u001b[1;30m DEBUG \u001b[0m \u001b[32m2024-01-22 14:36:42,891.891\u001b[0m • \u001b[34mpower_sensor:\u001b[0m write('SYST:PRES')\n",
      "\u001b[1;30m DEBUG \u001b[0m \u001b[32m2024-01-22 14:36:42,891.891\u001b[0m • \u001b[34mmeasurement:\u001b[0m opened\n",
      "\u001b[1;30m INFO  \u001b[0m \u001b[32m2024-01-22 14:36:42,891.891\u001b[0m • \u001b[34mlabbench:\u001b[0m Sweep open()\n",
      "\u001b[1;30m DEBUG \u001b[0m \u001b[32m2024-01-22 14:36:42,891.891\u001b[0m • \u001b[34mgenerator:\u001b[0m write('*RST')\n",
      "\u001b[1;30m DEBUG \u001b[0m \u001b[32m2024-01-22 14:36:42,892.892\u001b[0m • \u001b[34mlabbench:\u001b[0m opened\n",
      "\u001b[1;30m INFO  \u001b[0m \u001b[32m2024-01-22 14:36:42,892.892\u001b[0m • \u001b[34mlabbench:\u001b[0m Sweep close()\n",
      "\u001b[1;30m DEBUG \u001b[0m \u001b[32m2024-01-22 14:36:42,892.892\u001b[0m • \u001b[34mlabbench:\u001b[0m closed\n",
      "\u001b[1;30m INFO  \u001b[0m \u001b[32m2024-01-22 14:36:42,892.892\u001b[0m • \u001b[34mlabbench:\u001b[0m Measurement close()\n",
      "\u001b[1;30m DEBUG \u001b[0m \u001b[32m2024-01-22 14:36:42,892.892\u001b[0m • \u001b[34mmeasurement:\u001b[0m closed\n",
      "\u001b[1;30m DEBUG \u001b[0m \u001b[32m2024-01-22 14:36:42,893.893\u001b[0m • \u001b[34mspectrum_analyzer:\u001b[0m closed\n",
      "\u001b[1;30m DEBUG \u001b[0m \u001b[32m2024-01-22 14:36:42,893.893\u001b[0m • \u001b[34mgenerator:\u001b[0m closed\n",
      "\u001b[1;30m DEBUG \u001b[0m \u001b[32m2024-01-22 14:36:42,893.893\u001b[0m • \u001b[34mpower_sensor:\u001b[0m closed\n"
     ]
    },
    {
     "name": "stderr",
     "output_type": "stream",
     "text": [
      "\u001b[1;30m DEBUG \u001b[0m \u001b[32m2024-01-22 14:36:42,887.887\u001b[0m • \u001b[34mpower_sensor:\u001b[0m probed resource by matching make 'FakeTech', model 'Power Sensor #1234'\n"
     ]
    },
    {
     "name": "stderr",
     "output_type": "stream",
     "text": [
      "\u001b[1;30m DEBUG \u001b[0m \u001b[32m2024-01-22 14:36:42,887.887\u001b[0m • \u001b[34mgenerator:\u001b[0m probed resource by matching make 'FakeTech', model 'Signal Generator #1234'\n"
     ]
    },
    {
     "name": "stderr",
     "output_type": "stream",
     "text": [
      "\u001b[1;30m DEBUG \u001b[0m \u001b[32m2024-01-22 14:36:42,887.887\u001b[0m • \u001b[34mspectrum_analyzer:\u001b[0m probed resource by matching make 'FakeTech', model 'Spectrum Analyzer #1234'\n"
     ]
    },
    {
     "name": "stderr",
     "output_type": "stream",
     "text": [
      "\u001b[1;30m DEBUG \u001b[0m \u001b[32m2024-01-22 14:36:42,887.887\u001b[0m • \u001b[34mpower_sensor:\u001b[0m 'USB0::0x1111::0x2222::0x1234::0::INSTR'  → resource\n"
     ]
    },
    {
     "name": "stderr",
     "output_type": "stream",
     "text": [
      "\u001b[1;30m DEBUG \u001b[0m \u001b[32m2024-01-22 14:36:42,888.888\u001b[0m • \u001b[34mgenerator:\u001b[0m 'TCPIP0::localhost:10001::inst0::INSTR'  → resource\n"
     ]
    },
    {
     "name": "stderr",
     "output_type": "stream",
     "text": [
      "\u001b[1;30m DEBUG \u001b[0m \u001b[32m2024-01-22 14:36:42,888.888\u001b[0m • \u001b[34mspectrum_analyzer:\u001b[0m 'USB0::0x1111::0x2222::0x4445::0::INSTR'  → resource\n"
     ]
    },
    {
     "name": "stderr",
     "output_type": "stream",
     "text": [
      "\u001b[1;30m DEBUG \u001b[0m \u001b[32m2024-01-22 14:36:42,889.889\u001b[0m • \u001b[34mpower_sensor:\u001b[0m opened\n"
     ]
    },
    {
     "name": "stderr",
     "output_type": "stream",
     "text": [
      "\u001b[1;30m DEBUG \u001b[0m \u001b[32m2024-01-22 14:36:42,889.889\u001b[0m • \u001b[34mgenerator:\u001b[0m opened\n"
     ]
    },
    {
     "name": "stderr",
     "output_type": "stream",
     "text": [
      "\u001b[1;30m DEBUG \u001b[0m \u001b[32m2024-01-22 14:36:42,889.889\u001b[0m • \u001b[34mspectrum_analyzer:\u001b[0m opened\n"
     ]
    },
    {
     "name": "stderr",
     "output_type": "stream",
     "text": [
      "\u001b[1;30m INFO  \u001b[0m \u001b[32m2024-01-22 14:36:42,890.890\u001b[0m • \u001b[34mlabbench:\u001b[0m Measurement open()\n"
     ]
    },
    {
     "name": "stderr",
     "output_type": "stream",
     "text": [
      "\u001b[1;30m DEBUG \u001b[0m \u001b[32m2024-01-22 14:36:42,891.891\u001b[0m • \u001b[34mpower_sensor:\u001b[0m write('SYST:PRES')\n"
     ]
    },
    {
     "name": "stderr",
     "output_type": "stream",
     "text": [
      "\u001b[1;30m DEBUG \u001b[0m \u001b[32m2024-01-22 14:36:42,891.891\u001b[0m • \u001b[34mmeasurement:\u001b[0m opened\n"
     ]
    },
    {
     "name": "stderr",
     "output_type": "stream",
     "text": [
      "\u001b[1;30m INFO  \u001b[0m \u001b[32m2024-01-22 14:36:42,891.891\u001b[0m • \u001b[34mlabbench:\u001b[0m Sweep open()\n"
     ]
    },
    {
     "name": "stderr",
     "output_type": "stream",
     "text": [
      "\u001b[1;30m DEBUG \u001b[0m \u001b[32m2024-01-22 14:36:42,891.891\u001b[0m • \u001b[34mgenerator:\u001b[0m write('*RST')\n"
     ]
    },
    {
     "name": "stderr",
     "output_type": "stream",
     "text": [
      "\u001b[1;30m DEBUG \u001b[0m \u001b[32m2024-01-22 14:36:42,892.892\u001b[0m • \u001b[34mlabbench:\u001b[0m opened\n"
     ]
    },
    {
     "name": "stderr",
     "output_type": "stream",
     "text": [
      "\u001b[1;30m INFO  \u001b[0m \u001b[32m2024-01-22 14:36:42,892.892\u001b[0m • \u001b[34mlabbench:\u001b[0m Sweep close()\n"
     ]
    },
    {
     "name": "stderr",
     "output_type": "stream",
     "text": [
      "\u001b[1;30m DEBUG \u001b[0m \u001b[32m2024-01-22 14:36:42,892.892\u001b[0m • \u001b[34mlabbench:\u001b[0m closed\n"
     ]
    },
    {
     "name": "stderr",
     "output_type": "stream",
     "text": [
      "\u001b[1;30m INFO  \u001b[0m \u001b[32m2024-01-22 14:36:42,892.892\u001b[0m • \u001b[34mlabbench:\u001b[0m Measurement close()\n"
     ]
    },
    {
     "name": "stderr",
     "output_type": "stream",
     "text": [
      "\u001b[1;30m DEBUG \u001b[0m \u001b[32m2024-01-22 14:36:42,892.892\u001b[0m • \u001b[34mmeasurement:\u001b[0m closed\n"
     ]
    },
    {
     "name": "stderr",
     "output_type": "stream",
     "text": [
      "\u001b[1;30m DEBUG \u001b[0m \u001b[32m2024-01-22 14:36:42,893.893\u001b[0m • \u001b[34mspectrum_analyzer:\u001b[0m closed\n"
     ]
    },
    {
     "name": "stderr",
     "output_type": "stream",
     "text": [
      "\u001b[1;30m DEBUG \u001b[0m \u001b[32m2024-01-22 14:36:42,893.893\u001b[0m • \u001b[34mgenerator:\u001b[0m closed\n"
     ]
    },
    {
     "name": "stderr",
     "output_type": "stream",
     "text": [
      "\u001b[1;30m DEBUG \u001b[0m \u001b[32m2024-01-22 14:36:42,893.893\u001b[0m • \u001b[34mpower_sensor:\u001b[0m closed\n"
     ]
    }
   ],
   "source": [
    "from labbench.util import logger\n",
    "class Measurement(lb.Rack):\n",
    "    spectrum_analyzer: SpectrumAnalyzer = SpectrumAnalyzer()\n",
    "    power_sensor: PowerSensor\n",
    "\n",
    "    def open(self):\n",
    "        # this is called automatically after its owned devices are opened\n",
    "        logger.info('Measurement open()')\n",
    "        self.power_sensor.preset()\n",
    "\n",
    "    def close(self):\n",
    "        logger.info('Measurement close()')\n",
    "\n",
    "class Testbed(lb.Rack):\n",
    "    generator: SignalGenerator = SignalGenerator()\n",
    "    measurement: Measurement = Measurement(power_sensor=PowerSensor())\n",
    "\n",
    "    def open(self):\n",
    "        # the last open() call is here after everything else has opened\n",
    "        logger.info('Sweep open()')\n",
    "        self.generator.preset()\n",
    "\n",
    "    def close(self):\n",
    "        # the first close() call is here before nested objects\n",
    "        logger.info('Sweep close()')\n",
    "\n",
    "with Testbed() as sweep:\n",
    "    pass"
   ]
  },
  {
   "cell_type": "markdown",
   "id": "b2b9c9b3",
   "metadata": {},
   "source": [
    "The call order of `open()` methods is always in this order: first, all nested {py:class}`labbench.Device` objects, recursively, and then all rack objects, beginning from the deepest nesting level and proceeding to the top.\n",
    "\n",
    "\n",
    "**Note**: \n",
    "    All {py:class}`labbench.Rack` and {py:class}`labbench.Device` objects have special-case inheritance behavior for `open()` and `close()` methods. These enforce calls to all nested and inherited types\n",
    "    in order to enforce the sequencing required to for cross-dependency in racks.\n",
    "    As a result, calling `super().open()` or `super().close()` is redundant and unnecessary.\n",
    "\n",
    "\n",
    "## Procedural snippets\n",
    "As an organizational tool, short pieces of experimental procedure can be expressed by implementing methods (class-level functions) in each rack:"
   ]
  },
  {
   "cell_type": "code",
   "execution_count": 5,
   "id": "5e328232",
   "metadata": {},
   "outputs": [
    {
     "name": "stderr",
     "output_type": "stream",
     "text": [
      "\u001b[1;30m INFO  \u001b[0m \u001b[32m2024-01-22 14:36:42,906.906\u001b[0m • \u001b[34mlabbench:\u001b[0m starting frequency sweep across 3 points\n",
      "\u001b[1;30m INFO  \u001b[0m \u001b[32m2024-01-22 14:36:42,907.907\u001b[0m • \u001b[34mlabbench:\u001b[0m single frequency test at 2400.000 MHz\n",
      "\u001b[1;30m INFO  \u001b[0m \u001b[32m2024-01-22 14:36:43,010.010\u001b[0m • \u001b[34mlabbench:\u001b[0m single frequency test at 2440.000 MHz\n",
      "\u001b[1;30m INFO  \u001b[0m \u001b[32m2024-01-22 14:36:43,121.121\u001b[0m • \u001b[34mlabbench:\u001b[0m single frequency test at 2480.000 MHz\n"
     ]
    },
    {
     "name": "stderr",
     "output_type": "stream",
     "text": [
      "\u001b[1;30m INFO  \u001b[0m \u001b[32m2024-01-22 14:36:42,907.907\u001b[0m • \u001b[34mlabbench:\u001b[0m single frequency test at 2400.000 MHz\n"
     ]
    },
    {
     "name": "stderr",
     "output_type": "stream",
     "text": [
      "\u001b[1;30m INFO  \u001b[0m \u001b[32m2024-01-22 14:36:43,010.010\u001b[0m • \u001b[34mlabbench:\u001b[0m single frequency test at 2440.000 MHz\n"
     ]
    },
    {
     "name": "stderr",
     "output_type": "stream",
     "text": [
      "\u001b[1;30m INFO  \u001b[0m \u001b[32m2024-01-22 14:36:43,121.121\u001b[0m • \u001b[34mlabbench:\u001b[0m single frequency test at 2480.000 MHz\n"
     ]
    }
   ],
   "source": [
    "class Measurement(lb.Rack):\n",
    "    spectrum_analyzer: SpectrumAnalyzer = SpectrumAnalyzer()\n",
    "    power_sensor: PowerSensor\n",
    "\n",
    "    def setup(self, *, center_frequency):\n",
    "        self.spectrum_analyzer.load_state(\"state_filename\")\n",
    "        self.spectrum_analyzer.center_frequency = center_frequency\n",
    "        self.spectrum_analyzer.resolution_bandwidth = 10e6\n",
    "\n",
    "        self.power_sensor.preset()\n",
    "        self.power_sensor.frequency = center_frequency\n",
    "\n",
    "    def acquire(self):\n",
    "        self.spectrum_analyzer.trigger()\n",
    "\n",
    "    def fetch(self):\n",
    "        spectrum = self.spectrum_analyzer.fetch()\n",
    "        pvt = self.power_sensor.fetch()\n",
    "        return {\n",
    "            'spectrum': spectrum,\n",
    "            'power': pvt\n",
    "        }\n",
    "\n",
    "class Testbed(lb.Rack):\n",
    "    generator: SignalGenerator = SignalGenerator()\n",
    "    measurement: Measurement = Measurement(power_sensor=PowerSensor())\n",
    "\n",
    "    def setup(self, center_frequency: float):\n",
    "        self.generator.center_frequency = center_frequency\n",
    "        self.measurement.setup(center_frequency=center_frequency)\n",
    "\n",
    "    def single_frequency(self, *, center_frequency):\n",
    "        logger.info(f'single frequency test at {center_frequency/1e6:0.3f} MHz')\n",
    "        self.generator.output_enabled = True\n",
    "\n",
    "        self.measurement.acquire()\n",
    "        self.generator.output_enabled = False\n",
    "        return self.measurement.fetch()\n",
    "\n",
    "    def sweep(self, frequencies):\n",
    "        logger.info(f'starting frequency sweep across {len(frequencies)} points')\n",
    "        ret = []\n",
    "\n",
    "        for freq in frequencies:\n",
    "            ret.append(self.single_frequency(center_frequency=freq))\n",
    "\n",
    "        return ret\n",
    "    \n",
    "lb.show_messages('info')\n",
    "\n",
    "with Testbed() as testbed:\n",
    "    data = testbed.sweep(frequencies=[2.4e9, 2.44e9, 2.48e9])"
   ]
  }
 ],
 "metadata": {
  "jupytext": {
   "text_representation": {
    "extension": ".md",
    "format_name": "myst",
    "format_version": 0.13,
    "jupytext_version": "1.15.2"
   }
  },
  "kernelspec": {
   "display_name": "base",
   "language": "python",
   "name": "python3"
  },
  "language_info": {
   "codemirror_mode": {
    "name": "ipython",
    "version": 3
   },
   "file_extension": ".py",
   "mimetype": "text/x-python",
   "name": "python",
   "nbconvert_exporter": "python",
   "pygments_lexer": "ipython3",
   "version": "3.12.1"
  },
  "source_map": [
   12,
   21,
   40,
   46,
   53,
   60,
   73,
   80,
   109,
   123
  ]
 },
 "nbformat": 4,
 "nbformat_minor": 5
}