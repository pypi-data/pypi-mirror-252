{
 "cells": [
  {
   "cell_type": "markdown",
   "id": "43aa8b8d",
   "metadata": {},
   "source": [
    "# VISA automation quick start\n",
    "\n",
    "Labbench includes several features to organize and streamline [VISA](https://en.wikipedia.org/wiki/Virtual_instrument_software_architecture) instrument automation through [`pyvisa`](http://pyvisa.readthedocs.org/). \n",
    "\n",
    "\n",
    "<!-- {py:class}`labbench.Device` is the root object used to define and implement automation with a lower-level driver. Its purpose is to encapsulate all python data and methods for a specific laboratory device or software. -->\n",
    "\n",
    "<!-- This section demonstrates usage through a lean working example. The {py:class}`labbench.Device` design pattern for a specific device starts by defining a subclass, often from one of the backend subclasses that has been specialized for a low-level driver module (, shell commands, etc.). Doing this has several advantages: -->\n",
    "\n",
    "## The labbench pyvisa backend\n",
    "Generic VISA automation functions are encapsulated in a general-purpose object type: {py:class}`labbench.VISADevice`.\n",
    "This brings several benefits compared to passing message strings directly into `pyvisa` objects:\n",
    "\n",
    "* multi-threaded connection management\n",
    "* automatic coercion between python types and low-level/over-the-wire data types\n",
    "* support for [automatic logging](./03%20data%20logging.md) of instrument configuration parameters and metadata for \n",
    "* constraints on instrument parameters\n",
    "\n",
    "When available, other more specialized classes (subclasses) can tailor `VISADevice` to expose pythonic automation functions tailored to a specific instruments. However, guidance that follows for `VISADevice` can also be applied to its subclasses.\n",
    "\n",
    "## Resource managers\n",
    "Labbench supports the use of any `pyvisa` [resource manager backend](https://pyvisa.readthedocs.io/en/1.14.1/introduction/configuring.html).\n",
    "\n",
    "* The default is {py:module}`pyvisa-py` (`\"@py\"``), which is installed as a dependency\n",
    "* A special case driver for demonstration and testing is `@sim`.\n",
    "  Specialized `VISADevice` objects for the simulated instruments are provided in {py:module}`labbench.testing.pyvisa_sim`\n",
    "\n",
    "The following examples use some pre-defined simulated VISA instruments to illustrate workflow. These are exposed through the {py:mod}`pyvisa` \"@sim\" resource manager.\n",
    "\n",
    "## Discover connected instruments \n",
    "The labbench command line tool provides device discovery based on {py:function}`labbench.visa_probe_devices`. The following"
   ]
  },
  {
   "cell_type": "code",
   "execution_count": 1,
   "id": "a229e615",
   "metadata": {},
   "outputs": [
    {
     "name": "stdout",
     "output_type": "stream",
     "text": [
      "Traceback (most recent call last):\r\n",
      "  File \"/Users/dkuester/Documents/src/labbench/.venv/bin/labbench\", line 5, in <module>\r\n",
      "    from cli.__main__ import do_cli\r\n",
      "ModuleNotFoundError: No module named 'cli'\r\n"
     ]
    }
   ],
   "source": [
    "# remove the ! when running in a command prompt\n",
    "!labbench visa-probe @sim "
   ]
  },
  {
   "cell_type": "markdown",
   "id": "24303317",
   "metadata": {},
   "source": [
    "This probes instruments by attempting `*IDN?` queries on the resource strings discovered by the resource manager. The resulting responses are used to determine valid connection parameters (`read_termination` and `write_termination`). When successful, identifying characteristics (make, model, serial number, and revision) are shown, together with explicit syntax to create a generic instrument control object.\n",
    "\n",
    "For `@py` backends, information about missing drivers is also shown when they limit the scope of the discovery.\n",
    "\n",
    "\n",
    "## Resource names\n",
    "The `VISADevice` resource argument specifies the information required to open a connection to the instrument. These can include:\n",
    "\n",
    "* Any [pyvisa resource name](https://pyvisa.readthedocs.io/en/1.8/names.html)\n",
    "* The serial number of a connected instrument (for instruments discoverable through {py:func}`labbench.visa_probe_devices`).\n",
    "For subclasses that define `make` and/or `model`, and these together match exactly one connected instrument, the `resource` argument can also be omitted.\n",
    "\n",
    "## Connection with a VISADevice\n",
    "At its simplest, a `VISADevice` object exposes the [communication capabilities of pyvisa resource](https://pyvisa.readthedocs.io/en/1.14.1/introduction/rvalues.html). Starting from the power sensor in our VISA probe:"
   ]
  },
  {
   "cell_type": "code",
   "execution_count": 2,
   "id": "a756c0bc",
   "metadata": {},
   "outputs": [
    {
     "name": "stdout",
     "output_type": "stream",
     "text": [
      "FakeTech,Power Sensor #1234,63472,rev f\n"
     ]
    }
   ],
   "source": [
    "import labbench as lb\n",
    "lb.visa_default_resource_manager('@sim')\n",
    "\n",
    "inst = lb.VISADevice('USB0::0x1111::0x2222::0x1234::0::INSTR', write_termination='\\r\\n')\n",
    "\n",
    "with inst:\n",
    "    print(inst.query('*IDN?'))"
   ]
  },
  {
   "cell_type": "markdown",
   "id": "d321679b",
   "metadata": {},
   "source": [
    "The backend connection remains open for VISA communication for code executing in `with` block. It is closed on exit, even in the event of an exception\n",
    "\n",
    "## Using specialized wrappers\n",
    "Tailored instrument classes provide more convenient pythonic interaction. One example is provided for our\n",
    "simulated instrument in `labbench`. However, many more are available in external libraries like\n",
    "[ssmdevices](https://github.com/usnistgov/ssmdevices)."
   ]
  },
  {
   "cell_type": "code",
   "execution_count": 3,
   "id": "80fd417e",
   "metadata": {},
   "outputs": [
    {
     "name": "stderr",
     "output_type": "stream",
     "text": [
      "\u001b[1;30m DEBUG \u001b[0m \u001b[32m2024-01-22 14:36:39,860.860\u001b[0m • \u001b[34mPowerSensor():\u001b[0m probed resource by matching make 'FakeTech', model 'Power Sensor #1234'\n",
      "\u001b[1;30m DEBUG \u001b[0m \u001b[32m2024-01-22 14:36:39,862.862\u001b[0m • \u001b[34mPowerSensor():\u001b[0m 'USB0::0x1111::0x2222::0x1234::0::INSTR'  → resource\n",
      "\u001b[1;30m DEBUG \u001b[0m \u001b[32m2024-01-22 14:36:39,863.863\u001b[0m • \u001b[34mPowerSensor():\u001b[0m opened\n",
      "\u001b[1;30m DEBUG \u001b[0m \u001b[32m2024-01-22 14:36:39,864.864\u001b[0m • \u001b[34mPowerSensor():\u001b[0m write('SYST:PRES')\n",
      "\u001b[1;30m DEBUG \u001b[0m \u001b[32m2024-01-22 14:36:39,865.865\u001b[0m • \u001b[34mPowerSensor():\u001b[0m write('SENS:FREQ 1000000000.0')\n",
      "\u001b[1;30m DEBUG \u001b[0m \u001b[32m2024-01-22 14:36:39,866.866\u001b[0m • \u001b[34mPowerSensor():\u001b[0m 1000000000.0 (Hz) → frequency\n",
      "\u001b[1;30m DEBUG \u001b[0m \u001b[32m2024-01-22 14:36:39,867.867\u001b[0m • \u001b[34mPowerSensor():\u001b[0m write('SENS:MRAT FAST')\n",
      "\u001b[1;30m DEBUG \u001b[0m \u001b[32m2024-01-22 14:36:39,867.867\u001b[0m • \u001b[34mPowerSensor():\u001b[0m 'FAST'  → measurement_rate\n",
      "\u001b[1;30m DEBUG \u001b[0m \u001b[32m2024-01-22 14:36:39,869.869\u001b[0m • \u001b[34mPowerSensor():\u001b[0m write('TRIG:COUN 200')\n",
      "\u001b[1;30m DEBUG \u001b[0m \u001b[32m2024-01-22 14:36:39,869.869\u001b[0m • \u001b[34mPowerSensor():\u001b[0m 200 (samples) → trigger_count\n",
      "\u001b[1;30m DEBUG \u001b[0m \u001b[32m2024-01-22 14:36:39,870.870\u001b[0m • \u001b[34mPowerSensor():\u001b[0m write('SWE:APER 2e-05')\n",
      "\u001b[1;30m DEBUG \u001b[0m \u001b[32m2024-01-22 14:36:39,871.871\u001b[0m • \u001b[34mPowerSensor():\u001b[0m 2e-05 (s) → sweep_aperture\n",
      "\u001b[1;30m DEBUG \u001b[0m \u001b[32m2024-01-22 14:36:39,872.872\u001b[0m • \u001b[34mPowerSensor():\u001b[0m write('INIT:CONT ON')\n",
      "\u001b[1;30m DEBUG \u001b[0m \u001b[32m2024-01-22 14:36:39,872.872\u001b[0m • \u001b[34mPowerSensor():\u001b[0m True  → initiate_continuous\n",
      "\u001b[1;30m DEBUG \u001b[0m \u001b[32m2024-01-22 14:36:39,873.873\u001b[0m • \u001b[34mPowerSensor():\u001b[0m query('FETC?'):\n",
      "\u001b[1;30m DEBUG \u001b[0m \u001b[32m2024-01-22 14:36:39,876.876\u001b[0m • \u001b[34mPowerSensor():\u001b[0m     → (1572 bytes)\n",
      "\u001b[1;30m DEBUG \u001b[0m \u001b[32m2024-01-22 14:36:39,877.877\u001b[0m • \u001b[34mPowerSensor():\u001b[0m query('TRIG:COUN?'):\n",
      "\u001b[1;30m DEBUG \u001b[0m \u001b[32m2024-01-22 14:36:39,878.878\u001b[0m • \u001b[34mPowerSensor():\u001b[0m     → '200'\n",
      "\u001b[1;30m DEBUG \u001b[0m \u001b[32m2024-01-22 14:36:39,878.878\u001b[0m • \u001b[34mPowerSensor():\u001b[0m trigger_count → 200  (samples)\n",
      "\u001b[1;30m DEBUG \u001b[0m \u001b[32m2024-01-22 14:36:39,879.879\u001b[0m • \u001b[34mPowerSensor():\u001b[0m closed\n"
     ]
    },
    {
     "name": "stderr",
     "output_type": "stream",
     "text": [
      "\u001b[1;30m DEBUG \u001b[0m \u001b[32m2024-01-22 14:36:39,862.862\u001b[0m • \u001b[34mPowerSensor():\u001b[0m 'USB0::0x1111::0x2222::0x1234::0::INSTR'  → resource\n"
     ]
    },
    {
     "name": "stderr",
     "output_type": "stream",
     "text": [
      "\u001b[1;30m DEBUG \u001b[0m \u001b[32m2024-01-22 14:36:39,863.863\u001b[0m • \u001b[34mPowerSensor():\u001b[0m opened\n"
     ]
    },
    {
     "name": "stderr",
     "output_type": "stream",
     "text": [
      "\u001b[1;30m DEBUG \u001b[0m \u001b[32m2024-01-22 14:36:39,864.864\u001b[0m • \u001b[34mPowerSensor():\u001b[0m write('SYST:PRES')\n"
     ]
    },
    {
     "name": "stderr",
     "output_type": "stream",
     "text": [
      "\u001b[1;30m DEBUG \u001b[0m \u001b[32m2024-01-22 14:36:39,865.865\u001b[0m • \u001b[34mPowerSensor():\u001b[0m write('SENS:FREQ 1000000000.0')\n"
     ]
    },
    {
     "name": "stderr",
     "output_type": "stream",
     "text": [
      "\u001b[1;30m DEBUG \u001b[0m \u001b[32m2024-01-22 14:36:39,866.866\u001b[0m • \u001b[34mPowerSensor():\u001b[0m 1000000000.0 (Hz) → frequency\n"
     ]
    },
    {
     "name": "stderr",
     "output_type": "stream",
     "text": [
      "\u001b[1;30m DEBUG \u001b[0m \u001b[32m2024-01-22 14:36:39,867.867\u001b[0m • \u001b[34mPowerSensor():\u001b[0m write('SENS:MRAT FAST')\n"
     ]
    },
    {
     "name": "stderr",
     "output_type": "stream",
     "text": [
      "\u001b[1;30m DEBUG \u001b[0m \u001b[32m2024-01-22 14:36:39,867.867\u001b[0m • \u001b[34mPowerSensor():\u001b[0m 'FAST'  → measurement_rate\n"
     ]
    },
    {
     "name": "stderr",
     "output_type": "stream",
     "text": [
      "\u001b[1;30m DEBUG \u001b[0m \u001b[32m2024-01-22 14:36:39,869.869\u001b[0m • \u001b[34mPowerSensor():\u001b[0m write('TRIG:COUN 200')\n"
     ]
    },
    {
     "name": "stderr",
     "output_type": "stream",
     "text": [
      "\u001b[1;30m DEBUG \u001b[0m \u001b[32m2024-01-22 14:36:39,869.869\u001b[0m • \u001b[34mPowerSensor():\u001b[0m 200 (samples) → trigger_count\n"
     ]
    },
    {
     "name": "stderr",
     "output_type": "stream",
     "text": [
      "\u001b[1;30m DEBUG \u001b[0m \u001b[32m2024-01-22 14:36:39,870.870\u001b[0m • \u001b[34mPowerSensor():\u001b[0m write('SWE:APER 2e-05')\n"
     ]
    },
    {
     "name": "stderr",
     "output_type": "stream",
     "text": [
      "\u001b[1;30m DEBUG \u001b[0m \u001b[32m2024-01-22 14:36:39,871.871\u001b[0m • \u001b[34mPowerSensor():\u001b[0m 2e-05 (s) → sweep_aperture\n"
     ]
    },
    {
     "name": "stderr",
     "output_type": "stream",
     "text": [
      "\u001b[1;30m DEBUG \u001b[0m \u001b[32m2024-01-22 14:36:39,872.872\u001b[0m • \u001b[34mPowerSensor():\u001b[0m write('INIT:CONT ON')\n"
     ]
    },
    {
     "name": "stderr",
     "output_type": "stream",
     "text": [
      "\u001b[1;30m DEBUG \u001b[0m \u001b[32m2024-01-22 14:36:39,872.872\u001b[0m • \u001b[34mPowerSensor():\u001b[0m True  → initiate_continuous\n"
     ]
    },
    {
     "name": "stderr",
     "output_type": "stream",
     "text": [
      "\u001b[1;30m DEBUG \u001b[0m \u001b[32m2024-01-22 14:36:39,873.873\u001b[0m • \u001b[34mPowerSensor():\u001b[0m query('FETC?'):\n"
     ]
    },
    {
     "name": "stderr",
     "output_type": "stream",
     "text": [
      "\u001b[1;30m DEBUG \u001b[0m \u001b[32m2024-01-22 14:36:39,876.876\u001b[0m • \u001b[34mPowerSensor():\u001b[0m     → (1572 bytes)\n"
     ]
    },
    {
     "name": "stderr",
     "output_type": "stream",
     "text": [
      "\u001b[1;30m DEBUG \u001b[0m \u001b[32m2024-01-22 14:36:39,877.877\u001b[0m • \u001b[34mPowerSensor():\u001b[0m query('TRIG:COUN?'):\n"
     ]
    },
    {
     "name": "stderr",
     "output_type": "stream",
     "text": [
      "\u001b[1;30m DEBUG \u001b[0m \u001b[32m2024-01-22 14:36:39,878.878\u001b[0m • \u001b[34mPowerSensor():\u001b[0m     → '200'\n"
     ]
    },
    {
     "name": "stderr",
     "output_type": "stream",
     "text": [
      "\u001b[1;30m DEBUG \u001b[0m \u001b[32m2024-01-22 14:36:39,878.878\u001b[0m • \u001b[34mPowerSensor():\u001b[0m trigger_count → 200  (samples)\n"
     ]
    },
    {
     "name": "stderr",
     "output_type": "stream",
     "text": [
      "\u001b[1;30m DEBUG \u001b[0m \u001b[32m2024-01-22 14:36:39,879.879\u001b[0m • \u001b[34mPowerSensor():\u001b[0m closed\n"
     ]
    }
   ],
   "source": [
    "# use a pyvisa-sim simulated VISA instrument for the demo\n",
    "from labbench.testing.pyvisa_sim import PowerSensor\n",
    "lb.visa_default_resource_manager('@sim')\n",
    "\n",
    "# watch the low-level write and query actions\n",
    "lb.show_messages('debug')\n",
    "\n",
    "# No resource name required if it's the only connected match for its make and model\n",
    "with PowerSensor() as sensor:   \n",
    "    # apply the instrument preset state\n",
    "    sensor.preset()\n",
    "\n",
    "    # set acquisition parameters on the power sensor\n",
    "    sensor.frequency = 1e9\n",
    "    sensor.measurement_rate = \"FAST\"\n",
    "    sensor.trigger_count = 200\n",
    "    sensor.sweep_aperture = 20e-6\n",
    "    sensor.initiate_continuous = True\n",
    "\n",
    "    # retreive the 200 measurement samples\n",
    "    power = sensor.fetch()"
   ]
  },
  {
   "cell_type": "markdown",
   "id": "1ef2ab26",
   "metadata": {},
   "source": [
    "The use of debug messages serve as validation of the anticipated SCPI messages and responses. These are helpful when\n",
    "familiarizing with `labbench` after working directly with the command strings, or when developing wrappers of your own.\n",
    "\n",
    "<!-- * Attributes that were defined with `attr.property` in `PowerSensor` become interactive for instrument automation in `sensor`. This means that assigning to `sensor.frequency`, `sensor.measurement_rate` trigger VISA writes to set these parameters on the instrument. Similarly, _getting_ each these attributes of sensor triggers VISA queries. The specific SCPI commands are visible here in the debug messages. -->\n",
    "\n",
    "<!-- ```{admonition} Getting started with a new instrument\n",
    "Some trial and error is often needed, and it is best to iterate in small steps:\n",
    "1. Establish a connection to the instrument, referring to the documentation for the backend (for example, the [pyvisa communication documentation](https://pyvisa.readthedocs.io/en/latest/introduction/communication.html))\n",
    "2. Verify basic communication with the instrument using very simple commands\n",
    "3. Refer to the instrument programming manual to add one command at a time, testing each by verifying on the instrument itself\n",
    "``` -->"
   ]
  }
 ],
 "metadata": {
  "jupytext": {
   "text_representation": {
    "extension": ".md",
    "format_name": "myst",
    "format_version": 0.13,
    "jupytext_version": "1.15.1"
   }
  },
  "kernelspec": {
   "display_name": "base",
   "language": "python",
   "name": "python3"
  },
  "language_info": {
   "codemirror_mode": {
    "name": "ipython",
    "version": 3
   },
   "file_extension": ".py",
   "mimetype": "text/x-python",
   "name": "python",
   "nbconvert_exporter": "python",
   "pygments_lexer": "ipython3",
   "version": "3.12.1"
  },
  "source_map": [
   12,
   46,
   49,
   66,
   74,
   83,
   105
  ]
 },
 "nbformat": 4,
 "nbformat_minor": 5
}