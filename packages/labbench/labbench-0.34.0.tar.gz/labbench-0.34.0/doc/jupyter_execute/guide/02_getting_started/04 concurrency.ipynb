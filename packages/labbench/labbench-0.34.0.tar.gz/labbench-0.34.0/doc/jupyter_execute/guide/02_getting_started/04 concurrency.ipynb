{
 "cells": [
  {
   "cell_type": "markdown",
   "id": "463c042d",
   "metadata": {},
   "source": [
    "# Simplified Concurrency\n",
    "`labbench` includes simplified concurrency support for this kind of I/O-constrained operations like waiting for instruments to perform long operations. It is not suited for parallelizing CPU-intensive tasks because the operations share a single process on one CPU core, instead of multiprocessing, which may be able to spread operations across multiple CPU cores.\n",
    "\n",
    "Here are simple Device objects that use {py:func}`time.sleep` as a stand-in for long-running remote operations:"
   ]
  },
  {
   "cell_type": "code",
   "execution_count": 1,
   "id": "591314c1",
   "metadata": {},
   "outputs": [],
   "source": [
    "import labbench as lb\n",
    "\n",
    "# a placeholder for long-running remote operations\n",
    "from time import sleep\n",
    "\n",
    "class Device1(lb.VISADevice):\n",
    "    def open(self):\n",
    "        # open() is called on connection to the device\n",
    "        with lb.stopwatch('Device1 connect'):\n",
    "            sleep(1)\n",
    "            \n",
    "    def fetch(self):\n",
    "        with lb.stopwatch('Device1 fetch'):\n",
    "            sleep(1)\n",
    "            return 5\n",
    "\n",
    "class Device2(lb.VISADevice):\n",
    "    def open(self):\n",
    "        # open() is called on connection to the device\n",
    "        with lb.stopwatch('Device2 connect'):\n",
    "            sleep(2)\n",
    "            \n",
    "    def acquire(self):\n",
    "        with lb.stopwatch('Device2 acquire'):\n",
    "            sleep(2)\n",
    "            return None"
   ]
  },
  {
   "cell_type": "markdown",
   "id": "1c407ff2",
   "metadata": {},
   "source": [
    "Suppose we need to both `fetch` from `Device1` and `acquire` in `Device2`, and that the time-sequencing is not important. One approach is to simply call one and then the other:"
   ]
  },
  {
   "cell_type": "code",
   "execution_count": 2,
   "id": "b47a9470",
   "metadata": {},
   "outputs": [
    {
     "name": "stderr",
     "output_type": "stream",
     "text": [
      "\u001b[1;30m INFO  \u001b[0m \u001b[32m2024-01-22 14:36:49,071.071\u001b[0m • \u001b[34mlabbench:\u001b[0m Device1 connect 1.005 s elapsed\n",
      "\u001b[1;30m INFO  \u001b[0m \u001b[32m2024-01-22 14:36:51,078.078\u001b[0m • \u001b[34mlabbench:\u001b[0m Device2 connect 2.004 s elapsed\n",
      "\u001b[1;30m INFO  \u001b[0m \u001b[32m2024-01-22 14:36:52,086.086\u001b[0m • \u001b[34mlabbench:\u001b[0m Device1 fetch 1.005 s elapsed\n",
      "\u001b[1;30m INFO  \u001b[0m \u001b[32m2024-01-22 14:36:54,089.089\u001b[0m • \u001b[34mlabbench:\u001b[0m Device2 acquire 2.002 s elapsed\n",
      "\u001b[1;30m INFO  \u001b[0m \u001b[32m2024-01-22 14:36:54,091.091\u001b[0m • \u001b[34mlabbench:\u001b[0m both Device1.fetch and Device2.acquire (total time) 3.010 s elapsed\n"
     ]
    },
    {
     "name": "stderr",
     "output_type": "stream",
     "text": [
      "\u001b[1;30m INFO  \u001b[0m \u001b[32m2024-01-22 14:36:51,078.078\u001b[0m • \u001b[34mlabbench:\u001b[0m Device2 connect 2.004 s elapsed\n"
     ]
    },
    {
     "name": "stdout",
     "output_type": "stream",
     "text": [
      "connect both (total time): 3.0 s\n"
     ]
    },
    {
     "name": "stderr",
     "output_type": "stream",
     "text": [
      "\u001b[1;30m INFO  \u001b[0m \u001b[32m2024-01-22 14:36:52,086.086\u001b[0m • \u001b[34mlabbench:\u001b[0m Device1 fetch 1.005 s elapsed\n"
     ]
    },
    {
     "name": "stderr",
     "output_type": "stream",
     "text": [
      "\u001b[1;30m INFO  \u001b[0m \u001b[32m2024-01-22 14:36:54,089.089\u001b[0m • \u001b[34mlabbench:\u001b[0m Device2 acquire 2.002 s elapsed\n"
     ]
    },
    {
     "name": "stderr",
     "output_type": "stream",
     "text": [
      "\u001b[1;30m INFO  \u001b[0m \u001b[32m2024-01-22 14:36:54,091.091\u001b[0m • \u001b[34mlabbench:\u001b[0m both Device1.fetch and Device2.acquire (total time) 3.010 s elapsed\n"
     ]
    }
   ],
   "source": [
    "from labbench import testing\n",
    "from time import perf_counter\n",
    "\n",
    "# allow simulated connections to the specified VISA devices\n",
    "lb.visa_default_resource_manager(testing.pyvisa_sim_resource)\n",
    "\n",
    "d1 = Device1('TCPIP::localhost::INSTR')\n",
    "d2 = Device2('USB::0x1111::0x2222::0x1234::INSTR')\n",
    "\n",
    "t0 = perf_counter()\n",
    "with d1, d2:\n",
    "    print(f'connect both (total time): {perf_counter()-t0:0.1f} s')\n",
    "    with lb.stopwatch('both Device1.fetch and Device2.acquire (total time)'):\n",
    "        d1.fetch()\n",
    "        d2.acquire()"
   ]
  },
  {
   "cell_type": "markdown",
   "id": "0a417da6",
   "metadata": {},
   "source": [
    "For each of the connection and fetch/acquire operations, the total duration was about 3 seconds, because the 1 and 2 second operations are executed sequentially.\n",
    "\n",
    "Suppose that we want to perform each of the open and fetch/acquire operations concurrently. Enter {py:func}`labbench.concurrently`:"
   ]
  },
  {
   "cell_type": "code",
   "execution_count": 3,
   "id": "13b8d9e7",
   "metadata": {},
   "outputs": [
    {
     "name": "stderr",
     "output_type": "stream",
     "text": [
      "\u001b[1;30m INFO  \u001b[0m \u001b[32m2024-01-22 14:36:55,107.107\u001b[0m • \u001b[34mlabbench:\u001b[0m Device1 connect 1.003 s elapsed\n",
      "\u001b[1;30m INFO  \u001b[0m \u001b[32m2024-01-22 14:36:56,110.110\u001b[0m • \u001b[34mlabbench:\u001b[0m Device2 connect 2.005 s elapsed\n",
      "\u001b[1;30m INFO  \u001b[0m \u001b[32m2024-01-22 14:36:57,117.117\u001b[0m • \u001b[34mlabbench:\u001b[0m Device1 fetch 1.005 s elapsed\n",
      "\u001b[1;30m INFO  \u001b[0m \u001b[32m2024-01-22 14:36:58,118.118\u001b[0m • \u001b[34mlabbench:\u001b[0m Device2 acquire 2.005 s elapsed\n",
      "\u001b[1;30m INFO  \u001b[0m \u001b[32m2024-01-22 14:36:58,119.119\u001b[0m • \u001b[34mlabbench:\u001b[0m both Device1.fetch and Device2.acquire (total time) 2.008 s elapsed\n"
     ]
    },
    {
     "name": "stderr",
     "output_type": "stream",
     "text": [
      "\u001b[1;30m INFO  \u001b[0m \u001b[32m2024-01-22 14:36:56,110.110\u001b[0m • \u001b[34mlabbench:\u001b[0m Device2 connect 2.005 s elapsed\n"
     ]
    },
    {
     "name": "stdout",
     "output_type": "stream",
     "text": [
      "connect both (total time): 2.0 s\n",
      "Return value:  {'fetch': 5}\n"
     ]
    },
    {
     "name": "stderr",
     "output_type": "stream",
     "text": [
      "\u001b[1;30m INFO  \u001b[0m \u001b[32m2024-01-22 14:36:57,117.117\u001b[0m • \u001b[34mlabbench:\u001b[0m Device1 fetch 1.005 s elapsed\n"
     ]
    },
    {
     "name": "stderr",
     "output_type": "stream",
     "text": [
      "\u001b[1;30m INFO  \u001b[0m \u001b[32m2024-01-22 14:36:58,118.118\u001b[0m • \u001b[34mlabbench:\u001b[0m Device2 acquire 2.005 s elapsed\n"
     ]
    },
    {
     "name": "stderr",
     "output_type": "stream",
     "text": [
      "\u001b[1;30m INFO  \u001b[0m \u001b[32m2024-01-22 14:36:58,119.119\u001b[0m • \u001b[34mlabbench:\u001b[0m both Device1.fetch and Device2.acquire (total time) 2.008 s elapsed\n"
     ]
    },
    {
     "name": "stdout",
     "output_type": "stream",
     "text": [
      "Return value:  {'fetch': 5}\n"
     ]
    }
   ],
   "source": [
    "from labbench import testing\n",
    "from time import perf_counter\n",
    "\n",
    "# allow simulated connections to the specified VISA devices\n",
    "lb.visa_default_resource_manager(testing.pyvisa_sim_resource)\n",
    "\n",
    "d1 = Device1('TCPIP::localhost::INSTR')\n",
    "d2 = Device2('USB::0x1111::0x2222::0x1234::INSTR')\n",
    "\n",
    "t0 = perf_counter()\n",
    "with lb.concurrently(d1, d2):\n",
    "    print(f'connect both (total time): {perf_counter()-t0:0.1f} s')\n",
    "    with lb.stopwatch('both Device1.fetch and Device2.acquire (total time)'):\n",
    "        ret = lb.concurrently(d1.fetch, d2.acquire)\n",
    "        \n",
    "print('Return value: ', ret)"
   ]
  },
  {
   "cell_type": "markdown",
   "id": "d21c267d",
   "metadata": {},
   "source": [
    "Each call to {py:func}`labbench.concurrently` executes each callable in separate threads, and returns after the longest-running call.\n",
    "* As a result, in this example, for each of the `open` and `fetch`/`acquire`, the total time is reduced from 3 s to 2 s.\n",
    "* The return values of threaded calls are packaged into a dictionary for each call that does not return `None`.\n",
    "The syntax is a little more involved when you want to pass in arguments to multiple callables. For information on doing this, see the [detailed instructions](../03_detailed_usage/05_concurrency)."
   ]
  }
 ],
 "metadata": {
  "jupytext": {
   "text_representation": {
    "extension": ".md",
    "format_name": "myst",
    "format_version": 0.13,
    "jupytext_version": "1.15.1"
   }
  },
  "kernelspec": {
   "display_name": "base",
   "language": "python",
   "name": "python3"
  },
  "language_info": {
   "codemirror_mode": {
    "name": "ipython",
    "version": 3
   },
   "file_extension": ".py",
   "mimetype": "text/x-python",
   "name": "python",
   "nbconvert_exporter": "python",
   "pygments_lexer": "ipython3",
   "version": "3.12.1"
  },
  "source_map": [
   12,
   19,
   46,
   50,
   66,
   72,
   89
  ]
 },
 "nbformat": 4,
 "nbformat_minor": 5
}