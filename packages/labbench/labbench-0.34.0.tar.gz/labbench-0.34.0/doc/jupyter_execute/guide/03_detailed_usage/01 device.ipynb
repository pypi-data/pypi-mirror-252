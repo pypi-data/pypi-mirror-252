{
 "cells": [
  {
   "cell_type": "markdown",
   "id": "82b424b7",
   "metadata": {},
   "source": [
    "# Device Wrappers\n",
    "\n",
    "{py:class}`labbench.Device` is the root object used to define and implement automation with a lower-level driver. Its purpose is to encapsulate all python data and methods for a specific laboratory device or software.\n",
    "\n",
    "This section demonstrates usage through a lean working example. The {py:class}`labbench.Device` design pattern for a specific device starts by defining a subclass, often from one of the backend subclasses that has been specialized for a low-level driver module ([`pyvisa`](http://pyvisa.readthedocs.org/), shell commands, etc.). Doing this has several advantages:\n",
    "* hooks into the [data logging subsystem](./03%20data%20logging.md) for automatic logging of parameters and acquired data\n",
    "* automatic coercion between python types and low-level/over-the-wire data types\n",
    "* constraints on instrument parameters\n",
    "* multi-threaded connection management\n",
    "\n",
    "## Example Implementation: A VISA Instrument\n",
    "Let's start by a simple demonstration with [VISA](https://en.wikipedia.org/wiki/Virtual_instrument_software_architecture) instrument automation. The example below gives a simplified working example modeled on [an actual commercial RF power sensor](https://github.com/usnistgov/ssmdevices/blob/main/ssmdevices/instruments/power_sensors.py):"
   ]
  },
  {
   "cell_type": "code",
   "execution_count": 1,
   "id": "65118d47",
   "metadata": {},
   "outputs": [
    {
     "ename": "NameError",
     "evalue": "name 'VISADevice' is not defined",
     "output_type": "error",
     "traceback": [
      "\u001b[0;31m---------------------------------------------------------------------------\u001b[0m",
      "\u001b[0;31mNameError\u001b[0m                                 Traceback (most recent call last)",
      "Cell \u001b[0;32mIn[1], line 15\u001b[0m\n\u001b[1;32m      2\u001b[0m \u001b[38;5;28;01mimport\u001b[39;00m \u001b[38;5;21;01mlabbench\u001b[39;00m \u001b[38;5;28;01mas\u001b[39;00m \u001b[38;5;21;01mlb\u001b[39;00m\n\u001b[1;32m      3\u001b[0m \u001b[38;5;28;01mfrom\u001b[39;00m \u001b[38;5;21;01mlabbench\u001b[39;00m \u001b[38;5;28;01mimport\u001b[39;00m paramattr \u001b[38;5;28;01mas\u001b[39;00m attr\n\u001b[1;32m      5\u001b[0m \u001b[38;5;129m@attr\u001b[39m\u001b[38;5;241m.\u001b[39mvisa_keying(\n\u001b[1;32m      6\u001b[0m     \u001b[38;5;66;03m# the default SCPI query and write formats\u001b[39;00m\n\u001b[1;32m      7\u001b[0m     query_fmt\u001b[38;5;241m=\u001b[39m\u001b[38;5;124m\"\u001b[39m\u001b[38;5;132;01m{key}\u001b[39;00m\u001b[38;5;124m?\u001b[39m\u001b[38;5;124m\"\u001b[39m,\n\u001b[1;32m      8\u001b[0m     write_fmt\u001b[38;5;241m=\u001b[39m\u001b[38;5;124m\"\u001b[39m\u001b[38;5;132;01m{key}\u001b[39;00m\u001b[38;5;124m \u001b[39m\u001b[38;5;132;01m{value}\u001b[39;00m\u001b[38;5;124m\"\u001b[39m,\n\u001b[1;32m      9\u001b[0m     \u001b[38;5;66;03m# map python True and False values to these SCPI strings\u001b[39;00m\n\u001b[1;32m     10\u001b[0m     remap\u001b[38;5;241m=\u001b[39m{\u001b[38;5;28;01mTrue\u001b[39;00m: \u001b[38;5;124m\"\u001b[39m\u001b[38;5;124mON\u001b[39m\u001b[38;5;124m\"\u001b[39m, \u001b[38;5;28;01mFalse\u001b[39;00m: \u001b[38;5;124m\"\u001b[39m\u001b[38;5;124mOFF\u001b[39m\u001b[38;5;124m\"\u001b[39m},\n\u001b[1;32m     11\u001b[0m )\n\u001b[1;32m     12\u001b[0m \u001b[38;5;66;03m# set the automatic connection filters\u001b[39;00m\n\u001b[1;32m     13\u001b[0m \u001b[38;5;129m@attr\u001b[39m\u001b[38;5;241m.\u001b[39madjust(\u001b[38;5;124m\"\u001b[39m\u001b[38;5;124mmake\u001b[39m\u001b[38;5;124m\"\u001b[39m, \u001b[38;5;124m\"\u001b[39m\u001b[38;5;124mpyvisa_sim\u001b[39m\u001b[38;5;124m\"\u001b[39m)\n\u001b[1;32m     14\u001b[0m \u001b[38;5;129m@attr\u001b[39m\u001b[38;5;241m.\u001b[39madjust(\u001b[38;5;124m\"\u001b[39m\u001b[38;5;124mmodel\u001b[39m\u001b[38;5;124m\"\u001b[39m, \u001b[38;5;124m\"\u001b[39m\u001b[38;5;124mPower Sensor model 1234\u001b[39m\u001b[38;5;124m\"\u001b[39m)\n\u001b[0;32m---> 15\u001b[0m \u001b[38;5;28;01mclass\u001b[39;00m \u001b[38;5;21;01mPowerSensor\u001b[39;00m(\u001b[43mVISADevice\u001b[49m):\n\u001b[1;32m     16\u001b[0m     RATES \u001b[38;5;241m=\u001b[39m \u001b[38;5;124m\"\u001b[39m\u001b[38;5;124mNORM\u001b[39m\u001b[38;5;124m\"\u001b[39m, \u001b[38;5;124m\"\u001b[39m\u001b[38;5;124mDOUB\u001b[39m\u001b[38;5;124m\"\u001b[39m, \u001b[38;5;124m\"\u001b[39m\u001b[38;5;124mFAST\u001b[39m\u001b[38;5;124m\"\u001b[39m\n\u001b[1;32m     18\u001b[0m     \u001b[38;5;66;03m# SCPI string keys and bounds on the parameter values,\u001b[39;00m\n\u001b[1;32m     19\u001b[0m     \u001b[38;5;66;03m# taken from the instrument programming manual\u001b[39;00m\n",
      "\u001b[0;31mNameError\u001b[0m: name 'VISADevice' is not defined"
     ]
    }
   ],
   "source": [
    "# sim_instrument1.py\n",
    "import labbench as lb\n",
    "from labbench import paramattr as attr\n",
    "\n",
    "@attr.visa_keying(\n",
    "    # the default SCPI query and write formats\n",
    "    query_fmt=\"{key}?\",\n",
    "    write_fmt=\"{key} {value}\",\n",
    "    # map python True and False values to these SCPI strings\n",
    "    remap={True: \"ON\", False: \"OFF\"},\n",
    ")\n",
    "# set the automatic connection filters\n",
    "@attr.adjust(\"make\", \"pyvisa_sim\")\n",
    "@attr.adjust(\"model\", \"Power Sensor model 1234\")\n",
    "class PowerSensor(VISADevice):\n",
    "    RATES = \"NORM\", \"DOUB\", \"FAST\"\n",
    "\n",
    "    # SCPI string keys and bounds on the parameter values,\n",
    "    # taken from the instrument programming manual\n",
    "    initiate_continuous = attr.property.bool(key=\"INIT:CONT\", help=\"trigger continuously if True\")\n",
    "    trigger_count = attr.property.int(\n",
    "        key=\"TRIG:COUN\", help=\"acquisition count\", label=\"samples\",\n",
    "        min=1, max=200\n",
    "    )\n",
    "    measurement_rate = attr.property.str(\n",
    "        key=\"SENS:MRAT\", only=RATES, case=False,\n",
    "    )\n",
    "    sweep_aperture = attr.property.float(\n",
    "        key=\"SWE:APER\", help=\"measurement duration\", label=\"s\",\n",
    "        min=20e-6, max=200e-3\n",
    "    )\n",
    "    frequency = attr.property.float(\n",
    "        key=\"SENS:FREQ\", help=\"calibration frequency\", label=\"Hz\",\n",
    "        min=10e6, max=18e9, step=1e-3,\n",
    "    )\n",
    "\n",
    "    def preset(self):\n",
    "        \"\"\"revert to instrument default presets\"\"\"\n",
    "        self.write(\"SYST:PRES\")\n",
    "\n",
    "    def fetch(self):\n",
    "        \"\"\"acquire measurements as configured\"\"\"\n",
    "        response = self.query(\"FETC?\")\n",
    "\n",
    "        if self.trigger_count == 1:\n",
    "            return float(response)\n",
    "        else:\n",
    "            return pd.Series([float(s) for s in response.split(\",\")], name=\"spectrum\")\n",
    "\n",
    "    def trigger(self):\n",
    "        return self.write(\"TRIG\")"
   ]
  },
  {
   "cell_type": "markdown",
   "id": "811c456b",
   "metadata": {},
   "source": [
    "Automation capabilities for this instrument are fully encapsulated by the `PowerSensor` object. Subclassing from {py:class}`labbench.VISADevice` seeds `PowerSensor` with all of its [`pyvisa`](https://pyvisa.readthedocs.io/), including connection management and access to its [pyvisa instrument object](https://pyvisa.readthedocs.io/en/latest/introduction/communication.html) as its `backend` attribute. The method functions (`fetch` and `preset`) represent examples of scripting SCPI commands through explicit code\n",
    "\n",
    "The various {py:mod}`labbench.property` definitions are shortcuts for [SCPI](https://en.wikipedia.org/wiki/Standard_Commands_for_Programmable_Instruments). In usage of objects derived from {py:class}`labbench.VISABackend`, getting or setting these properties will trigger SCPI query and commands based on each property's `key`.\n",
    "* The property type ({py:class}`labbench.property.float`, {py:class}`labbench.property.str`, etc.) sets the python type to use for the parameter\n",
    "* The keyword arguments, which define the SCPI command, validation constraints and documentation metadata, would be  filled in based on the instrument programming manual.\n",
    "These properties are class _descriptors_ that exist only as definition until we _instantiate_ `PowerSensor` in order to _use_ it.\n",
    "\n",
    "## Example Usage\n",
    "The implementation of `PowerSensor` is already enough for us to perform a simple measurement. Automation starts with making an instance and then connecting it. The methods and traits can be discovered through tab completion in most IDEs."
   ]
  },
  {
   "cell_type": "code",
   "execution_count": null,
   "id": "b735cf00",
   "metadata": {},
   "outputs": [],
   "source": [
    "# use a pyvisa-sim simulated VISA instrument for the demo\n",
    "from labbench import testing\n",
    "lb.visa_default_resource_manager(testing.pyvisa_sim_resource)\n",
    "\n",
    "# print the low-level actions of the code\n",
    "lb.show_messages('debug')\n",
    "\n",
    "# specify the VISA address to use the power sensor\n",
    "sensor = PowerSensor()\n",
    "\n",
    "# the sensor attempts to connect to the hardware on entering a `with` block\n",
    "with sensor:   \n",
    "    # apply the instrument preset state\n",
    "    sensor.preset()\n",
    "\n",
    "    # set acquisition parameters on the power sensor\n",
    "    sensor.frequency = 1e9\n",
    "    sensor.measurement_rate = \"FAST\"\n",
    "    sensor.trigger_count = 200\n",
    "    sensor.sweep_aperture = 20e-6\n",
    "    sensor.initiate_continuous = True\n",
    "\n",
    "    # retreive the 200 measurement samples\n",
    "    power = sensor.fetch()\n",
    "\n",
    "    # the instrument connection closes on leaving the with block"
   ]
  },
  {
   "cell_type": "markdown",
   "id": "e784066f",
   "metadata": {},
   "source": [
    "Creating the `sensor` instance brings the `PowerSensor` class definition to life. This means:\n",
    "* The connection remains open for VISA communication inside the `with` block\n",
    "* Attributes that were defined with `attr.property` in `PowerSensor` become interactive for instrument automation in `sensor`. This means that assigning to `sensor.frequency`, `sensor.measurement_rate` trigger VISA writes to set these parameters on the instrument. Similarly, _getting_ each these attributes of sensor triggers VISA queries. The specific SCPI commands are visible here in the debug messages.\n",
    "\n",
    "```{admonition} Getting started with a new instrument\n",
    "Some trial and error is often needed, and it is best to iterate in small steps:\n",
    "1. Establish a connection to the instrument, referring to the documentation for the backend (for example, the [pyvisa communication documentation](https://pyvisa.readthedocs.io/en/latest/introduction/communication.html))\n",
    "2. Verify basic communication with the instrument using very simple commands\n",
    "3. Refer to the instrument programming manual to add one command at a time, testing each by verifying on the instrument itself\n",
    "```\n",
    "\n",
    "## Further Reading"
   ]
  }
 ],
 "metadata": {
  "jupytext": {
   "text_representation": {
    "extension": ".md",
    "format_name": "myst",
    "format_version": 0.13,
    "jupytext_version": "1.15.1"
   }
  },
  "kernelspec": {
   "display_name": "base",
   "language": "python",
   "name": "python3"
  },
  "language_info": {
   "codemirror_mode": {
    "name": "ipython",
    "version": 3
   },
   "file_extension": ".py",
   "mimetype": "text/x-python",
   "name": "python",
   "nbconvert_exporter": "python",
   "pygments_lexer": "ipython3",
   "version": "3.12.1"
  },
  "source_map": [
   12,
   27,
   79,
   91,
   118
  ]
 },
 "nbformat": 4,
 "nbformat_minor": 5
}