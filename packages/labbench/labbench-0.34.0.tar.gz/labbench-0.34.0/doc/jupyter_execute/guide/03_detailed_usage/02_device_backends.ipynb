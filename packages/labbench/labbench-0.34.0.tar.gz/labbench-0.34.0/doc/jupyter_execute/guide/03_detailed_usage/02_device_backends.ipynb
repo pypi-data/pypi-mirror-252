{
 "cells": [
  {
   "cell_type": "markdown",
   "id": "6c250bb1",
   "metadata": {},
   "source": [
    "# Device Backends\n",
    "A series of short working examples here illustrate the use of labbench `Device` classes for experiment automation. The python programming interface is in the module of the same name, but it is convenient to import it as `lb` for shorthand."
   ]
  },
  {
   "cell_type": "code",
   "execution_count": 1,
   "id": "72dab947",
   "metadata": {},
   "outputs": [],
   "source": [
    "import labbench as lb\n",
    "lb.show_messages('debug')"
   ]
  },
  {
   "cell_type": "markdown",
   "id": "61e0c1a2",
   "metadata": {},
   "source": [
    "Laboratory automation wrappers are implemented as classes derived from `lb.Device`. All of them share common basic types features designed to make their usage discoverable and convenient. The goal here is to show how to navigate these objects to get started quickly automating lab tasks. \n",
    "\n",
    "Wrappers for specific instruments are not included with `labbench`, only low-level python plumbing and utility functions to streamline lab automation. Specific implementation is left for other libraries.\n",
    "\n",
    "## Overview\n",
    "\n",
    "The `Device` class and subclasses represent in a sense only a definition with instructions for automating a specified type of lab tool. To bring these to life and control objects in the lab, the most general steps are to\n",
    "\n",
    "1. construct an object from the class,\n",
    "\n",
    "2. open a connection, and then\n",
    "\n",
    "3. use the object's attributes to perform automation tasks as needed.\n",
    "\n",
    "Let's start with a simple automation demo for a simple 2 instrument experiment."
   ]
  },
  {
   "cell_type": "code",
   "execution_count": 2,
   "id": "6154857b",
   "metadata": {},
   "outputs": [
    {
     "ename": "ModuleNotFoundError",
     "evalue": "No module named 'sim_visa'",
     "output_type": "error",
     "traceback": [
      "\u001b[0;31m---------------------------------------------------------------------------\u001b[0m",
      "\u001b[0;31mModuleNotFoundError\u001b[0m                       Traceback (most recent call last)",
      "Cell \u001b[0;32mIn[2], line 3\u001b[0m\n\u001b[1;32m      1\u001b[0m \u001b[38;5;28;01mimport\u001b[39;00m \u001b[38;5;21;01mlabbench\u001b[39;00m \u001b[38;5;28;01mas\u001b[39;00m \u001b[38;5;21;01mlb\u001b[39;00m\n\u001b[1;32m      2\u001b[0m \u001b[38;5;28;01mimport\u001b[39;00m \u001b[38;5;21;01mnumpy\u001b[39;00m \u001b[38;5;28;01mas\u001b[39;00m \u001b[38;5;21;01mnp\u001b[39;00m\n\u001b[0;32m----> 3\u001b[0m \u001b[38;5;28;01mfrom\u001b[39;00m \u001b[38;5;21;01msim_visa\u001b[39;00m \u001b[38;5;28;01mimport\u001b[39;00m PowerSupply, SpectrumAnalyzer\n\u001b[1;32m      5\u001b[0m \u001b[38;5;66;03m# VISA Devices take a standard address string to create a resource\u001b[39;00m\n\u001b[1;32m      6\u001b[0m spectrum_analyzer \u001b[38;5;241m=\u001b[39m SpectrumAnalyzer(\u001b[38;5;124m'\u001b[39m\u001b[38;5;124mGPIB::15::INSTR\u001b[39m\u001b[38;5;124m'\u001b[39m)\n",
      "\u001b[0;31mModuleNotFoundError\u001b[0m: No module named 'sim_visa'"
     ]
    }
   ],
   "source": [
    "import labbench as lb\n",
    "import numpy as np\n",
    "from sim_visa import PowerSupply, SpectrumAnalyzer\n",
    "\n",
    "# VISA Devices take a standard address string to create a resource\n",
    "spectrum_analyzer = SpectrumAnalyzer('GPIB::15::INSTR')\n",
    "supply = PowerSupply('USB::0x1111::0x2222::0x2468::INSTR')\n",
    "\n",
    "# show SCPI traffic\n",
    "lb.show_messages('debug')\n",
    "\n",
    "# `with` blocks open the devices, then closes them afterward\n",
    "with supply, spectrum_analyzer: \n",
    "    print(supply.backend, supply._rm, repr(supply.read_termination))\n",
    "    supply.voltage = 5\n",
    "    supply.output_enabled = True\n",
    "\n",
    "    trace_dB = 10*np.log10(spectrum_analyzer.fetch_trace())\n",
    "trace_dB.plot();"
   ]
  },
  {
   "cell_type": "markdown",
   "id": "7bf1dfbb",
   "metadata": {},
   "source": [
    "These instruments are emulated - under the hood they are [pyvisa-sim](http://pyvisa-sim.readthedocs.io/) instruments, configured in [sim_visa.yaml], which act as simple value stores for a few fake SCPI commands and sources of \"canned\" arrays of data. The demo labbench Device classes that control them are implemented in [sim_visa.py] (subclassed from `lb.Device` -> `lb.VISADevice` -> `lb.SimulatedVISADevice`).\n",
    "\n",
    "## Workflow\n",
    "### Constructing objects\n",
    "These Device classes (like other VISA instruments) need a VISA address in order to point to a specific instrument. To discover information about this and other available initialization parameters, use python help() or the '?' magic in ipython or jupyter:"
   ]
  },
  {
   "cell_type": "code",
   "execution_count": null,
   "id": "ee6d0c1b",
   "metadata": {},
   "outputs": [],
   "source": [
    "SpectrumAnalyzer?"
   ]
  },
  {
   "cell_type": "markdown",
   "id": "bdc3418f",
   "metadata": {},
   "source": [
    "Other options are also available here, such as the transport settings `read_termination` and `read_termination`, or the number of traces to acquire in calls to `fetch_trace`.\n",
    "\n",
    "These can also be set or changed after object construction by setting the value attributes, for example ```spectrum_analyzer.resource = 'GPIB::15::INSTR'``` or ```supply.resource = 'USB::0x1111::0x2222::0x2468::INSTR'```. The complete list of these parameters is shown under \"Value Attributes\", which also lists read-only values that can't be changed and are not constructor arguments.\n",
    "\n",
    "### Opening device connections\n",
    "In automation scripts, it is good practice to use a context block (that `with` statement) to open connections. This ensures all of the devices open and close together, even when exceptions are raised.\n",
    "\n",
    "For interactive use on the python/ipython/jupyter prompt, this is less convenient. For this purpose, device objects also expose explicit `open` and `close` methods. As an example, a simple check for instrument response to automation could look like this, \n",
    "\n",
    "```python\n",
    ">>> supply.open()\n",
    ">>> print(supply.output_enabled)\n",
    "False\n",
    ">>> # (...look at the instrument to verify output is disabled)\n",
    ">>> supply.output_enabled = True\n",
    ">>> # (...verify instrument output is enabled)\n",
    "```\n",
    "\n",
    "This type of exploration is a good way to learn the capabilities of a device interactively.\n",
    "\n",
    "### Automating with open devices\n",
    "\n",
    "Python's introspection tools give more opportunities to discover the API exposed by a device object. This is important because the methods and other attributes vary from one type of Device class to another. The below uses `dir` to show the list of all _public_ attributes (those that don't start with `'_'`)."
   ]
  },
  {
   "cell_type": "code",
   "execution_count": null,
   "id": "ef572fbb",
   "metadata": {},
   "outputs": [],
   "source": [
    "# filter by name\n",
    "attrs = [\n",
    "    name\n",
    "    for name in dir(SpectrumAnalyzer)\n",
    "    if not name.startswith('_')\n",
    "]\n",
    "\n",
    "print(f'public attributes of SpectrumAnalyzer: {attrs}\\n')\n",
    "\n",
    "# discover the 'query' method common to VISA all devices\n",
    "SpectrumAnalyzer.query?"
   ]
  },
  {
   "cell_type": "markdown",
   "id": "7516174a",
   "metadata": {},
   "source": [
    "Trait attributes that cast to python types with validation are definitions in classes, but become interactive values in device objects:"
   ]
  },
  {
   "cell_type": "code",
   "execution_count": null,
   "id": "d1959974",
   "metadata": {},
   "outputs": [],
   "source": [
    "print(f'class: SpectrumAnalyzer.sweeps == {SpectrumAnalyzer.sweeps}')\n",
    "print(f'object: spectrum_analyzer.sweeps == {signal_analyzer.sweeps}')"
   ]
  },
  {
   "cell_type": "code",
   "execution_count": null,
   "id": "acccf2c8",
   "metadata": {},
   "outputs": [],
   "source": [
    "signal_analyzer.open\n",
    "SpectrumAnalyzer.open"
   ]
  },
  {
   "cell_type": "markdown",
   "id": "7e907313",
   "metadata": {},
   "source": [
    "## Generalizing from the example\n",
    "Different subclasses expose different method functions and attribute variables to wrap the underling low-level API. Still, several characteristics are standardized:\n",
    "- connection management through `with` block or `open`/`close` methods\n",
    "- an `isopen` property to indicate connection status\n",
    "- `resource` is accepted by the constructor, and may be changed afterward as a class attribute\n",
    "- hooks are available for data loggers and UIs to observe automation calls\n",
    "\n",
    "\n",
    "Device subclasses for different types of instruments and software differ in\n",
    "- the types of resource and configuration information\n",
    "- the specific resource of the class provided to control the device"
   ]
  },
  {
   "cell_type": "markdown",
   "id": "13a2a14f",
   "metadata": {},
   "source": [
    "This gets more complicated when handling multiple devices, because connection failures leave a combination of open and closed:"
   ]
  },
  {
   "cell_type": "code",
   "execution_count": null,
   "id": "69e10e0e",
   "metadata": {},
   "outputs": [],
   "source": [
    "try:\n",
    "    base.open()\n",
    "    visa.open() # fails because its resource doesn't exist on the host\n",
    "    \n",
    "    # we don't get this far after visa.open() raises an exception\n",
    "    print(\"doing useful automation here\")\n",
    "    visa.close()\n",
    "    base.close()\n",
    "except:    \n",
    "    # we're left with a mixture of connection states\n",
    "    assert base.isopen==True and visa.isopen==False\n",
    "\n",
    "    # ...so we have to clean up the stray connection manually :(\n",
    "    base.close()"
   ]
  },
  {
   "cell_type": "markdown",
   "id": "2c53edd4",
   "metadata": {},
   "source": [
    "Context management is easier and more clear. Everything inside the `with` block executes only if all devices open successfully, and ensures cleanup so that all devices are closed afterward."
   ]
  },
  {
   "cell_type": "code",
   "execution_count": null,
   "id": "111ebe67",
   "metadata": {},
   "outputs": [],
   "source": [
    "try:\n",
    "    with base, visa: # does both base.open() and visa.open()\n",
    "        print('we never get in here, because visa.open() fails!')\n",
    "except:\n",
    "    # context management ensured a base.close() after visa.open() failed, \n",
    "    assert base.isopen==False and visa.isopen==False"
   ]
  },
  {
   "cell_type": "markdown",
   "id": "bd3e5d9e",
   "metadata": {},
   "source": [
    "data logging, type checking,and numerical bounds validation. \n",
    "\n",
    "These features are common to all `Device` classes (and derived classes). To get started, provide  by minimum working examples. Examples will use  we'll look into the more specialized capabilities provided by other `Device` subclasses included `labbench` for often-used backend APIs like serial and VISA.\n",
    "\n",
    "### Example\n",
    "Here are very fake functions that just use `time.sleep` to block. They simulate longer instrument calls (such as triggering or acquisition) that take some time to complete.\n",
    "\n",
    "Notice that `do_something_3` takes 3 arguments (and returns them), and that `do_something_4` raises an exception."
   ]
  },
  {
   "cell_type": "code",
   "execution_count": null,
   "id": "984ca353",
   "metadata": {},
   "outputs": [],
   "source": [
    "import labbench as lb"
   ]
  },
  {
   "cell_type": "markdown",
   "id": "5847bb97",
   "metadata": {},
   "source": [
    "Here is the simplest example, where we call functions `do_something_1` and `do_something_2` that take no arguments and raise no exceptions:"
   ]
  },
  {
   "cell_type": "code",
   "execution_count": null,
   "id": "7c0a21a2",
   "metadata": {},
   "outputs": [],
   "source": [
    "from labbench import concurrently\n",
    "\n",
    "results = concurrently(do_something_1, do_something_2)\n",
    "results"
   ]
  },
  {
   "cell_type": "code",
   "execution_count": null,
   "id": "d70abc61",
   "metadata": {},
   "outputs": [],
   "source": [
    "results"
   ]
  },
  {
   "cell_type": "code",
   "execution_count": null,
   "id": "75bf682e",
   "metadata": {},
   "outputs": [],
   "source": [
    "do_something_1.__name__"
   ]
  },
  {
   "cell_type": "markdown",
   "id": "9a61e790",
   "metadata": {},
   "source": [
    "We can also pass functions by wrapping the functions in `Call()`, which is a class designed for this purpose:"
   ]
  },
  {
   "cell_type": "code",
   "execution_count": null,
   "id": "33d8a021",
   "metadata": {},
   "outputs": [],
   "source": [
    "from labbench import concurrently, Call\n",
    "\n",
    "results = concurrently(do_something_1, Call(do_something_3, 1,2,c=3))\n",
    "results"
   ]
  },
  {
   "cell_type": "markdown",
   "id": "72beedc6",
   "metadata": {},
   "source": [
    "More than one of the functions running concurrently may raise exceptions. Tracebacks print to the screen, and by default `ConcurrentException` is also raised:"
   ]
  },
  {
   "cell_type": "code",
   "execution_count": null,
   "id": "6178356e",
   "metadata": {},
   "outputs": [],
   "source": [
    "from labbench import concurrently, Call\n",
    "\n",
    "results = concurrently(do_something_4, do_something_5)\n",
    "results"
   ]
  },
  {
   "cell_type": "markdown",
   "id": "8725421f",
   "metadata": {},
   "source": [
    "the `catch` flag changes concurrent exception handling behavior to return values of functions that did not raise exceptions (instead of raising `ConcurrentException`). The return dictionary only includes keys for functions that did not raise exceptions."
   ]
  },
  {
   "cell_type": "code",
   "execution_count": null,
   "id": "c7c5350b",
   "metadata": {},
   "outputs": [],
   "source": [
    "from labbench import concurrently, Call\n",
    "\n",
    "results = concurrently(do_something_4, do_something_1, catch=True)\n",
    "results"
   ]
  }
 ],
 "metadata": {
  "jupytext": {
   "text_representation": {
    "extension": ".md",
    "format_name": "myst",
    "format_version": 0.13,
    "jupytext_version": "1.15.1"
   }
  },
  "kernelspec": {
   "display_name": "base",
   "language": "python",
   "name": "python3"
  },
  "language_info": {
   "codemirror_mode": {
    "name": "ipython",
    "version": 3
   },
   "file_extension": ".py",
   "mimetype": "text/x-python",
   "name": "python",
   "nbconvert_exporter": "python",
   "pygments_lexer": "ipython3",
   "version": "3.12.1"
  },
  "source_map": [
   12,
   17,
   20,
   38,
   58,
   66,
   68,
   94,
   106,
   110,
   115,
   118,
   132,
   136,
   151,
   155,
   162,
   173,
   175,
   179,
   186,
   190,
   192,
   196,
   201,
   205,
   210,
   214
  ]
 },
 "nbformat": 4,
 "nbformat_minor": 5
}