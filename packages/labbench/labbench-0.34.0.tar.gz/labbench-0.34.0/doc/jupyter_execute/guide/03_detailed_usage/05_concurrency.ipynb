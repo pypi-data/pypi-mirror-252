{
 "cells": [
  {
   "cell_type": "markdown",
   "id": "4ee762fd",
   "metadata": {},
   "source": [
    "# Simplified Concurrency\n",
    "`labbench` includes simplified concurrency support for this kind of I/O-constrained operations like waiting for instruments to perform long operations. It is not suited for parallelizing CPU-intensive tasks because the operations share a single process on one CPU core, instead of multiprocessing, which may be able to spread operations across multiple CPU cores."
   ]
  },
  {
   "cell_type": "markdown",
   "id": "07e8589c",
   "metadata": {},
   "source": [
    "Here are very fake functions that just use `time.sleep` to block. They simulate longer instrument calls (such as triggering or acquisition) that take some time to complete.\n",
    "\n",
    "Notice that `do_something_3` takes 3 arguments (and returns them), and that `do_something_4` raises an exception."
   ]
  },
  {
   "cell_type": "code",
   "execution_count": 1,
   "id": "ea6d80a8",
   "metadata": {},
   "outputs": [],
   "source": [
    "import time\n",
    "\n",
    "def do_something_1 ():\n",
    "    print('start 1')\n",
    "    time.sleep(1)\n",
    "    print('end 1')\n",
    "    return 1\n",
    "\n",
    "def do_something_2 ():\n",
    "    print('start 2')\n",
    "    time.sleep(2)\n",
    "    print('end 2')\n",
    "    return 2\n",
    "\n",
    "def do_something_3 (a,b,c):\n",
    "    print('start 3')\n",
    "    time.sleep(2.5)\n",
    "    print('end 3')\n",
    "    return a,b,c \n",
    "\n",
    "def do_something_4 ():\n",
    "    print('start 4')\n",
    "    time.sleep(3)\n",
    "    raise ValueError('I had an error')\n",
    "    print('end 4')\n",
    "    return 4\n",
    "\n",
    "def do_something_5 ():\n",
    "    print('start 5')\n",
    "    time.sleep(4)\n",
    "    raise IndexError('I had a different error')\n",
    "    print('end 5')\n",
    "    return 4"
   ]
  },
  {
   "cell_type": "markdown",
   "id": "45c6275c",
   "metadata": {},
   "source": [
    "Here is the simplest example, where we call functions `do_something_1` and `do_something_2` that take no arguments and raise no exceptions:"
   ]
  },
  {
   "cell_type": "code",
   "execution_count": 2,
   "id": "1340beee",
   "metadata": {},
   "outputs": [
    {
     "name": "stdout",
     "output_type": "stream",
     "text": [
      "start 1start 2\n",
      "\n",
      "end 1\n",
      "end 2\n",
      "results: {'do_something_1': 1, 'do_something_2': 2}\n"
     ]
    },
    {
     "name": "stdout",
     "output_type": "stream",
     "text": [
      "end 1\n"
     ]
    },
    {
     "name": "stdout",
     "output_type": "stream",
     "text": [
      "end 2\n",
      "results: {'do_something_1': 1, 'do_something_2': 2}\n"
     ]
    }
   ],
   "source": [
    "import labbench as lb\n",
    "\n",
    "results = lb.concurrently(do_something_1, do_something_2)\n",
    "print(f'results: {results}')"
   ]
  },
  {
   "cell_type": "markdown",
   "id": "a56bb532",
   "metadata": {},
   "source": [
    "We can also pass functions by wrapping the functions in `Call()`, which is a class designed for this purpose:"
   ]
  },
  {
   "cell_type": "code",
   "execution_count": 3,
   "id": "51747dc9",
   "metadata": {},
   "outputs": [
    {
     "name": "stdout",
     "output_type": "stream",
     "text": [
      "start 1\n",
      "start 3\n",
      "end 1\n",
      "end 3\n"
     ]
    },
    {
     "name": "stdout",
     "output_type": "stream",
     "text": [
      "end 1\n"
     ]
    },
    {
     "name": "stdout",
     "output_type": "stream",
     "text": [
      "end 3\n"
     ]
    },
    {
     "data": {
      "text/plain": [
       "{'do_something_1': 1, 'do_something_3': (1, 2, 3)}"
      ]
     },
     "execution_count": 3,
     "metadata": {},
     "output_type": "execute_result"
    }
   ],
   "source": [
    "results = lb.concurrently(do_something_1, lb.Call(do_something_3, 1,2,c=3))\n",
    "results"
   ]
  },
  {
   "cell_type": "markdown",
   "id": "d82bd6e7",
   "metadata": {},
   "source": [
    "More than one of the functions running concurrently may raise exceptions. Tracebacks print to the screen, and by default `ConcurrentException` is also raised:"
   ]
  },
  {
   "cell_type": "code",
   "execution_count": 4,
   "id": "8dc1e4b9",
   "metadata": {},
   "outputs": [
    {
     "name": "stdout",
     "output_type": "stream",
     "text": [
      "start 4\n",
      "start 5\n"
     ]
    },
    {
     "name": "stderr",
     "output_type": "stream",
     "text": [
      "Traceback (most recent call last):\n",
      "  File \"/var/folders/4c/2cryg6ld5b10g45f5cpsrf740016fl/T/ipykernel_53893/3738405091.py\", line 24, in do_something_4\n",
      "    raise ValueError('I had an error')\n",
      "ValueError: I had an error\n",
      "Traceback (most recent call last):\n",
      "  File \"/var/folders/4c/2cryg6ld5b10g45f5cpsrf740016fl/T/ipykernel_53893/3738405091.py\", line 31, in do_something_5\n",
      "    raise IndexError('I had a different error')\n",
      "IndexError: I had a different error\n",
      "Traceback (most recent call last):\n",
      "  File \"/var/folders/4c/2cryg6ld5b10g45f5cpsrf740016fl/T/ipykernel_53893/3738405091.py\", line 24, in do_something_4\n",
      "    raise ValueError('I had an error')\n",
      "ValueError: I had an error\n",
      "Traceback (most recent call last):\n",
      "  File \"/var/folders/4c/2cryg6ld5b10g45f5cpsrf740016fl/T/ipykernel_53893/3738405091.py\", line 31, in do_something_5\n",
      "    raise IndexError('I had a different error')\n",
      "IndexError: I had a different error\n"
     ]
    },
    {
     "name": "stderr",
     "output_type": "stream",
     "text": [
      "Traceback (most recent call last):\n",
      "  File \"/var/folders/4c/2cryg6ld5b10g45f5cpsrf740016fl/T/ipykernel_53893/3738405091.py\", line 31, in do_something_5\n",
      "    raise IndexError('I had a different error')\n",
      "IndexError: I had a different error\n"
     ]
    },
    {
     "name": "stderr",
     "output_type": "stream",
     "text": [
      "Traceback (most recent call last):\n",
      "  File \"/var/folders/4c/2cryg6ld5b10g45f5cpsrf740016fl/T/ipykernel_53893/3738405091.py\", line 24, in do_something_4\n",
      "    raise ValueError('I had an error')\n",
      "ValueError: I had an error\n",
      "Traceback (most recent call last):\n",
      "  File \"/var/folders/4c/2cryg6ld5b10g45f5cpsrf740016fl/T/ipykernel_53893/3738405091.py\", line 31, in do_something_5\n",
      "    raise IndexError('I had a different error')\n",
      "IndexError: I had a different error\n"
     ]
    },
    {
     "ename": "ConcurrentException",
     "evalue": "2 call(s) raised exceptions",
     "output_type": "error",
     "traceback": [
      "\u001b[0;31m---------------------------------------------------------------------------\u001b[0m",
      "\u001b[0;31mConcurrentException\u001b[0m                       Traceback (most recent call last)",
      "Cell \u001b[0;32mIn[4], line 3\u001b[0m\n\u001b[1;32m      1\u001b[0m \u001b[38;5;28;01mfrom\u001b[39;00m \u001b[38;5;21;01mlabbench\u001b[39;00m \u001b[38;5;28;01mimport\u001b[39;00m concurrently, Call\n\u001b[0;32m----> 3\u001b[0m results \u001b[38;5;241m=\u001b[39m \u001b[43mconcurrently\u001b[49m\u001b[43m(\u001b[49m\u001b[43mdo_something_4\u001b[49m\u001b[43m,\u001b[49m\u001b[43m \u001b[49m\u001b[43mdo_something_5\u001b[49m\u001b[43m)\u001b[49m\n\u001b[1;32m      4\u001b[0m results\n",
      "\u001b[0;31mConcurrentException\u001b[0m: 2 call(s) raised exceptions"
     ]
    }
   ],
   "source": [
    "from labbench import concurrently, Call\n",
    "\n",
    "results = concurrently(do_something_4, do_something_5)\n",
    "results"
   ]
  },
  {
   "cell_type": "markdown",
   "id": "b0964266",
   "metadata": {},
   "source": [
    "the `catch` flag changes concurrent exception handling behavior to return values of functions that did not raise exceptions (instead of raising `ConcurrentException`). The return dictionary only includes keys for functions that did not raise exceptions."
   ]
  },
  {
   "cell_type": "code",
   "execution_count": null,
   "id": "0a917daa",
   "metadata": {},
   "outputs": [],
   "source": [
    "from labbench import concurrently, Call\n",
    "\n",
    "results = concurrently(do_something_4, do_something_1, catch=True)\n",
    "results"
   ]
  }
 ],
 "metadata": {
  "jupytext": {
   "text_representation": {
    "extension": ".md",
    "format_name": "myst",
    "format_version": 0.13,
    "jupytext_version": "1.15.1"
   }
  },
  "kernelspec": {
   "display_name": "base",
   "language": "python",
   "name": "python3"
  },
  "language_info": {
   "codemirror_mode": {
    "name": "ipython",
    "version": 3
   },
   "file_extension": ".py",
   "mimetype": "text/x-python",
   "name": "python",
   "nbconvert_exporter": "python",
   "pygments_lexer": "ipython3",
   "version": "3.12.1"
  },
  "source_map": [
   12,
   17,
   23,
   57,
   61,
   66,
   70,
   73,
   77,
   82,
   86
  ]
 },
 "nbformat": 4,
 "nbformat_minor": 5
}