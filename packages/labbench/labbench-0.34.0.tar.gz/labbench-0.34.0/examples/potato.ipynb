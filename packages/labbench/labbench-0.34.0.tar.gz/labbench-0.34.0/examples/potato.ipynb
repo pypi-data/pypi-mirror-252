{
 "cells": [
  {
   "cell_type": "markdown",
   "id": "7346acba",
   "metadata": {},
   "source": [
    "## How to manage concurrency\n",
    "`labbench` includes simplified concurrency support for this kind of I/O-constrained operations like waiting for instruments to perform long operations. It is not suited for parallelizing CPU-intensive tasks because the operations share a single process on one CPU core, instead of multiprocessing, which may be able to spread operations across multiple CPU cores."
   ]
  },
  {
   "cell_type": "markdown",
   "id": "fe163b6f",
   "metadata": {},
   "source": [
    "### Example\n",
    "Here are very fake functions that just use `time.sleep` to block. They simulate longer instrument calls (such as triggering or acquisition) that take some time to complete.\n",
    "\n",
    "Notice that `do_something_3` takes 3 arguments (and returns them), and that `do_something_4` raises an exception."
   ]
  },
  {
   "cell_type": "code",
   "execution_count": null,
   "id": "c81fe647",
   "metadata": {},
   "outputs": [],
   "source": [
    "import time\n",
    "\n",
    "\n",
    "def do_something_1():\n",
    "    print('start 1')\n",
    "    time.sleep(1)\n",
    "    print('end 1')\n",
    "    return 1\n",
    "\n",
    "\n",
    "def do_something_2():\n",
    "    print('start 2')\n",
    "    time.sleep(2)\n",
    "    print('end 2')\n",
    "    return 2\n",
    "\n",
    "\n",
    "def do_something_3(a, b, c):\n",
    "    print('start 3')\n",
    "    time.sleep(2.5)\n",
    "    print('end 3')\n",
    "    return a, b, c\n",
    "\n",
    "\n",
    "def do_something_4():\n",
    "    print('start 4')\n",
    "    time.sleep(3)\n",
    "    raise ValueError('I had an error')\n",
    "    print('end 4')\n",
    "    return 4\n",
    "\n",
    "\n",
    "def do_something_5():\n",
    "    print('start 5')\n",
    "    time.sleep(4)\n",
    "    raise IndexError('I had a different error')\n",
    "    print('end 5')\n",
    "    return 4"
   ]
  },
  {
   "cell_type": "markdown",
   "id": "8b0cec26",
   "metadata": {},
   "source": [
    "Here is the simplest example, where we call functions `do_something_1` and `do_something_2` that take no arguments and raise no exceptions:"
   ]
  },
  {
   "cell_type": "code",
   "execution_count": null,
   "id": "a0d33ce3",
   "metadata": {},
   "outputs": [],
   "source": [
    "import labbench as lb\n",
    "\n",
    "results = lb.concurrently(do_something_1, do_something_2)\n",
    "print(f'results: {results}')"
   ]
  },
  {
   "cell_type": "markdown",
   "id": "4c6e44ff",
   "metadata": {},
   "source": [
    "We can also pass functions by wrapping the functions in `Call()`, which is a class designed for this purpose:"
   ]
  },
  {
   "cell_type": "code",
   "execution_count": null,
   "id": "37b325e9",
   "metadata": {},
   "outputs": [],
   "source": [
    "results = lb.concurrently(do_something_1, lb.Call(do_something_3, 1, 2, c=3))\n",
    "results"
   ]
  },
  {
   "cell_type": "markdown",
   "id": "9c74053d",
   "metadata": {},
   "source": [
    "More than one of the functions running concurrently may raise exceptions. Tracebacks print to the screen, and by default `ConcurrentException` is also raised:"
   ]
  },
  {
   "cell_type": "code",
   "execution_count": null,
   "id": "f5654472",
   "metadata": {},
   "outputs": [],
   "source": [
    "from labbench import concurrently\n",
    "\n",
    "results = concurrently(do_something_4, do_something_5)\n",
    "results"
   ]
  },
  {
   "cell_type": "markdown",
   "id": "a28d7e2e",
   "metadata": {},
   "source": [
    "the `catch` flag changes concurrent exception handling behavior to return values of functions that did not raise exceptions (instead of raising `ConcurrentException`). The return dictionary only includes keys for functions that did not raise exceptions."
   ]
  },
  {
   "cell_type": "code",
   "execution_count": null,
   "id": "1fcc8c9d",
   "metadata": {},
   "outputs": [],
   "source": [
    "from labbench import concurrently\n",
    "\n",
    "results = concurrently(do_something_4, do_something_1, catch=True)\n",
    "results"
   ]
  }
 ],
 "metadata": {
  "kernelspec": {
   "display_name": "Python 3.8.5 64-bit ('base': conda)",
   "name": "python385jvsc74a57bd0584ca3e41de69dadb90590574368a536937183574270e0c5348c810208f0dc2f"
  }
 },
 "nbformat": 4,
 "nbformat_minor": 5
}
